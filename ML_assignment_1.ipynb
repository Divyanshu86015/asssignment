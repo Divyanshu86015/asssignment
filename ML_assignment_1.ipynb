{
  "nbformat": 4,
  "nbformat_minor": 0,
  "metadata": {
    "colab": {
      "provenance": []
    },
    "kernelspec": {
      "name": "python3",
      "display_name": "Python 3"
    },
    "language_info": {
      "name": "python"
    }
  },
  "cells": [
    {
      "cell_type": "markdown",
      "source": [
        "Q1: Explain the following with an example:\n",
        "\n",
        "1. Artificial Intelligence\n",
        "2. Machine Learning\n",
        "3. Deep Learning"
      ],
      "metadata": {
        "id": "5C1M54yaLg8n"
      }
    },
    {
      "cell_type": "markdown",
      "source": [
        "Answer =  1. Artificial Intelligence: Smart application that can perform It's own task without any human invention\n",
        "\n",
        "Example: Self driving car , Robots, Alexa ,Siri\n",
        "\n",
        "2.Machine Learning: It provide stats tool to analyze ,visulize,predictive model.\n",
        "\n",
        "Example: Recommendation system .\n",
        "\n",
        "3.Deep learning : It mimic the human brain.\n",
        "\n",
        "Example: Object detection ,Image recognition ,CHATBOT .\n",
        "\n",
        "\n"
      ],
      "metadata": {
        "id": "vgTJqKG9LzDO"
      }
    },
    {
      "cell_type": "code",
      "execution_count": null,
      "metadata": {
        "id": "4_YTw7vCLZQP"
      },
      "outputs": [],
      "source": []
    },
    {
      "cell_type": "markdown",
      "source": [
        "Q2: What is supervised learning? List some examples of supervised learning."
      ],
      "metadata": {
        "id": "lnMbGLlgOa2t"
      }
    },
    {
      "cell_type": "markdown",
      "source": [
        "Answer: Supervised learning is a type of machine learning where the model is trained using labeled data. This means that the dataset contains both input data and the corresponding correct output (or label). The algorithm learns to map inputs to the correct output by finding patterns in the labeled data. Once trained, the model can predict the correct output for new, unseen data.\n",
        "\n",
        "Example: 1.Spam Email Detection:\n",
        "Description: A machine learning model is trained using emails labeled as either \"spam\" or \"not spam.\" The model learns to classify future emails based on the patterns found in the training data.\n",
        "\n",
        "2.Image Classification :\n",
        "Description: A model is trained using images labeled with categories, such as cats, dogs, cars, etc. Once trained, it can classify new images based on what it learned."
      ],
      "metadata": {
        "id": "UYs43HwmSn2r"
      }
    },
    {
      "cell_type": "code",
      "source": [],
      "metadata": {
        "id": "jsiXT7bxSm3p"
      },
      "execution_count": null,
      "outputs": []
    },
    {
      "cell_type": "markdown",
      "source": [
        "Q3: What is unsupervised learning? List some examples of unsupervised learning.\n",
        "\n",
        "Answer : Unsupervised learning is a type of machine learning where the model is trained on data that is neither labeled nor categorized. The goal is for the model to find hidden patterns or structures in the input data without any guidance or supervision. In unsupervised learning, the algorithm learns from the input data and organizes it in some way, such as clustering similar data points or reducing the dimensionality of the data.\n",
        "\n",
        "Clustering:The algorithm groups similar data points together based on patterns in the data.\n",
        "\n",
        "Example: Customer Segmentation – A retail business might use clustering to group customers based on purchasing behavior. The algorithm might identify groups such as frequent buyers, occasional buyers, and one-time shoppers.\n",
        "\n"
      ],
      "metadata": {
        "id": "DH_uAMteTctl"
      }
    },
    {
      "cell_type": "code",
      "source": [],
      "metadata": {
        "id": "NHJAI45KU2sk"
      },
      "execution_count": null,
      "outputs": []
    },
    {
      "cell_type": "markdown",
      "source": [
        "Q4: What is the difference between AI, ML, DL, and DS?\n",
        "\n",
        "Answer:The terms AI, ML, DL, and DS are often used interchangeably, but they refer to different concepts within the broader field of data science and technology\n",
        "\n",
        "1.AI :  AI is the broadest concept, referring to machines or systems that can mimic human intelligence. AI aims to enable machines to perform tasks like reasoning, problem-solving, perception, and understanding natural language.\n",
        "\n",
        "2.ML: ML is a subset of AI that focuses on algorithms that allow machines to learn from data. Instead of being explicitly programmed to perform a task, ML systems improve over time as they are exposed to more data.\n",
        "\n",
        "3.DL:DL is a specialized subset of ML that uses neural networks with multiple layers (hence \"deep\") to model complex patterns in data. Deep learning algorithms excel at recognizing patterns in unstructured data, like images, audio, and text.\n",
        "\n",
        "4.DS: DS is an interdisciplinary field that focuses on extracting knowledge and insights from data. It involves a combination of techniques from statistics, mathematics, programming, and domain expertise to analyze and interpret complex data."
      ],
      "metadata": {
        "id": "CU02XctcgjUQ"
      }
    },
    {
      "cell_type": "code",
      "source": [],
      "metadata": {
        "id": "7E3Gidqdh81E"
      },
      "execution_count": null,
      "outputs": []
    },
    {
      "cell_type": "markdown",
      "source": [
        "Q5: What are the main differences between supervised, unsupervised, and semi-supervised learning?\n",
        "  \n",
        "Answer: - **Supervised Learning**: Learns from labeled data to make predictions or classify new data.\n",
        "\n",
        "**Unsupervised Learning**: Finds hidden patterns in unlabeled data without guidance.\n",
        "\n",
        "**Semi-Supervised Learning**: Combines a small amount of labeled data with a large amount of unlabeled data to improve learning efficiency and accuracy."
      ],
      "metadata": {
        "id": "eRiAUg1CiYY7"
      }
    },
    {
      "cell_type": "code",
      "source": [],
      "metadata": {
        "id": "EZ56mlHki1qz"
      },
      "execution_count": null,
      "outputs": []
    },
    {
      "cell_type": "markdown",
      "source": [
        "Q6: What is train, test and validation split? Explain the importance of each term.\n",
        "\n",
        "Answer: In machine learning, splitting a dataset into train, test, and validation sets is essential for training models effectively and ensuring their generalizability to new data.\n",
        "\n",
        "1. **Training Set**: The training set is the portion of the dataset used to train the machine learning model. The model learns the relationships between the input data and the output (target) labels by adjusting its internal parameters based on this data.\n",
        "\n",
        " Purpose: To train the model by allowing it to learn patterns from the data.\n",
        "\n",
        " Importance: The model uses this data to identify patterns, relationships, and\n",
        " features that will be important for making predictions. It's the most critical part for model learning.\n",
        "\n",
        " Example: If you have 1,000 labeled images of cats and dogs, 70% (700 images) might be used as the training set.\n",
        "\n",
        "2. **Validation Set**: The validation set is a portion of the data used to evaluate the model’s performance during training. It helps in fine-tuning the model by providing feedback on how well the model is performing on unseen data (data not used in training). It’s also used for hyperparameter tuning (adjusting settings like learning rate, depth of a tree, etc.).\n",
        "\n",
        "   Purpose: To validate the model during training and to tune hyperparameters. It helps prevent overfitting (when the model performs well on the training data but poorly on new, unseen data).\n",
        "\n",
        " Importance: The validation set provides a real-time evaluation of model performance. It helps in selecting the best model by providing insight into how well the model generalizes to new data.\n",
        "\n",
        " Example: Out of the 1,000 images, 15% (150 images) might be used as the validation set to check how well the model is performing during training.\n",
        "\n",
        "3. **Test Set**: The test set is the portion of the data used after the model has been trained and validated. It’s used to evaluate the final model's performance on completely unseen data, which the model has never encountered during training or validation. This provides an unbiased estimate of the model’s ability to generalize to new data.\n",
        "\n",
        " Purpose: To test the final performance of the model on unseen data. It ensures that the model has not just memorized the training data and can generalize to new inputs.\n",
        "\n",
        " Importance: The test set gives the final assessment of the model's real-world performance, ensuring that it can make accurate predictions on new data.\n",
        "\n",
        " Example: The remaining 15% (150 images) of the dataset might be used as the test set to evaluate the final model’s accuracy on unseen data.\n",
        "\n",
        "\n"
      ],
      "metadata": {
        "id": "FIsgG2ESjpYs"
      }
    },
    {
      "cell_type": "code",
      "source": [],
      "metadata": {
        "id": "XYdNKzXxkb7A"
      },
      "execution_count": null,
      "outputs": []
    },
    {
      "cell_type": "markdown",
      "source": [
        "Q7: How can unsupervised learning be used in anomaly detection?\n",
        "\n",
        "Answer :**Anomaly detection** is the process of identifying unusual patterns, outliers, or deviations from the norm in data. Since anomalies are rare and often do not follow common patterns, unsupervised learning is well-suited for this task because it does not require labeled data, which is often unavailable in anomaly detection scenarios.\n",
        "\n",
        "Unsupervised learning algorithms can detect anomalies by identifying data points that are different from the majority of the data. This can be done through clustering, density estimation, or dimensionality reduction techniques."
      ],
      "metadata": {
        "id": "GSk6i8iwl1Q3"
      }
    },
    {
      "cell_type": "code",
      "source": [],
      "metadata": {
        "id": "anOFQztRmjEs"
      },
      "execution_count": null,
      "outputs": []
    },
    {
      "cell_type": "markdown",
      "source": [
        "Q8: List down some commonly used supervised learning algorithms and unsupervised learning\n",
        "algorithms.\n",
        "\n",
        "Answer :\n",
        " 1. **Supervised learning algorithms** are used when the dataset contains input-output pairs (labeled data). The model learns from this labeled data to make predictions or classify new data points.\n",
        "\n",
        "  **Linear Regression**:\n",
        "\n",
        "   Use Case: Predicting continuous outcomes (e.g., house prices, stock prices).\n",
        "\n",
        "  **Logistic Regression**:\n",
        "\n",
        "  Use Case: Binary classification problems (e.g., spam detection, medical diagnosis).\n",
        "\n",
        "  **Decision Trees**:\n",
        "\n",
        "  Use Case: Classification and regression (e.g., customer churn prediction, loan approval).\n",
        "\n",
        "  **Random Forest:**\n",
        "\n",
        "  Use Case: Ensemble method for classification and regression (e.g., credit scoring, medical diagnoses).\n",
        "\n",
        "  **Support Vector Machines (SVM):**\n",
        "\n",
        "  Use Case: Classification tasks (e.g., image classification, cancer detection).\n",
        "\n",
        "  **K-Nearest Neighbors (KNN):**\n",
        "\n",
        "  Use Case: Classification and regression (e.g., recommendation systems, pattern recognition).\n",
        "\n",
        "  **Naive Bayes:**\n",
        "\n",
        "   Use Case: Classification based on probability (e.g., spam filtering, sentiment analysis).\n",
        "\n",
        "  **Gradient Boosting Machines (GBM):**\n",
        "\n",
        "  Use Case: Classification and regression (e.g., predictive analytics, ranking systems).\n",
        "\n",
        "  **XGBoost (Extreme Gradient Boosting):**\n",
        "\n",
        "  Use Case: High-performance gradient boosting for classification and regression (e.g., Kaggle competitions, financial modeling).\n",
        "\n",
        "  **Artificial Neural Networks (ANN):**\n",
        "\n",
        "  Use Case: Complex tasks in classification and regression (e.g., image recognition, natural language processing).\n",
        "\n",
        "\n",
        " 2. **Unsupervised learning algorithms** are used when the dataset contains only input data (unlabeled). These algorithms find hidden patterns, structures, or relationships in the data.\n",
        "\n",
        "  **K-Means Clustering:**\n",
        "\n",
        "  Use Case: Grouping similar data points into clusters (e.g., customer segmentation, document categorization).\n",
        "\n",
        "  **Hierarchical Clustering:**\n",
        "\n",
        "  Use Case: Creating a hierarchy of clusters (e.g., gene sequence analysis, social network analysis).\n",
        "\n",
        "  **DBSCAN (Density-Based Spatial Clustering of Applications with Noise):**\n",
        "\n",
        "  Use Case: Discovering clusters with arbitrary shapes and detecting outliers (e.g., geographical data, anomaly detection).\n",
        "\n",
        "  **Principal Component Analysis (PCA):**\n",
        "\n",
        "  Use Case: Dimensionality reduction (e.g., data compression, feature extraction).\n",
        "\n",
        "  **t-SNE (t-Distributed Stochastic Neighbor Embedding):**\n",
        "\n",
        "  Use Case: Visualizing high-dimensional data in two or three dimensions (e.g., visualizing word embeddings, image recognition).\n",
        "\n",
        "  **Autoencoders (Neural Networks):**\n",
        "\n",
        "  Use Case: Learning efficient representations for dimensionality reduction and anomaly detection (e.g., image compression, fraud detection).\n",
        "\n",
        "  **Gaussian Mixture Models (GMM):**\n",
        "\n",
        "  Use Case: Clustering and density estimation (e.g., speech recognition, anomaly detection).\n",
        "\n",
        "  **Isolation Forest:**\n",
        "\n",
        "  Use Case: Anomaly detection by isolating data points (e.g., fraud detection, network intrusion detection).\n",
        "\n",
        "  **Apriori Algorithm:**\n",
        "\n",
        "  Use Case: Association rule learning (e.g., market basket analysis, recommender systems).\n",
        "\n",
        "  **Self-Organizing Maps (SOMs):**\n",
        "\n",
        "  Use Case: Visualizing and interpreting complex data (e.g., pattern recognition, clustering).\n"
      ],
      "metadata": {
        "id": "RU8UcFfmmoUi"
      }
    },
    {
      "cell_type": "code",
      "source": [],
      "metadata": {
        "id": "SQCujmfbo11n"
      },
      "execution_count": null,
      "outputs": []
    }
  ]
}