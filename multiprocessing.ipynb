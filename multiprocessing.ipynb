{
 "cells": [
  {
   "cell_type": "markdown",
   "id": "64b1f339-2d5d-45c9-bfac-9e5f5196bda6",
   "metadata": {},
   "source": [
    "Q1. What is multiprocessing in python? Why is it useful?"
   ]
  },
  {
   "cell_type": "markdown",
   "id": "9998152f-b5c2-4905-9e93-65694a534d9c",
   "metadata": {},
   "source": [
    "Answer = Python's multiprocessing module is a technology that has the ability to initiate and control multiple processes on the computer, so that more than one operation is happening at the same time can execute at a time. It offers a method for the use of more than one CPU and cores parallely to execute the application, and as a result, the performance and efficiency of the application, particularly those issues that are CPU-bound soar heavenwards."
   ]
  },
  {
   "cell_type": "markdown",
   "id": "56384861-55b9-4515-ab5a-af373aa1ebed",
   "metadata": {},
   "source": [
    "Why is it useful?\n",
    "\n",
    "Enhanced Performance:\n",
    "Utilizes multiple CPU cores for parallel execution, significantly improving performance for CPU-bound tasks.\n",
    "\n",
    "True Parallelism:\n",
    "Bypasses Python’s Global Interpreter Lock (GIL) by using separate processes, allowing true parallel execution.\n",
    "\n",
    "Better Resource Utilization:\n",
    "Runs multiple tasks concurrently, making efficient use of system resources and improving application responsiveness.\n",
    "\n",
    "Increased Reliability:\n",
    "Isolated memory spaces for each process mean that a crash in one process does not affect others, enhancing application stability.\n",
    "\n",
    "Scalability:\n",
    "Enables applications to scale across multiple cores or machines, effectively distributing workload and improving throughput.\n",
    "\n",
    "Simplified Parallel Programming:\n",
    "Provides a straightforward API for creating and managing processes, making it easier to write and manage parallel code."
   ]
  },
  {
   "cell_type": "code",
   "execution_count": null,
   "id": "953f1995-1e6f-41ea-98e2-e2dc60b83673",
   "metadata": {},
   "outputs": [],
   "source": []
  },
  {
   "cell_type": "markdown",
   "id": "adf00d44-eac8-4c39-ba41-800384c2ae40",
   "metadata": {},
   "source": [
    "Q2. What are the differences between multiprocessing and multithreading?"
   ]
  },
  {
   "cell_type": "markdown",
   "id": "e305cf6e-a716-4508-82ed-b6f81e5d6e75",
   "metadata": {},
   "source": [
    "Answer = Multithreading is the possibility of a processor to perform simultaneously different threads of tasks, each thread is of a process. Multiprocessing is the type of system that is able to parallel execute more than one processor, where a processor might be single or multithread."
   ]
  },
  {
   "cell_type": "code",
   "execution_count": null,
   "id": "28d73fd5-a0d7-4999-8eec-a7d129b84786",
   "metadata": {},
   "outputs": [],
   "source": []
  },
  {
   "cell_type": "markdown",
   "id": "1b7f938f-e8d5-452f-bf4b-67b8bec68a7a",
   "metadata": {},
   "source": [
    "Q3. Write a python code to create a process using the multiprocessing module."
   ]
  },
  {
   "cell_type": "code",
   "execution_count": 1,
   "id": "8736aec2-1423-470f-a30f-60d0c1792d01",
   "metadata": {},
   "outputs": [
    {
     "name": "stdout",
     "output_type": "stream",
     "text": [
      "Worker process is running\n",
      "Main process is done\n"
     ]
    }
   ],
   "source": [
    "import multiprocessing\n",
    "\n",
    "def worker():\n",
    "    \"\"\"Function to be executed in a new process\"\"\"\n",
    "    print('Worker process is running')\n",
    "\n",
    "if __name__ == '__main__':\n",
    "    # Create a new process\n",
    "    process = multiprocessing.Process(target=worker)\n",
    "    \n",
    "    # Start the process\n",
    "    process.start()\n",
    "    \n",
    "    # Wait for the process to complete\n",
    "    process.join()\n",
    "\n",
    "    print('Main process is done')\n"
   ]
  },
  {
   "cell_type": "code",
   "execution_count": null,
   "id": "481a54fb-5976-4ddf-b23f-4c9004f58ed6",
   "metadata": {},
   "outputs": [],
   "source": []
  },
  {
   "cell_type": "markdown",
   "id": "4fbd7ab7-0c3a-4be7-855a-81fe38568eaa",
   "metadata": {},
   "source": [
    "Q4. What is a multiprocessing pool in python? Why is it used?\n"
   ]
  },
  {
   "cell_type": "markdown",
   "id": "1e19636a-5438-4c90-bff1-6c52febe9353",
   "metadata": {},
   "source": [
    "Answer = Multiprocessing Pool in Python\n",
    "\n",
    "A Python multiprocessing pool is a very convenient way to manage a pool of worker processes in parallel where the jobs are submitted to the data processing pool by the Pool object. The Pool class in the multiprocessing module provides a way to parallelize the execution of a function across multiple input values, distributing the input data across processes (data parallelism).\n"
   ]
  },
  {
   "cell_type": "markdown",
   "id": "b22af056-1f48-4185-bfd7-2c75e41f0416",
   "metadata": {},
   "source": [
    "Why is a Multiprocessing Pool Used?\n",
    "\n",
    "\n",
    "Simplifies Parallel Execution:\n",
    "The Pool class abstracts the management of multiple processes, making it easier to distribute tasks and collect results.\n",
    "\n",
    "Efficient Resource Management:\n",
    "Manages a fixed number of worker processes, which can reuse processes for multiple tasks, reducing the overhead of process creation and destruction.\n",
    "\n",
    "Load Balancing:\n",
    "Distributes the workload evenly among the available processes, ensuring that no single process is overloaded while others remain idle.\n",
    "\n",
    "Convenient API:\n",
    "Provides methods such as apply, map, apply_async, and map_async, which allow synchronous and asynchronous execution of tasks.\n",
    "\n",
    "Improves Performance:\n",
    "By utilizing multiple CPU cores, a pool can significantly speed up the execution of CPU-bound tasks."
   ]
  },
  {
   "cell_type": "code",
   "execution_count": null,
   "id": "f2e04fac-7d85-43b0-b86b-72f48662564d",
   "metadata": {},
   "outputs": [],
   "source": []
  },
  {
   "cell_type": "markdown",
   "id": "26fe3f93-f8cd-4d6c-8dd2-3d443bdcd1b6",
   "metadata": {},
   "source": [
    "Q5. How can we create a pool of worker processes in python using the multiprocessing module?"
   ]
  },
  {
   "cell_type": "code",
   "execution_count": 2,
   "id": "b803bd47-5951-46df-a9d6-e73545c2e69c",
   "metadata": {},
   "outputs": [
    {
     "name": "stdout",
     "output_type": "stream",
     "text": [
      "[0, 1, 4, 9, 16, 25, 36, 49, 64, 81]\n"
     ]
    }
   ],
   "source": [
    "import multiprocessing\n",
    "\n",
    "def worker_function(x):\n",
    "    return x * x\n",
    "\n",
    "if __name__ == '__main__':\n",
    "    pool_size = 4\n",
    "    with multiprocessing.Pool(processes=pool_size) as pool:\n",
    "        results = [pool.apply_async(worker_function, args=(i,)) for i in range(10)]\n",
    "        output = [result.get() for result in results]\n",
    "        \n",
    "    print(output)\n"
   ]
  },
  {
   "cell_type": "code",
   "execution_count": null,
   "id": "7a670414-3523-4b98-88be-c1b3fb4435ae",
   "metadata": {},
   "outputs": [],
   "source": []
  },
  {
   "cell_type": "markdown",
   "id": "af28b66f-66f3-4a4d-8ae1-ccc3b5870030",
   "metadata": {},
   "source": [
    "Q6. Write a python program to create 4 processes, each process should print a different number using the multiprocessing module in python."
   ]
  },
  {
   "cell_type": "code",
   "execution_count": 3,
   "id": "f3093842-1213-4d28-b629-3767189dc3af",
   "metadata": {},
   "outputs": [
    {
     "name": "stdout",
     "output_type": "stream",
     "text": [
      "Process Process-6 prints: 1\n",
      "Process Process-7 prints: 2\n",
      "Process Process-8 prints: 3\n",
      "Process Process-9 prints: 4\n",
      "All processes are done\n"
     ]
    }
   ],
   "source": [
    "import multiprocessing\n",
    "\n",
    "def print_number(number):\n",
    "    print(f'Process {multiprocessing.current_process().name} prints: {number}')\n",
    "\n",
    "if __name__ == '__main__':\n",
    "    # List of numbers to print\n",
    "    numbers = [1, 2, 3, 4]\n",
    "    \n",
    "    # Create a list to hold the process objects\n",
    "    processes = []\n",
    "    \n",
    "    # Create and start a process for each number\n",
    "    for number in numbers:\n",
    "        process = multiprocessing.Process(target=print_number, args=(number,))\n",
    "        processes.append(process)\n",
    "        process.start()\n",
    "    \n",
    "    # Wait for all processes to complete\n",
    "    for process in processes:\n",
    "        process.join()\n",
    "    \n",
    "    print('All processes are done')\n"
   ]
  },
  {
   "cell_type": "code",
   "execution_count": null,
   "id": "12b29f5b-d538-4353-91a4-1045ddd5a4fd",
   "metadata": {},
   "outputs": [],
   "source": []
  }
 ],
 "metadata": {
  "kernelspec": {
   "display_name": "Python 3 (ipykernel)",
   "language": "python",
   "name": "python3"
  },
  "language_info": {
   "codemirror_mode": {
    "name": "ipython",
    "version": 3
   },
   "file_extension": ".py",
   "mimetype": "text/x-python",
   "name": "python",
   "nbconvert_exporter": "python",
   "pygments_lexer": "ipython3",
   "version": "3.10.8"
  }
 },
 "nbformat": 4,
 "nbformat_minor": 5
}
