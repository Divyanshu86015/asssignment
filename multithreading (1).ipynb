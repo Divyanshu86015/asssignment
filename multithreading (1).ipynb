{
 "cells": [
  {
   "cell_type": "markdown",
   "id": "0a47a8ce-c6e1-4e80-b073-d97f0be0fb64",
   "metadata": {},
   "source": [
    "Q1. What is multithreading in python ? Why is it used? Name the module used to handle threads in pyhton."
   ]
  },
  {
   "cell_type": "markdown",
   "id": "5deb7984-c1c4-4eef-a036-6b23c748960f",
   "metadata": {},
   "source": [
    "Answer= MULTITHREDING-  Multithreading refers to the mechanism of dividing the main task in more than one sub-tasks and executing them in an overlapping manner. This makes the execution faster as compared to single thread.A thread is the smallest unit of a program or process that can be scheduled and executed by the operating system.\n",
    "\n",
    "USES- Multithreading improves the performance of applications by running the task simultaneously.                                                                                         Better Responsiveness: Multithreading improves the responsiveness of your backend applications by running threads after a task is blocked.\n",
    "\n",
    "THE MODULE IS USED TO HANDLE THREADS - The threading module is a high-level implementation of multithreading used to deploy an application in Python. To use multithreading, we need to import the threading module in Python Program. A start() method is used to initiate the activity of a thread.\n",
    "\n",
    "\n"
   ]
  },
  {
   "cell_type": "code",
   "execution_count": null,
   "id": "c106e224-7ba0-4ba2-b9c5-542ab58da734",
   "metadata": {},
   "outputs": [],
   "source": []
  },
  {
   "cell_type": "markdown",
   "id": "c18fd024-736d-47ee-a5be-5157ce0d053c",
   "metadata": {},
   "source": [
    "Q2. Why threading module is used?Write the use of following function:"
   ]
  },
  {
   "cell_type": "markdown",
   "id": "577dcdd6-9704-4038-ad6d-9e5ad2ec1c51",
   "metadata": {},
   "source": [
    " 1.activeCount()"
   ]
  },
  {
   "cell_type": "markdown",
   "id": "c0dae759-5ee3-440b-9a5a-214991a0ecba",
   "metadata": {},
   "source": [
    "2.currentThread()"
   ]
  },
  {
   "cell_type": "markdown",
   "id": "18c2b294-2558-411b-837d-8b6cd15cb70b",
   "metadata": {},
   "source": [
    "3.enumerate()"
   ]
  },
  {
   "cell_type": "markdown",
   "id": "e59f2ac5-d7c5-4d60-a4db-8257bf146977",
   "metadata": {},
   "source": [
    "Answer= The threading module allows multiple threads of execution to take place in a Python program. While threads may appear to run simultaneously, only one thread can be executed at a time. "
   ]
  },
  {
   "cell_type": "markdown",
   "id": "9a3ccfd4-d170-477e-83c8-884498b608f6",
   "metadata": {},
   "source": [
    "1. activeCount()"
   ]
  },
  {
   "cell_type": "markdown",
   "id": "105b6bb3-69fd-4253-bc50-22352942a76f",
   "metadata": {},
   "source": [
    "The activeCount() function returns the number of Thread objects currently alive. This includes the main thread and all the threads that have been started and have not yet been terminated."
   ]
  },
  {
   "cell_type": "markdown",
   "id": "11ef631a-e2c0-4d2f-8660-3666aa9941fc",
   "metadata": {},
   "source": [
    "2. currentThread()"
   ]
  },
  {
   "cell_type": "markdown",
   "id": "f3f7de64-0299-4768-83eb-66c6f3857d88",
   "metadata": {},
   "source": [
    "The currentThread() function returns the current Thread object corresponding to the caller's thread of control. This is useful for getting a reference to the thread that is currently executing."
   ]
  },
  {
   "cell_type": "markdown",
   "id": "f31b8d3c-d83b-43c0-be32-49f781199f4f",
   "metadata": {},
   "source": [
    "3. enumerate()"
   ]
  },
  {
   "cell_type": "markdown",
   "id": "ca508f5f-8af8-417a-bf86-fceb1ee84e58",
   "metadata": {},
   "source": [
    "The enumerate() function returns a list of all Thread objects currently alive. This includes the main thread, daemon threads, and all non-daemon threads that are still running or are yet to be finished"
   ]
  },
  {
   "cell_type": "code",
   "execution_count": null,
   "id": "0f305e5f-1a62-4517-a9ab-02acf7e93a96",
   "metadata": {},
   "outputs": [],
   "source": []
  },
  {
   "cell_type": "markdown",
   "id": "a264217d-3230-4a12-ab52-85a7a3f8a550",
   "metadata": {},
   "source": [
    "Q3. Explain the following function :"
   ]
  },
  {
   "cell_type": "markdown",
   "id": "8cb6494c-e28c-48a5-b6aa-6e842fb56500",
   "metadata": {},
   "source": [
    "1.run()"
   ]
  },
  {
   "cell_type": "markdown",
   "id": "e8f55467-b663-4d87-9576-7ae4d07de6c8",
   "metadata": {},
   "source": [
    "2.start()"
   ]
  },
  {
   "cell_type": "markdown",
   "id": "a96575dc-c8f1-496a-877b-c1496e31ac3f",
   "metadata": {},
   "source": [
    "3.join()"
   ]
  },
  {
   "cell_type": "markdown",
   "id": "f697ba40-8262-434a-a293-120de96e8d17",
   "metadata": {},
   "source": [
    "4.isAlive()"
   ]
  },
  {
   "cell_type": "markdown",
   "id": "a4d396ae-e23e-4a15-8501-bece13ae23b0",
   "metadata": {},
   "source": [
    "Answer = 1. run()"
   ]
  },
  {
   "cell_type": "markdown",
   "id": "f788acc8-bcc8-4ffd-bf8e-18cc17f4d857",
   "metadata": {},
   "source": [
    "The run() method defines the thread's activity, i.e., what the thread will do when it starts. When i'm subclass threading.Thread, I can override this method with the code that I want to run in the new thread."
   ]
  },
  {
   "cell_type": "code",
   "execution_count": 5,
   "id": "37efec18-9fa5-493b-8dbd-2b17c88cede8",
   "metadata": {},
   "outputs": [
    {
     "name": "stdout",
     "output_type": "stream",
     "text": [
      "Thread is running\n"
     ]
    }
   ],
   "source": [
    "import threading\n",
    "import logging\n",
    "logging.basicConfig(filename=\"test.log \", level=logging.DEBUG)\n",
    "\n",
    "class MyThread(threading.Thread):\n",
    "    \n",
    "    def run(self,):\n",
    "        try:\n",
    "            logging.debug(\"Thread is starting\")\n",
    "            \n",
    "            print(\"Thread is running\")\n",
    "            \n",
    "            raise ValueError(\"An error occurred in the thread\")\n",
    "        except Exception as e:\n",
    "            logging.error(f\"Exception in thread\")\n",
    "\n",
    "thread = MyThread()\n",
    "thread.run()  \n",
    "\n"
   ]
  },
  {
   "cell_type": "markdown",
   "id": "dcebe48e-b6fc-45d1-8035-f3c60eb3b43e",
   "metadata": {},
   "source": [
    "2. start()"
   ]
  },
  {
   "cell_type": "markdown",
   "id": "b305910b-2faa-4766-bcb5-a367a51047de",
   "metadata": {},
   "source": [
    "The start() method starts the thread by calling the run() method in a separate thread of control. This method must be called at most once per thread object."
   ]
  },
  {
   "cell_type": "code",
   "execution_count": 13,
   "id": "34d7a661-620f-4773-9374-76ce586a48e5",
   "metadata": {},
   "outputs": [
    {
     "name": "stdout",
     "output_type": "stream",
     "text": [
      "Thread is running\n",
      "Main program continues\n"
     ]
    }
   ],
   "source": [
    "class MyThread(threading.Thread):\n",
    "    def run(self):\n",
    "        try:\n",
    "            logging.debug(\"Thread is starting\")\n",
    "\n",
    "            print(\"Thread is running\")\n",
    "        \n",
    "            raise ValueError(\"An error occurred in the thread\")\n",
    "        except Exception as e:\n",
    "            logging.error(\"Exception in thread\")\n",
    "            \n",
    "thread = MyThread()\n",
    "thread.start() \n",
    "\n",
    "thread.join()\n",
    "print(\"Main program continues\")\n"
   ]
  },
  {
   "cell_type": "markdown",
   "id": "0ddf2540-5f7c-4a3d-b117-9ac0d2eb2b3e",
   "metadata": {},
   "source": [
    "3. join()"
   ]
  },
  {
   "cell_type": "markdown",
   "id": "da9ebac5-18d0-4acb-ac30-97661fb9e291",
   "metadata": {},
   "source": [
    "The join() method blocks the calling thread until the thread whose join() method is called terminates (completes its execution). This is useful to ensure that a thread has finished its work before the main program continues."
   ]
  },
  {
   "cell_type": "markdown",
   "id": "1a5107f6-1456-4e37-96f0-fcd3863bb1cd",
   "metadata": {},
   "source": [
    "same as start's code"
   ]
  },
  {
   "cell_type": "markdown",
   "id": "75601929-d52a-4920-9b2e-b35254413d21",
   "metadata": {},
   "source": [
    "4.isAlive():"
   ]
  },
  {
   "cell_type": "markdown",
   "id": "9bfcdb28-1040-4dc5-8504-72d66616daea",
   "metadata": {},
   "source": [
    "isAlive() is a method that checks whether a thread is currently running or not.\n",
    "In Python, after starting a thread with start(), we can use isAlive() to check if the thread is still active."
   ]
  },
  {
   "cell_type": "raw",
   "id": "c8ad27e8-45b9-415a-9b16-d8ecce2321a7",
   "metadata": {},
   "source": [
    "if t.isAlive():\n",
    "    print(\"Thread is still running.\")\n",
    "else:\n",
    "    print(\"Thread has finished.\")\n"
   ]
  },
  {
   "cell_type": "code",
   "execution_count": null,
   "id": "0c1f207d-335c-4e56-8482-50dc7c2cac8d",
   "metadata": {},
   "outputs": [],
   "source": []
  },
  {
   "cell_type": "markdown",
   "id": "444926af-cd15-4d3f-982d-6f240a31be8c",
   "metadata": {},
   "source": [
    "Q4. Write a python program to create two threads. Thread one must print the list of squares and thread\n",
    "two must print the list of cubes"
   ]
  },
  {
   "cell_type": "code",
   "execution_count": 40,
   "id": "2be0eea1-ec9d-4d05-a4bb-0112a9faf05f",
   "metadata": {},
   "outputs": [
    {
     "name": "stdout",
     "output_type": "stream",
     "text": [
      "Square of 1: 1\n",
      "Square of 2: 4\n",
      "Square of 3: 9\n",
      "Square of 4: 16\n",
      "Square of 5: 25\n",
      "Cube of 1: 1\n",
      "Cube of 2: 8\n",
      "Cube of 3: 27\n",
      "Cube of 4: 64\n",
      "Cube of 5: 125\n"
     ]
    }
   ],
   "source": [
    "import threading\n",
    "l1 = []\n",
    "l2 = []\n",
    "def print_squares(numbers):\n",
    "    for i in numbers:\n",
    "        print(f\"Square of {i}: {i**2}\")\n",
    "        l1.append(i)\n",
    "\n",
    "def print_cubes(numbers):\n",
    "    for i in numbers:\n",
    "        print(f\"Cube of {i}: {i**3}\")\n",
    "        l2.append(i)\n",
    "\n",
    "numbers = [1, 2, 3, 4, 5]\n",
    "\n",
    "# Creating threads\n",
    "thread1 = threading.Thread(target=print_squares, args=(numbers,))\n",
    "thread2 = threading.Thread(target=print_cubes, args=(numbers,))\n",
    "\n",
    "# Starting threads\n",
    "thread1.start()\n",
    "thread2.start()\n",
    "\n",
    "# Waiting for both threads to complete\n",
    "thread1.join()\n",
    "thread2.join()\n"
   ]
  },
  {
   "cell_type": "code",
   "execution_count": null,
   "id": "9eac34a8-790e-436b-a94e-223a8eeb289e",
   "metadata": {},
   "outputs": [],
   "source": []
  },
  {
   "cell_type": "markdown",
   "id": "5dd636e9-9565-46d6-9ae7-e72f141a3052",
   "metadata": {},
   "source": [
    "5. State advantages and disadvantages of multithreading. "
   ]
  },
  {
   "cell_type": "markdown",
   "id": "e9efff90-c69c-4119-9d62-697d26a8b161",
   "metadata": {},
   "source": [
    "Answer  = Advantages of Multithreading\n",
    "\n",
    "Increased Responsiveness: The use of multithreading in a program discharges the program's perfect performance functionality whether the trade of carrying out the responsibilities is carried out promptly or not, as tasks can run parallelly.\n",
    "\n",
    "Multithreading allows a program to remain witting of the user input even while lengthy tasks are in process since they are running side by side.\n",
    "\n",
    "Resource Sharing:In a single process, threads share resources like memory and data that can lower the cost of doing the overhead of creating and managing the processes one by one.\n",
    "\n",
    "Threads sharing memory resources and data within a single process that is a method to reduce the overhead cost of creating and managing the separate process."
   ]
  },
  {
   "cell_type": "markdown",
   "id": "011a6b48-e3c9-40e4-a28d-624f062b40a3",
   "metadata": {},
   "source": [
    "Disadvantages of Multithreading\n",
    "\n",
    "Complex Debugging and Testing:Multithreaded programs are often more difficult to debug and test as the issues like race conditions, deadlocks, and synchronization problems involved in them appear one of the reasons quickly.\n",
    "\n",
    "Context Switching Overhead:Like the CPU needing to change threads that keep on saving and loading systems and memory maps. Continuous context switching may result in performance degradation.\n",
    "\n",
    "Synchronization Issues:Proper synchronization is required to avoid race conditions, where multiple threads try to access shared resources at the same time, leading to discrepancies or unexpected results."
   ]
  },
  {
   "cell_type": "code",
   "execution_count": null,
   "id": "fdcd0e31-1610-422e-9d58-9850bbdf369a",
   "metadata": {},
   "outputs": [],
   "source": []
  },
  {
   "cell_type": "markdown",
   "id": "97fae6eb-cd7c-4633-89cd-fd7560f6c029",
   "metadata": {},
   "source": [
    "6.Explain deadlocks and race conditions."
   ]
  },
  {
   "cell_type": "markdown",
   "id": "57370f41-385d-4f85-8eac-3a7f161aeb6d",
   "metadata": {},
   "source": [
    "Answer = A deadlock is a state in a multi-threaded or multi-process system where two or greater threads or processes have no ability to go forward since each is in search of the other to release a resource. Deadlocks are sometimes seen in systems where there are multiple resources which are being shared for multiple threads or processes."
   ]
  },
  {
   "cell_type": "code",
   "execution_count": null,
   "id": "28a27386-16b6-4655-872a-083b712f6ab5",
   "metadata": {},
   "outputs": [],
   "source": []
  },
  {
   "cell_type": "code",
   "execution_count": null,
   "id": "61977269-b2c6-4d57-bba1-05dfa52a34c5",
   "metadata": {},
   "outputs": [],
   "source": []
  }
 ],
 "metadata": {
  "kernelspec": {
   "display_name": "Python 3 (ipykernel)",
   "language": "python",
   "name": "python3"
  },
  "language_info": {
   "codemirror_mode": {
    "name": "ipython",
    "version": 3
   },
   "file_extension": ".py",
   "mimetype": "text/x-python",
   "name": "python",
   "nbconvert_exporter": "python",
   "pygments_lexer": "ipython3",
   "version": "3.10.8"
  }
 },
 "nbformat": 4,
 "nbformat_minor": 5
}
