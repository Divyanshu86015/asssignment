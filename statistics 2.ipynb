{
 "cells": [
  {
   "cell_type": "markdown",
   "id": "270c78ee-8732-45da-8f4d-c4ef9c5a5cac",
   "metadata": {},
   "source": [
    "Q1. What are the three measures of central tendency?"
   ]
  },
  {
   "cell_type": "markdown",
   "id": "eeb246d8-e1be-410f-9068-e32bb0105a8b",
   "metadata": {},
   "source": [
    "Answer = There are three measures of central tendency:\n",
    "\n",
    "Mean: The mean is the arithmetic average of values in a set obtained by summing up all the values and then dividing by the total number of values.\n",
    "\n",
    "Median: The middle of the set values, if ordered in ascending or descending order. If there are an even number of them, then it is the average of the two middle ones.\n",
    "\n",
    "Mode: It is the value that comes up most often in the given values. A dataset can have one, more than one, or no mode at all if no value repeats\n",
    "."
   ]
  },
  {
   "cell_type": "code",
   "execution_count": null,
   "id": "1c3da62a-303d-48bc-bccc-5d526564351b",
   "metadata": {},
   "outputs": [],
   "source": []
  },
  {
   "cell_type": "markdown",
   "id": "caa93164-f2eb-41bc-afcb-9f6d23e67e43",
   "metadata": {},
   "source": [
    "Q2. What is the difference between the mean, median, and mode? How are they used to measure the\n",
    "central tendency of a dataset?"
   ]
  },
  {
   "cell_type": "markdown",
   "id": "a19e71cd-f80e-4e3d-a60a-9a39301dd153",
   "metadata": {},
   "source": [
    "Answer =Mean: Adding all the values in a dataset and then dividing by the number of values is known as a mean. \n",
    "\n",
    "Use: Mean is very helpful for datasets with equally distributed values. It examines each value, thus the mean is easily affected by the outliers (very high or low values).\n",
    "\n",
    "Example: For the dataset [1,2,3,4,5] =15/5 which is 3 .\n",
    "\n",
    "\n",
    "Median: Calculation: Ascertain the given values in the list by order and find out how many numbers there are, the median is the number at the middle. If there is an even number of values, the median is the average of the two middle values.\n",
    "\n",
    "Use: It prevents the problem of wrong analysis, especially when the data are skewed or they contain some specific outlier. \n",
    "\n",
    "Example: for the dataset [1,2,3,4,5,6]=(3+4)/2 which is 3.5 . \n",
    "\n",
    "Mode: Calculation: The number that appears most frequently in the dataset is known as the mode.\n",
    "\n",
    "Use: The mode is very significant for a categorical type of data or for showing the most common value present in the data sets. One dataset can contain uniform distribution or several modes (bimodal or multinodal).\n",
    "\n",
    "Example: for the dataset [1,2,2,3,4,5] = the mode is 2"
   ]
  },
  {
   "cell_type": "code",
   "execution_count": null,
   "id": "57a2c886-f14f-4e9c-b524-1471fc69b746",
   "metadata": {},
   "outputs": [],
   "source": []
  },
  {
   "cell_type": "markdown",
   "id": "61bfc251-586c-4436-b196-c82e0a2f4719",
   "metadata": {},
   "source": [
    "Q3. Measure the three measures of central tendency for the given height data:\n",
    "\n",
    "[178,177,176,177,178.2,178,175,179,180,175,178.9,176.2,177,172.5,178,176.5]"
   ]
  },
  {
   "cell_type": "code",
   "execution_count": 1,
   "id": "d4144def-cea9-463d-a11b-7290fc90da3e",
   "metadata": {},
   "outputs": [],
   "source": [
    "import numpy as np\n",
    "data=[178,177,176,177,178.2,178,175,179,180,175,178.9,176.2,177,172.5,178,176.5]"
   ]
  },
  {
   "cell_type": "code",
   "execution_count": 2,
   "id": "94aa7965-2e76-4bfa-a56a-62e291918794",
   "metadata": {},
   "outputs": [
    {
     "data": {
      "text/plain": [
       "177.01875"
      ]
     },
     "execution_count": 2,
     "metadata": {},
     "output_type": "execute_result"
    }
   ],
   "source": [
    "np.mean(data)"
   ]
  },
  {
   "cell_type": "code",
   "execution_count": 3,
   "id": "c4380ee0-73bd-49a3-bddb-a15ba9facec0",
   "metadata": {},
   "outputs": [
    {
     "data": {
      "text/plain": [
       "177.0"
      ]
     },
     "execution_count": 3,
     "metadata": {},
     "output_type": "execute_result"
    }
   ],
   "source": [
    "np.median(data)"
   ]
  },
  {
   "cell_type": "code",
   "execution_count": 6,
   "id": "ca7699fd-6297-4562-9a3d-df69a03ca774",
   "metadata": {},
   "outputs": [],
   "source": [
    "from scipy import stats"
   ]
  },
  {
   "cell_type": "code",
   "execution_count": 7,
   "id": "c7cee43e-e1ff-4766-a574-57077f5c7f2a",
   "metadata": {},
   "outputs": [
    {
     "name": "stderr",
     "output_type": "stream",
     "text": [
      "/tmp/ipykernel_70/3267261142.py:1: FutureWarning: Unlike other reduction functions (e.g. `skew`, `kurtosis`), the default behavior of `mode` typically preserves the axis it acts along. In SciPy 1.11.0, this behavior will change: the default value of `keepdims` will become False, the `axis` over which the statistic is taken will be eliminated, and the value None will no longer be accepted. Set `keepdims` to True or False to avoid this warning.\n",
      "  stats.mode(data)\n"
     ]
    },
    {
     "data": {
      "text/plain": [
       "ModeResult(mode=array([177.]), count=array([3]))"
      ]
     },
     "execution_count": 7,
     "metadata": {},
     "output_type": "execute_result"
    }
   ],
   "source": [
    "stats.mode(data)"
   ]
  },
  {
   "cell_type": "code",
   "execution_count": null,
   "id": "dda81162-3ab0-4c38-80a8-bb1cb7fd9f67",
   "metadata": {},
   "outputs": [],
   "source": []
  },
  {
   "cell_type": "markdown",
   "id": "f0f7a7c5-bc8e-4294-9148-a6695699b9ef",
   "metadata": {},
   "source": [
    "Q4. Find the standard deviation for the given data:\n",
    "    \n",
    "[178,177,176,177,178.2,178,175,179,180,175,178.9,176.2,177,172.5,178,176.5]"
   ]
  },
  {
   "cell_type": "code",
   "execution_count": 9,
   "id": "75e8c333-f03b-44e4-8204-2201369fd610",
   "metadata": {},
   "outputs": [
    {
     "data": {
      "text/plain": [
       "1.7885814036548633"
      ]
     },
     "execution_count": 9,
     "metadata": {},
     "output_type": "execute_result"
    }
   ],
   "source": [
    "data = [178,177,176,177,178.2,178,175,179,180,175,178.9,176.2,177,172.5,178,176.5]\n",
    "np.std(data)"
   ]
  },
  {
   "cell_type": "code",
   "execution_count": null,
   "id": "a5f2f93c-2ded-43c2-b4de-c4bfc00decd3",
   "metadata": {},
   "outputs": [],
   "source": []
  },
  {
   "cell_type": "markdown",
   "id": "617cd247-c099-4ec9-ac5c-2b00bf00c855",
   "metadata": {},
   "source": [
    "Q5. How are measures of dispersion such as range, variance, and standard deviation used to describe\n",
    "the spread of a dataset? Provide an example."
   ]
  },
  {
   "cell_type": "markdown",
   "id": "ee277a57-4021-48be-8f59-b08a80069359",
   "metadata": {},
   "source": [
    "Range:The range is the difference between the highest and lowest values in a dataset.\n",
    "\n",
    "  Range=Maximum value−Minimum value\n",
    "    \n",
    "Usage: The range gives a quick sense of the spread of the data but does not provide information about the distribution within that range.\n",
    "\n",
    "Variance:The variance measures the average squared deviation of each value from the mean.\n",
    "\n",
    " 1. Find the mean of the dataset.\n",
    " 2.Subtract the mean from each value and square the result (these are the squared deviations).\n",
    " 3.Find the average of these squared deviations.\n",
    "    \n",
    "Usage: Variance provides a measure of how spread out the values are around the mean. A higher variance indicates more spread.\n",
    "\n",
    "Standard Deviation:The standard deviation is the square root of the variance, providing a measure of dispersion in the same units as the original data.\n",
    "\n",
    "Standard deviation= root of Variance\n",
    "\n",
    "Usage: Standard deviation is often used because it is in the same units as the data, making it easier to interpret. It indicates how much the values typically deviate from the mean."
   ]
  },
  {
   "cell_type": "code",
   "execution_count": null,
   "id": "533deb37-4ebe-4437-a59d-dd32a353c429",
   "metadata": {},
   "outputs": [],
   "source": []
  },
  {
   "cell_type": "markdown",
   "id": "6924efad-d137-43f4-a8a7-d772753664b2",
   "metadata": {},
   "source": [
    "Q6. What is a Venn diagram?"
   ]
  },
  {
   "cell_type": "markdown",
   "id": "0e8bf298-70f2-489e-a8f7-a58459e77c3f",
   "metadata": {},
   "source": [
    "Answer = A Venn diagram is a visual representation of a logical concept designed to show the relations between different sets. It comprises intersecting circles, each of them denotes a set, the position, and intersection of the circles show the connections between the sets"
   ]
  },
  {
   "cell_type": "code",
   "execution_count": null,
   "id": "b19bc4e0-aaf1-4929-8a93-6d119787138e",
   "metadata": {},
   "outputs": [],
   "source": []
  },
  {
   "cell_type": "markdown",
   "id": "b282b241-8bde-45cf-846a-c87499ba148a",
   "metadata": {},
   "source": [
    "Q7. For the two given sets A = (2,3,4,5,6,7) & B = (0,2,6,8,10). Find:\n",
    "    \n",
    "(i) A Intersection B\n",
    "\n",
    "(ii) A ⋃ B"
   ]
  },
  {
   "cell_type": "markdown",
   "id": "f1717f90-5e3e-410e-bd29-ab8d54260200",
   "metadata": {},
   "source": [
    "Answer A={2,3,4,5,6,7} , B={0,2,6,8,10} \n",
    "\n",
    "(i) = The Intersection of A,B is {2,6}\n",
    "\n",
    "(ii) = The Union of A,B is  {0,2,3,4,5,6,7,8,10}"
   ]
  },
  {
   "cell_type": "code",
   "execution_count": null,
   "id": "27032c96-ed77-4734-a8fb-6aac280a7de7",
   "metadata": {},
   "outputs": [],
   "source": []
  },
  {
   "cell_type": "markdown",
   "id": "feb9b2b1-184f-4d83-a543-d60ac0e4726c",
   "metadata": {},
   "source": [
    "Q8. What do you understand about skewness in data?"
   ]
  },
  {
   "cell_type": "markdown",
   "id": "7632c937-b6b4-4385-9ebf-c5bc6dd092c7",
   "metadata": {},
   "source": [
    "Answer = Skewness in data is the measure that shows the asymmetry or distortion of a dataset. The value of skewness helps to understand in which way the data values are situated either side of the mean, which is reflected by the curve's form.\n",
    "\n"
   ]
  },
  {
   "cell_type": "code",
   "execution_count": null,
   "id": "eee8b315-fbd5-469b-bdf3-29b691bccc73",
   "metadata": {},
   "outputs": [],
   "source": []
  },
  {
   "cell_type": "markdown",
   "id": "696d5f1e-0496-4f75-a731-04d5a176634d",
   "metadata": {},
   "source": [
    "Q9. If a data is right skewed then what will be the position of median with respect to mean?"
   ]
  },
  {
   "cell_type": "markdown",
   "id": "dd45d1ec-cba4-4a59-b58e-45d3feba68e8",
   "metadata": {},
   "source": [
    "Answer = In a right-skewed (positively skewed) distribution, the mean is typically greater than the median. This occurs because the longer tail on the right side of the distribution pulls the mean to the right, while the median remains more centrally located. Therefore, in a right-skewed distribution:\n",
    "\n",
    "The mean is greater than the median (mean>median>mode)"
   ]
  },
  {
   "cell_type": "code",
   "execution_count": null,
   "id": "7a3372be-e02b-4897-a026-6efc2f607260",
   "metadata": {},
   "outputs": [],
   "source": []
  },
  {
   "cell_type": "markdown",
   "id": "694bc375-64e8-4b3d-8b05-840dccc1c40a",
   "metadata": {},
   "source": [
    "Q10. Explain the difference between covariance and correlation. How are these measures used in\n",
    "statistical analysis?"
   ]
  },
  {
   "cell_type": "markdown",
   "id": "94ebf0f3-726b-4789-93ee-21326d4c8201",
   "metadata": {},
   "source": [
    "Covariance: Covariance measures the extent to which two variables change together. It is the expected value of the product of the deviations of two random variables from their means.\n",
    "\n"
   ]
  },
  {
   "cell_type": "markdown",
   "id": "e1d88a93-3fac-43d2-8ad2-e8a0241af006",
   "metadata": {},
   "source": [
    "Correlation: Correlation is a standardized measure of the relationship between two variables that indicates both the strength and direction of the linear relationship. It is a dimensionless quantity."
   ]
  },
  {
   "cell_type": "markdown",
   "id": "d3fa167f-3d67-4ac6-b3da-a11c2c56ed09",
   "metadata": {},
   "source": [
    "Usage in Statistical Analysis\n",
    "\n",
    "Covariance:\n",
    "    \n",
    "Covariance is often used in the calculation of other statistical measures, such as in the construction of the covariance matrix in multivariate statistics.\n",
    "\n",
    "It helps in understanding the direction of the linear relationship between variables.\n",
    "\n",
    "Correlation:\n",
    "    \n",
    "Correlation is widely used in statistics to measure and compare the strength of relationships between variables.\n",
    "\n",
    "It is used in various analyses, such as regression analysis, to understand the relationship between predictors and the outcome.\n",
    "\n",
    "Correlation is also used in finance to measure the degree to which two securities move in relation to each other."
   ]
  },
  {
   "cell_type": "code",
   "execution_count": null,
   "id": "7872fad2-f9ee-4ca6-864a-d1f5a1286027",
   "metadata": {},
   "outputs": [],
   "source": []
  },
  {
   "cell_type": "markdown",
   "id": "5cdf2934-8fff-403f-a951-34a390b552f8",
   "metadata": {},
   "source": [
    "Q11. What is the formula for calculating the sample mean? Provide an example calculation for a\n",
    "dataset."
   ]
  },
  {
   "cell_type": "markdown",
   "id": "bdd3dff9-2802-41e0-b8fb-8a054e96cb00",
   "metadata": {},
   "source": [
    "Answer =  Formula of sample mean = Sum the observations/Count the number of observations (n).\n",
    "\n",
    "Example : x = {1,2,3,4,5}\n",
    "\n",
    "mean  of x = (1+2+3+4+5)/5\n",
    "\n",
    "           = 3"
   ]
  },
  {
   "cell_type": "code",
   "execution_count": null,
   "id": "fbb11662-ed8b-4a77-aa6d-7ee504868a9c",
   "metadata": {},
   "outputs": [],
   "source": []
  },
  {
   "cell_type": "markdown",
   "id": "d32e37d9-6141-458c-bd7f-cd88070256bd",
   "metadata": {},
   "source": [
    "Q12. For a normal distribution data what is the relationship between its measure of central tendency?"
   ]
  },
  {
   "cell_type": "markdown",
   "id": "45bb2e10-72a0-444e-8ad8-f878c695d2f4",
   "metadata": {},
   "source": [
    "In a normal distribution:\n",
    "    \n",
    "Mean=Median=Mode\n",
    "\n",
    "This equality holds true because the normal distribution is perfectly symmetrical about its center point."
   ]
  },
  {
   "cell_type": "code",
   "execution_count": null,
   "id": "3ca0c679-b713-461b-b0ef-bd3b742b0b52",
   "metadata": {},
   "outputs": [],
   "source": []
  },
  {
   "cell_type": "markdown",
   "id": "f58c80cb-5ffb-49b6-bb55-76b86fbb22bf",
   "metadata": {},
   "source": [
    "Q13. How is covariance different from correlation?"
   ]
  },
  {
   "cell_type": "markdown",
   "id": "824d7e31-4395-45a5-bdaf-e3090b772605",
   "metadata": {},
   "source": [
    "Covariance: Covariance measures the extent to which two variables change together. It is the expected value of the product of the deviations of two random variables from their means."
   ]
  },
  {
   "cell_type": "markdown",
   "id": "cd1ef576-3c3b-4b54-b585-e11bdf9f4d8c",
   "metadata": {},
   "source": [
    "Correlation: Correlation is a standardized measure of the relationship between two variables that indicates both the strength and direction of the linear relationship. It is a dimensionless quantity."
   ]
  },
  {
   "cell_type": "code",
   "execution_count": null,
   "id": "9179f12c-28f4-42b2-a7f2-58953df4528e",
   "metadata": {},
   "outputs": [],
   "source": []
  },
  {
   "cell_type": "markdown",
   "id": "150cf998-28ee-428f-8bb2-8d4ac388ef4e",
   "metadata": {},
   "source": [
    "Q14. How do outliers affect measures of central tendency and dispersion? Provide an example."
   ]
  },
  {
   "cell_type": "markdown",
   "id": "cdee602a-985b-4ab9-ad30-9b4dccaffa2f",
   "metadata": {},
   "source": [
    "Consider two datasets:\n",
    "\n",
    "Dataset A: \n",
    "{10,12,14,16,18}\n",
    "Dataset B: \n",
    "{10,12,14,16,100} (where 100 is an outlier)\n",
    "\n",
    "Central Tendency\n",
    "Mean:\n",
    "Dataset A: \n",
    "Mean= 10+12+14+16+18\n",
    " =14\n",
    "Dataset B: \n",
    "Mean= 10+12+14+16+100\n",
    " =30.4 (mean is skewed by the outlier)\n",
    "    \n",
    "Median:\n",
    "\n",
    "Dataset A: Median = 14\n",
    "Dataset B: Median = 14 (median remains the same)\n",
    "\n",
    "Dispersion\n",
    "\n",
    "Variance:\n",
    "    \n",
    "Dataset A: Variance = 10\n",
    "Dataset B: Variance = 1336.3 (variance is much higher due to the outlier)\n",
    "\n",
    "Standard Deviation:\n",
    "    \n",
    "Dataset A: Standard Deviation =3.16\n",
    "Dataset B: Standard Deviation = 36.55(standard deviation is much higher due to the outlier)"
   ]
  },
  {
   "cell_type": "code",
   "execution_count": null,
   "id": "677e9c66-cc96-4d51-bf92-9651312d27af",
   "metadata": {},
   "outputs": [],
   "source": []
  }
 ],
 "metadata": {
  "kernelspec": {
   "display_name": "Python 3 (ipykernel)",
   "language": "python",
   "name": "python3"
  },
  "language_info": {
   "codemirror_mode": {
    "name": "ipython",
    "version": 3
   },
   "file_extension": ".py",
   "mimetype": "text/x-python",
   "name": "python",
   "nbconvert_exporter": "python",
   "pygments_lexer": "ipython3",
   "version": "3.10.8"
  }
 },
 "nbformat": 4,
 "nbformat_minor": 5
}
