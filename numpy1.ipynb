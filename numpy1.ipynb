{
 "cells": [
  {
   "cell_type": "markdown",
   "id": "d8c37931-903a-4052-910f-80e02bb2712d",
   "metadata": {},
   "source": [
    "Q1. Is there any difference in the data type of variables list_ and array_list? If there is then write a code\n",
    "to print the data types of both the variables."
   ]
  },
  {
   "cell_type": "code",
   "execution_count": 2,
   "id": "d3979fce-3adb-4162-a499-73e2ff78dde3",
   "metadata": {},
   "outputs": [],
   "source": [
    "import numpy as np\n",
    "list_ = [ '1' , '2' , '3' , '4' , '5' ]\n",
    "array_list = np.array(object = list_)"
   ]
  },
  {
   "cell_type": "markdown",
   "id": "d308558c-fe62-48d7-8272-876d43006f1b",
   "metadata": {},
   "source": [
    "Answer = Yes, there is a difference in the data type of the variables list_ and array_list. The variable list_ is a Python list, whereas array_list is a NumPy array"
   ]
  },
  {
   "cell_type": "code",
   "execution_count": 12,
   "id": "22b863b3-153e-4de2-ba9f-5644a53f7d33",
   "metadata": {},
   "outputs": [
    {
     "name": "stdout",
     "output_type": "stream",
     "text": [
      "<class 'list'>\n",
      "<class 'numpy.ndarray'>\n"
     ]
    }
   ],
   "source": [
    "print(type(list_))\n",
    "print(type(array_list))"
   ]
  },
  {
   "cell_type": "code",
   "execution_count": null,
   "id": "33928c95-f2d7-44a2-bbef-9c9d72ea169e",
   "metadata": {},
   "outputs": [],
   "source": []
  },
  {
   "cell_type": "markdown",
   "id": "8ee339dd-a0b0-4bcd-a48e-53c30d93a298",
   "metadata": {},
   "source": [
    "Q2. Write a code to print the data type of each and every element of both the variables list_ and\n",
    "arra_list."
   ]
  },
  {
   "cell_type": "code",
   "execution_count": 13,
   "id": "5d9650fd-f4c6-491e-83bb-1ebe751b1722",
   "metadata": {},
   "outputs": [],
   "source": [
    "import numpy as np\n",
    "list_ = [ '1' , '2' , '3' , '4' , '5' ]\n",
    "array_list = np.array(object = list_)\n",
    "\n"
   ]
  },
  {
   "cell_type": "code",
   "execution_count": 20,
   "id": "4f552aff-73e0-409f-8392-3ff35c754028",
   "metadata": {},
   "outputs": [
    {
     "name": "stdout",
     "output_type": "stream",
     "text": [
      "Data types of elements in list_\n",
      " 1:, Type: <class 'str'>\n",
      " 2:, Type: <class 'str'>\n",
      " 3:, Type: <class 'str'>\n",
      " 4:, Type: <class 'str'>\n",
      " 5:, Type: <class 'str'>\n",
      "Data types od elements in array_list\n",
      "1:,Type:<class 'numpy.str_'>\n",
      "2:,Type:<class 'numpy.str_'>\n",
      "3:,Type:<class 'numpy.str_'>\n",
      "4:,Type:<class 'numpy.str_'>\n",
      "5:,Type:<class 'numpy.str_'>\n"
     ]
    }
   ],
   "source": [
    "print(\"Data types of elements in list_\")\n",
    "for i in list_:\n",
    "    print(f\" {i}:, Type: {type(i)}\")\n",
    "    \n",
    "print(\"Data types od elements in array_list\")\n",
    "for i in array_list:\n",
    "    print(f\"{i}:,Type:{type(i)}\")\n"
   ]
  },
  {
   "cell_type": "code",
   "execution_count": null,
   "id": "42642ea8-2e79-44fe-a839-030dc027d8c1",
   "metadata": {},
   "outputs": [],
   "source": []
  },
  {
   "cell_type": "markdown",
   "id": "e19c1d54-7ae5-41a4-b31c-ba462943ebb1",
   "metadata": {},
   "source": [
    "Q3.Will there be any difference in the data type of the elements present in both the variables, list_ and\n",
    "arra_list? If so then print the data types of each and every element present in both the variables, list_\n",
    "and arra_list."
   ]
  },
  {
   "cell_type": "code",
   "execution_count": 21,
   "id": "56e7fee5-3cda-46cc-9eb2-bf909f91bb10",
   "metadata": {},
   "outputs": [],
   "source": [
    "import numpy as np\n",
    "list_ = [ '1' , '2' , '3' , '4' , '5' ]\n",
    "array_list = np.array(object = list_, dtype = int)\n",
    "\n"
   ]
  },
  {
   "cell_type": "markdown",
   "id": "786e7483-ae2e-4ee2-863f-c5f686758295",
   "metadata": {},
   "source": [
    "Answer= Yes, there will be a difference in the data type of the elements present in the variables list_ and array_list because we have specified the dtype of array_list to be int. The elements in list_ are of type str (strings), while the elements in array_list are of type int"
   ]
  },
  {
   "cell_type": "code",
   "execution_count": 22,
   "id": "ff247819-5769-4c3e-9ce9-7d93f76c961b",
   "metadata": {},
   "outputs": [
    {
     "name": "stdout",
     "output_type": "stream",
     "text": [
      "Data types of elements in list_\n",
      " 1:, Type: <class 'str'>\n",
      " 2:, Type: <class 'str'>\n",
      " 3:, Type: <class 'str'>\n",
      " 4:, Type: <class 'str'>\n",
      " 5:, Type: <class 'str'>\n",
      "Data types od elements in array_list\n",
      "1:,Type:<class 'numpy.int64'>\n",
      "2:,Type:<class 'numpy.int64'>\n",
      "3:,Type:<class 'numpy.int64'>\n",
      "4:,Type:<class 'numpy.int64'>\n",
      "5:,Type:<class 'numpy.int64'>\n"
     ]
    }
   ],
   "source": [
    "print(\"Data types of elements in list_\")\n",
    "for i in list_:\n",
    "    print(f\" {i}:, Type: {type(i)}\")\n",
    "    \n",
    "print(\"Data types od elements in array_list\")\n",
    "for i in array_list:\n",
    "    print(f\"{i}:,Type:{type(i)}\")\n"
   ]
  },
  {
   "cell_type": "code",
   "execution_count": null,
   "id": "1e23c435-2da4-438b-87ae-d60ae17c5247",
   "metadata": {},
   "outputs": [],
   "source": []
  },
  {
   "cell_type": "markdown",
   "id": "4bcfe8ef-736f-4616-89a3-743eeb9d14ac",
   "metadata": {},
   "source": [
    "Q4. Write a code to find the following characteristics of variable, num_array:"
   ]
  },
  {
   "cell_type": "markdown",
   "id": "78097514-6e44-4161-85cb-ff3efb8f4cd4",
   "metadata": {},
   "source": [
    "(i) shape\n",
    "(ii) size"
   ]
  },
  {
   "cell_type": "code",
   "execution_count": 23,
   "id": "339f02b4-d71d-4283-827c-b6c168e0481f",
   "metadata": {},
   "outputs": [],
   "source": [
    "import numpy as np\n",
    "num_list = [ [ 1 , 2 , 3 ] , [ 4 , 5 , 6 ] ]\n",
    "num_array = np.array(object = num_list)"
   ]
  },
  {
   "cell_type": "code",
   "execution_count": 28,
   "id": "b2dbe3ec-c15f-4c28-b7f8-2bfd79a0ede4",
   "metadata": {},
   "outputs": [
    {
     "data": {
      "text/plain": [
       "array([[1, 2, 3],\n",
       "       [4, 5, 6]])"
      ]
     },
     "execution_count": 28,
     "metadata": {},
     "output_type": "execute_result"
    }
   ],
   "source": [
    "num_array"
   ]
  },
  {
   "cell_type": "code",
   "execution_count": 27,
   "id": "d9b96195-a483-401e-a51e-46dda808c979",
   "metadata": {},
   "outputs": [
    {
     "data": {
      "text/plain": [
       "(2, 3)"
      ]
     },
     "execution_count": 27,
     "metadata": {},
     "output_type": "execute_result"
    }
   ],
   "source": [
    "num_array.shape"
   ]
  },
  {
   "cell_type": "code",
   "execution_count": 25,
   "id": "4d1d4282-785d-40c1-ae3b-2ce653e7ba3b",
   "metadata": {},
   "outputs": [
    {
     "data": {
      "text/plain": [
       "6"
      ]
     },
     "execution_count": 25,
     "metadata": {},
     "output_type": "execute_result"
    }
   ],
   "source": [
    "num_array.size"
   ]
  },
  {
   "cell_type": "code",
   "execution_count": null,
   "id": "5f1ecfa0-a729-4a79-9db6-3af602c64cd8",
   "metadata": {},
   "outputs": [],
   "source": []
  },
  {
   "cell_type": "markdown",
   "id": "29f435ce-3c96-4872-9dcb-2843fe4b445f",
   "metadata": {},
   "source": [
    "Q5. Write a code to create numpy array of 3*3 matrix containing zeros only, using a numpy array\n",
    "creation function."
   ]
  },
  {
   "cell_type": "code",
   "execution_count": 48,
   "id": "7452010f-370e-455d-b718-113becf02801",
   "metadata": {},
   "outputs": [],
   "source": [
    "data=np.zeros((3,3))"
   ]
  },
  {
   "cell_type": "code",
   "execution_count": 49,
   "id": "55a09074-5d8d-44bd-a102-f6dcfa67780b",
   "metadata": {},
   "outputs": [
    {
     "data": {
      "text/plain": [
       "array([[0., 0., 0.],\n",
       "       [0., 0., 0.],\n",
       "       [0., 0., 0.]])"
      ]
     },
     "execution_count": 49,
     "metadata": {},
     "output_type": "execute_result"
    }
   ],
   "source": [
    "data"
   ]
  },
  {
   "cell_type": "code",
   "execution_count": null,
   "id": "b94eb94c-fc5b-4655-827d-f71f1b9e95e7",
   "metadata": {},
   "outputs": [],
   "source": []
  },
  {
   "cell_type": "markdown",
   "id": "4d868215-0b51-4a1e-8b8e-801611a99465",
   "metadata": {},
   "source": [
    "Q6. Create an identity matrix of shape (5,5) using numpy functions?"
   ]
  },
  {
   "cell_type": "code",
   "execution_count": 44,
   "id": "9fe45dd2-54c4-4b31-83c5-621cb96b815c",
   "metadata": {},
   "outputs": [],
   "source": [
    "data1=np.eye(5)"
   ]
  },
  {
   "cell_type": "code",
   "execution_count": 45,
   "id": "51f50c9c-44eb-4ce0-aeb2-b2949cdac18c",
   "metadata": {},
   "outputs": [
    {
     "data": {
      "text/plain": [
       "array([[1., 0., 0., 0., 0.],\n",
       "       [0., 1., 0., 0., 0.],\n",
       "       [0., 0., 1., 0., 0.],\n",
       "       [0., 0., 0., 1., 0.],\n",
       "       [0., 0., 0., 0., 1.]])"
      ]
     },
     "execution_count": 45,
     "metadata": {},
     "output_type": "execute_result"
    }
   ],
   "source": [
    "data1"
   ]
  },
  {
   "cell_type": "code",
   "execution_count": null,
   "id": "4ff7d934-a051-4f84-ab08-4a0c831e5db9",
   "metadata": {},
   "outputs": [],
   "source": []
  }
 ],
 "metadata": {
  "kernelspec": {
   "display_name": "Python 3 (ipykernel)",
   "language": "python",
   "name": "python3"
  },
  "language_info": {
   "codemirror_mode": {
    "name": "ipython",
    "version": 3
   },
   "file_extension": ".py",
   "mimetype": "text/x-python",
   "name": "python",
   "nbconvert_exporter": "python",
   "pygments_lexer": "ipython3",
   "version": "3.10.8"
  }
 },
 "nbformat": 4,
 "nbformat_minor": 5
}
