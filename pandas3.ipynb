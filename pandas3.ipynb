{
 "cells": [
  {
   "cell_type": "markdown",
   "id": "48e6017a-4741-4b8e-8a87-e77d4b6cb8ab",
   "metadata": {},
   "source": [
    "Q1. Write a code to print the data present in the second row of the dataframe, df."
   ]
  },
  {
   "cell_type": "code",
   "execution_count": 1,
   "id": "77fc22e4-b653-416a-b52f-097febe6e87f",
   "metadata": {},
   "outputs": [],
   "source": [
    "import pandas as pd\n",
    "course_name = ['Data Science', 'Machine Learning', 'Big Data', 'Data Engineer']\n",
    "duration = [2,3,6,4]\n",
    "df = pd.DataFrame(data = {'course_name' : course_name, 'duration' : duration})"
   ]
  },
  {
   "cell_type": "code",
   "execution_count": 2,
   "id": "10286f01-d689-4b96-9167-e1c1b17130d7",
   "metadata": {},
   "outputs": [
    {
     "data": {
      "text/html": [
       "<div>\n",
       "<style scoped>\n",
       "    .dataframe tbody tr th:only-of-type {\n",
       "        vertical-align: middle;\n",
       "    }\n",
       "\n",
       "    .dataframe tbody tr th {\n",
       "        vertical-align: top;\n",
       "    }\n",
       "\n",
       "    .dataframe thead th {\n",
       "        text-align: right;\n",
       "    }\n",
       "</style>\n",
       "<table border=\"1\" class=\"dataframe\">\n",
       "  <thead>\n",
       "    <tr style=\"text-align: right;\">\n",
       "      <th></th>\n",
       "      <th>course_name</th>\n",
       "      <th>duration</th>\n",
       "    </tr>\n",
       "  </thead>\n",
       "  <tbody>\n",
       "    <tr>\n",
       "      <th>0</th>\n",
       "      <td>Data Science</td>\n",
       "      <td>2</td>\n",
       "    </tr>\n",
       "    <tr>\n",
       "      <th>1</th>\n",
       "      <td>Machine Learning</td>\n",
       "      <td>3</td>\n",
       "    </tr>\n",
       "    <tr>\n",
       "      <th>2</th>\n",
       "      <td>Big Data</td>\n",
       "      <td>6</td>\n",
       "    </tr>\n",
       "    <tr>\n",
       "      <th>3</th>\n",
       "      <td>Data Engineer</td>\n",
       "      <td>4</td>\n",
       "    </tr>\n",
       "  </tbody>\n",
       "</table>\n",
       "</div>"
      ],
      "text/plain": [
       "        course_name  duration\n",
       "0      Data Science         2\n",
       "1  Machine Learning         3\n",
       "2          Big Data         6\n",
       "3     Data Engineer         4"
      ]
     },
     "execution_count": 2,
     "metadata": {},
     "output_type": "execute_result"
    }
   ],
   "source": [
    "df"
   ]
  },
  {
   "cell_type": "code",
   "execution_count": 3,
   "id": "7842b808-7d80-4741-b459-bebfcb00944a",
   "metadata": {},
   "outputs": [
    {
     "data": {
      "text/html": [
       "<div>\n",
       "<style scoped>\n",
       "    .dataframe tbody tr th:only-of-type {\n",
       "        vertical-align: middle;\n",
       "    }\n",
       "\n",
       "    .dataframe tbody tr th {\n",
       "        vertical-align: top;\n",
       "    }\n",
       "\n",
       "    .dataframe thead th {\n",
       "        text-align: right;\n",
       "    }\n",
       "</style>\n",
       "<table border=\"1\" class=\"dataframe\">\n",
       "  <thead>\n",
       "    <tr style=\"text-align: right;\">\n",
       "      <th></th>\n",
       "      <th>course_name</th>\n",
       "      <th>duration</th>\n",
       "    </tr>\n",
       "  </thead>\n",
       "  <tbody>\n",
       "    <tr>\n",
       "      <th>1</th>\n",
       "      <td>Machine Learning</td>\n",
       "      <td>3</td>\n",
       "    </tr>\n",
       "  </tbody>\n",
       "</table>\n",
       "</div>"
      ],
      "text/plain": [
       "        course_name  duration\n",
       "1  Machine Learning         3"
      ]
     },
     "execution_count": 3,
     "metadata": {},
     "output_type": "execute_result"
    }
   ],
   "source": [
    "df[['course_name','duration']][1:2]"
   ]
  },
  {
   "cell_type": "code",
   "execution_count": null,
   "id": "185fa238-183a-4872-9cc8-482fa35211d7",
   "metadata": {},
   "outputs": [],
   "source": []
  },
  {
   "cell_type": "markdown",
   "id": "6120bcee-9352-413c-a6ce-fb56010d5b2b",
   "metadata": {},
   "source": [
    "Q2. What is the difference between the functions loc and iloc in pandas.DataFrame?"
   ]
  },
  {
   "cell_type": "markdown",
   "id": "e2dde1f7-cd3b-48b9-8785-d4add90ba425",
   "metadata": {},
   "source": [
    "Answaer = loc: Use for label-based indexing and inclusive slicing."
   ]
  },
  {
   "cell_type": "markdown",
   "id": "4cf19d8d-6ac1-4d67-a9b6-46a434ff2416",
   "metadata": {},
   "source": [
    "iloc: Use for position-based indexing and exclusive slicing."
   ]
  },
  {
   "cell_type": "code",
   "execution_count": 4,
   "id": "93742096-0732-48cd-adcd-29923911adf3",
   "metadata": {},
   "outputs": [],
   "source": [
    "import pandas as pd\n",
    "course_name = ['Data Science', 'Machine Learning', 'Big Data', 'Data Engineer']\n",
    "duration = [2,3,6,4]\n",
    "df = pd.DataFrame(data = {'course_name' : course_name, 'duration' : duration})"
   ]
  },
  {
   "cell_type": "code",
   "execution_count": 5,
   "id": "3eaa5aaf-c423-46fd-a336-493c914318df",
   "metadata": {},
   "outputs": [
    {
     "data": {
      "text/html": [
       "<div>\n",
       "<style scoped>\n",
       "    .dataframe tbody tr th:only-of-type {\n",
       "        vertical-align: middle;\n",
       "    }\n",
       "\n",
       "    .dataframe tbody tr th {\n",
       "        vertical-align: top;\n",
       "    }\n",
       "\n",
       "    .dataframe thead th {\n",
       "        text-align: right;\n",
       "    }\n",
       "</style>\n",
       "<table border=\"1\" class=\"dataframe\">\n",
       "  <thead>\n",
       "    <tr style=\"text-align: right;\">\n",
       "      <th></th>\n",
       "      <th>course_name</th>\n",
       "      <th>duration</th>\n",
       "    </tr>\n",
       "  </thead>\n",
       "  <tbody>\n",
       "    <tr>\n",
       "      <th>0</th>\n",
       "      <td>Data Science</td>\n",
       "      <td>2</td>\n",
       "    </tr>\n",
       "    <tr>\n",
       "      <th>1</th>\n",
       "      <td>Machine Learning</td>\n",
       "      <td>3</td>\n",
       "    </tr>\n",
       "    <tr>\n",
       "      <th>2</th>\n",
       "      <td>Big Data</td>\n",
       "      <td>6</td>\n",
       "    </tr>\n",
       "    <tr>\n",
       "      <th>3</th>\n",
       "      <td>Data Engineer</td>\n",
       "      <td>4</td>\n",
       "    </tr>\n",
       "  </tbody>\n",
       "</table>\n",
       "</div>"
      ],
      "text/plain": [
       "        course_name  duration\n",
       "0      Data Science         2\n",
       "1  Machine Learning         3\n",
       "2          Big Data         6\n",
       "3     Data Engineer         4"
      ]
     },
     "execution_count": 5,
     "metadata": {},
     "output_type": "execute_result"
    }
   ],
   "source": [
    "df.loc[0:3, ['course_name','duration']]"
   ]
  },
  {
   "cell_type": "code",
   "execution_count": 6,
   "id": "4baf098e-b801-42f7-ab7d-ed6d3048fb9c",
   "metadata": {},
   "outputs": [
    {
     "data": {
      "text/html": [
       "<div>\n",
       "<style scoped>\n",
       "    .dataframe tbody tr th:only-of-type {\n",
       "        vertical-align: middle;\n",
       "    }\n",
       "\n",
       "    .dataframe tbody tr th {\n",
       "        vertical-align: top;\n",
       "    }\n",
       "\n",
       "    .dataframe thead th {\n",
       "        text-align: right;\n",
       "    }\n",
       "</style>\n",
       "<table border=\"1\" class=\"dataframe\">\n",
       "  <thead>\n",
       "    <tr style=\"text-align: right;\">\n",
       "      <th></th>\n",
       "      <th>course_name</th>\n",
       "      <th>duration</th>\n",
       "    </tr>\n",
       "  </thead>\n",
       "  <tbody>\n",
       "    <tr>\n",
       "      <th>0</th>\n",
       "      <td>Data Science</td>\n",
       "      <td>2</td>\n",
       "    </tr>\n",
       "    <tr>\n",
       "      <th>1</th>\n",
       "      <td>Machine Learning</td>\n",
       "      <td>3</td>\n",
       "    </tr>\n",
       "    <tr>\n",
       "      <th>2</th>\n",
       "      <td>Big Data</td>\n",
       "      <td>6</td>\n",
       "    </tr>\n",
       "    <tr>\n",
       "      <th>3</th>\n",
       "      <td>Data Engineer</td>\n",
       "      <td>4</td>\n",
       "    </tr>\n",
       "  </tbody>\n",
       "</table>\n",
       "</div>"
      ],
      "text/plain": [
       "        course_name  duration\n",
       "0      Data Science         2\n",
       "1  Machine Learning         3\n",
       "2          Big Data         6\n",
       "3     Data Engineer         4"
      ]
     },
     "execution_count": 6,
     "metadata": {},
     "output_type": "execute_result"
    }
   ],
   "source": [
    "df.iloc[0:4, [0,1]]"
   ]
  },
  {
   "cell_type": "code",
   "execution_count": null,
   "id": "ca9aed4d-f08b-4f5e-bbe6-51251675afdb",
   "metadata": {},
   "outputs": [],
   "source": []
  },
  {
   "cell_type": "markdown",
   "id": "25d8ccf1-4720-49d3-9cfa-9eca9d2c2952",
   "metadata": {},
   "source": [
    "Q3. Reindex the given dataframe using a variable, reindex = [3,0,1,2] and store it in the variable, new_df\n",
    "then find the output for both new_df.loc[2] and new_df.iloc[2]."
   ]
  },
  {
   "cell_type": "markdown",
   "id": "c3912aab-1656-4357-a78d-effc5802d83f",
   "metadata": {},
   "source": [
    "Did you observe any difference in both the outputs? If so then explain it."
   ]
  },
  {
   "cell_type": "code",
   "execution_count": 7,
   "id": "bc973acc-95a5-4242-8c48-61981a90d2e5",
   "metadata": {},
   "outputs": [],
   "source": [
    "import pandas as pd\n",
    "import numpy as np\n",
    "columns = ['column_1', 'column_2', 'column_3', 'column_4', 'column_5', 'column_6']\n",
    "indices = [1,2,3,4,5,6]\n",
    "#Creating a dataframe:\n",
    "df1 = pd.DataFrame(np.random.rand(6,6), columns = columns, index = indices)"
   ]
  },
  {
   "cell_type": "code",
   "execution_count": 8,
   "id": "09ce5fa9-58af-439a-a451-57ab92a979cf",
   "metadata": {},
   "outputs": [
    {
     "data": {
      "text/html": [
       "<div>\n",
       "<style scoped>\n",
       "    .dataframe tbody tr th:only-of-type {\n",
       "        vertical-align: middle;\n",
       "    }\n",
       "\n",
       "    .dataframe tbody tr th {\n",
       "        vertical-align: top;\n",
       "    }\n",
       "\n",
       "    .dataframe thead th {\n",
       "        text-align: right;\n",
       "    }\n",
       "</style>\n",
       "<table border=\"1\" class=\"dataframe\">\n",
       "  <thead>\n",
       "    <tr style=\"text-align: right;\">\n",
       "      <th></th>\n",
       "      <th>column_1</th>\n",
       "      <th>column_2</th>\n",
       "      <th>column_3</th>\n",
       "      <th>column_4</th>\n",
       "      <th>column_5</th>\n",
       "      <th>column_6</th>\n",
       "    </tr>\n",
       "  </thead>\n",
       "  <tbody>\n",
       "    <tr>\n",
       "      <th>1</th>\n",
       "      <td>0.390441</td>\n",
       "      <td>0.463418</td>\n",
       "      <td>0.155737</td>\n",
       "      <td>0.135951</td>\n",
       "      <td>0.509402</td>\n",
       "      <td>0.353722</td>\n",
       "    </tr>\n",
       "    <tr>\n",
       "      <th>2</th>\n",
       "      <td>0.498620</td>\n",
       "      <td>0.852894</td>\n",
       "      <td>0.064377</td>\n",
       "      <td>0.338341</td>\n",
       "      <td>0.832677</td>\n",
       "      <td>0.123226</td>\n",
       "    </tr>\n",
       "    <tr>\n",
       "      <th>3</th>\n",
       "      <td>0.261376</td>\n",
       "      <td>0.760287</td>\n",
       "      <td>0.161873</td>\n",
       "      <td>0.610480</td>\n",
       "      <td>0.291922</td>\n",
       "      <td>0.085918</td>\n",
       "    </tr>\n",
       "    <tr>\n",
       "      <th>4</th>\n",
       "      <td>0.826114</td>\n",
       "      <td>0.302331</td>\n",
       "      <td>0.122885</td>\n",
       "      <td>0.746691</td>\n",
       "      <td>0.394876</td>\n",
       "      <td>0.134316</td>\n",
       "    </tr>\n",
       "    <tr>\n",
       "      <th>5</th>\n",
       "      <td>0.000654</td>\n",
       "      <td>0.833443</td>\n",
       "      <td>0.589851</td>\n",
       "      <td>0.539461</td>\n",
       "      <td>0.892229</td>\n",
       "      <td>0.498199</td>\n",
       "    </tr>\n",
       "    <tr>\n",
       "      <th>6</th>\n",
       "      <td>0.171758</td>\n",
       "      <td>0.215213</td>\n",
       "      <td>0.349464</td>\n",
       "      <td>0.668127</td>\n",
       "      <td>0.913372</td>\n",
       "      <td>0.357300</td>\n",
       "    </tr>\n",
       "  </tbody>\n",
       "</table>\n",
       "</div>"
      ],
      "text/plain": [
       "   column_1  column_2  column_3  column_4  column_5  column_6\n",
       "1  0.390441  0.463418  0.155737  0.135951  0.509402  0.353722\n",
       "2  0.498620  0.852894  0.064377  0.338341  0.832677  0.123226\n",
       "3  0.261376  0.760287  0.161873  0.610480  0.291922  0.085918\n",
       "4  0.826114  0.302331  0.122885  0.746691  0.394876  0.134316\n",
       "5  0.000654  0.833443  0.589851  0.539461  0.892229  0.498199\n",
       "6  0.171758  0.215213  0.349464  0.668127  0.913372  0.357300"
      ]
     },
     "execution_count": 8,
     "metadata": {},
     "output_type": "execute_result"
    }
   ],
   "source": [
    "df1"
   ]
  },
  {
   "cell_type": "code",
   "execution_count": 9,
   "id": "a156d4c5-57ed-4877-9e1a-2a1bc987803b",
   "metadata": {},
   "outputs": [],
   "source": [
    "reindex = [3,0,1,2,4,5]\n",
    "df2 = pd.Series(list(df1),index =reindex)"
   ]
  },
  {
   "cell_type": "code",
   "execution_count": 10,
   "id": "5570fc68-eaa4-40c1-8302-453d541928a6",
   "metadata": {},
   "outputs": [
    {
     "data": {
      "text/plain": [
       "3    column_1\n",
       "0    column_2\n",
       "1    column_3\n",
       "2    column_4\n",
       "4    column_5\n",
       "5    column_6\n",
       "dtype: object"
      ]
     },
     "execution_count": 10,
     "metadata": {},
     "output_type": "execute_result"
    }
   ],
   "source": [
    "df2"
   ]
  },
  {
   "cell_type": "code",
   "execution_count": null,
   "id": "9ad6af2f-a09f-4d75-951d-ccc5722828bd",
   "metadata": {},
   "outputs": [],
   "source": []
  },
  {
   "cell_type": "markdown",
   "id": "e430c222-ca54-4f8e-a3a7-95fc508eed61",
   "metadata": {},
   "source": [
    "Q4. Write a code to find the following statistical measurements for the above dataframe df1:"
   ]
  },
  {
   "cell_type": "markdown",
   "id": "32c8ab36-1541-44ac-abc0-462c4ac7310f",
   "metadata": {},
   "source": [
    "(i) mean of each and every column present in the dataframe."
   ]
  },
  {
   "cell_type": "markdown",
   "id": "8ebace58-6ca2-4247-a583-3962ddda511c",
   "metadata": {},
   "source": [
    "(ii) standard deviation of column, ‘column_2’"
   ]
  },
  {
   "cell_type": "code",
   "execution_count": 11,
   "id": "93181415-841e-4631-8692-528b04d229de",
   "metadata": {},
   "outputs": [
    {
     "data": {
      "text/html": [
       "<div>\n",
       "<style scoped>\n",
       "    .dataframe tbody tr th:only-of-type {\n",
       "        vertical-align: middle;\n",
       "    }\n",
       "\n",
       "    .dataframe tbody tr th {\n",
       "        vertical-align: top;\n",
       "    }\n",
       "\n",
       "    .dataframe thead th {\n",
       "        text-align: right;\n",
       "    }\n",
       "</style>\n",
       "<table border=\"1\" class=\"dataframe\">\n",
       "  <thead>\n",
       "    <tr style=\"text-align: right;\">\n",
       "      <th></th>\n",
       "      <th>column_1</th>\n",
       "      <th>column_2</th>\n",
       "      <th>column_3</th>\n",
       "      <th>column_4</th>\n",
       "      <th>column_5</th>\n",
       "      <th>column_6</th>\n",
       "    </tr>\n",
       "  </thead>\n",
       "  <tbody>\n",
       "    <tr>\n",
       "      <th>1</th>\n",
       "      <td>0.390441</td>\n",
       "      <td>0.463418</td>\n",
       "      <td>0.155737</td>\n",
       "      <td>0.135951</td>\n",
       "      <td>0.509402</td>\n",
       "      <td>0.353722</td>\n",
       "    </tr>\n",
       "    <tr>\n",
       "      <th>2</th>\n",
       "      <td>0.498620</td>\n",
       "      <td>0.852894</td>\n",
       "      <td>0.064377</td>\n",
       "      <td>0.338341</td>\n",
       "      <td>0.832677</td>\n",
       "      <td>0.123226</td>\n",
       "    </tr>\n",
       "    <tr>\n",
       "      <th>3</th>\n",
       "      <td>0.261376</td>\n",
       "      <td>0.760287</td>\n",
       "      <td>0.161873</td>\n",
       "      <td>0.610480</td>\n",
       "      <td>0.291922</td>\n",
       "      <td>0.085918</td>\n",
       "    </tr>\n",
       "    <tr>\n",
       "      <th>4</th>\n",
       "      <td>0.826114</td>\n",
       "      <td>0.302331</td>\n",
       "      <td>0.122885</td>\n",
       "      <td>0.746691</td>\n",
       "      <td>0.394876</td>\n",
       "      <td>0.134316</td>\n",
       "    </tr>\n",
       "    <tr>\n",
       "      <th>5</th>\n",
       "      <td>0.000654</td>\n",
       "      <td>0.833443</td>\n",
       "      <td>0.589851</td>\n",
       "      <td>0.539461</td>\n",
       "      <td>0.892229</td>\n",
       "      <td>0.498199</td>\n",
       "    </tr>\n",
       "    <tr>\n",
       "      <th>6</th>\n",
       "      <td>0.171758</td>\n",
       "      <td>0.215213</td>\n",
       "      <td>0.349464</td>\n",
       "      <td>0.668127</td>\n",
       "      <td>0.913372</td>\n",
       "      <td>0.357300</td>\n",
       "    </tr>\n",
       "  </tbody>\n",
       "</table>\n",
       "</div>"
      ],
      "text/plain": [
       "   column_1  column_2  column_3  column_4  column_5  column_6\n",
       "1  0.390441  0.463418  0.155737  0.135951  0.509402  0.353722\n",
       "2  0.498620  0.852894  0.064377  0.338341  0.832677  0.123226\n",
       "3  0.261376  0.760287  0.161873  0.610480  0.291922  0.085918\n",
       "4  0.826114  0.302331  0.122885  0.746691  0.394876  0.134316\n",
       "5  0.000654  0.833443  0.589851  0.539461  0.892229  0.498199\n",
       "6  0.171758  0.215213  0.349464  0.668127  0.913372  0.357300"
      ]
     },
     "execution_count": 11,
     "metadata": {},
     "output_type": "execute_result"
    }
   ],
   "source": [
    "df1"
   ]
  },
  {
   "cell_type": "markdown",
   "id": "83f21295-74fd-44e0-b74a-4985a97623d9",
   "metadata": {},
   "source": [
    "Answer = (i) mean of each and every column present in the dataframe."
   ]
  },
  {
   "cell_type": "code",
   "execution_count": 12,
   "id": "d0d88e73-d9f1-4b01-adfd-1a3be51fd600",
   "metadata": {},
   "outputs": [],
   "source": [
    "df2 = pd.DataFrame(df1.mean())"
   ]
  },
  {
   "cell_type": "code",
   "execution_count": 13,
   "id": "2bf51d81-38bb-49ac-b51f-0c17415e5827",
   "metadata": {},
   "outputs": [
    {
     "data": {
      "text/html": [
       "<div>\n",
       "<style scoped>\n",
       "    .dataframe tbody tr th:only-of-type {\n",
       "        vertical-align: middle;\n",
       "    }\n",
       "\n",
       "    .dataframe tbody tr th {\n",
       "        vertical-align: top;\n",
       "    }\n",
       "\n",
       "    .dataframe thead th {\n",
       "        text-align: right;\n",
       "    }\n",
       "</style>\n",
       "<table border=\"1\" class=\"dataframe\">\n",
       "  <thead>\n",
       "    <tr style=\"text-align: right;\">\n",
       "      <th></th>\n",
       "      <th>0</th>\n",
       "    </tr>\n",
       "  </thead>\n",
       "  <tbody>\n",
       "    <tr>\n",
       "      <th>column_1</th>\n",
       "      <td>0.358161</td>\n",
       "    </tr>\n",
       "    <tr>\n",
       "      <th>column_2</th>\n",
       "      <td>0.571264</td>\n",
       "    </tr>\n",
       "    <tr>\n",
       "      <th>column_3</th>\n",
       "      <td>0.240698</td>\n",
       "    </tr>\n",
       "    <tr>\n",
       "      <th>column_4</th>\n",
       "      <td>0.506509</td>\n",
       "    </tr>\n",
       "    <tr>\n",
       "      <th>column_5</th>\n",
       "      <td>0.639079</td>\n",
       "    </tr>\n",
       "    <tr>\n",
       "      <th>column_6</th>\n",
       "      <td>0.258780</td>\n",
       "    </tr>\n",
       "  </tbody>\n",
       "</table>\n",
       "</div>"
      ],
      "text/plain": [
       "                 0\n",
       "column_1  0.358161\n",
       "column_2  0.571264\n",
       "column_3  0.240698\n",
       "column_4  0.506509\n",
       "column_5  0.639079\n",
       "column_6  0.258780"
      ]
     },
     "execution_count": 13,
     "metadata": {},
     "output_type": "execute_result"
    }
   ],
   "source": [
    "df2"
   ]
  },
  {
   "cell_type": "markdown",
   "id": "644a8aa3-7032-4ebf-8ecc-ea2a058323c5",
   "metadata": {},
   "source": [
    "(ii) standard deviation of column, ‘column_2’"
   ]
  },
  {
   "cell_type": "code",
   "execution_count": 14,
   "id": "ebed84db-3fd0-423d-a87c-f235229e1b3c",
   "metadata": {},
   "outputs": [
    {
     "data": {
      "text/plain": [
       "0.28089539042605977"
      ]
     },
     "execution_count": 14,
     "metadata": {},
     "output_type": "execute_result"
    }
   ],
   "source": [
    "df1['column_2'].std()"
   ]
  },
  {
   "cell_type": "code",
   "execution_count": null,
   "id": "0578606f-7e2e-4f63-a895-cf09dd2a39c4",
   "metadata": {},
   "outputs": [],
   "source": []
  },
  {
   "cell_type": "markdown",
   "id": "a28c91f4-bd54-4d17-a3ea-158693d4a3b8",
   "metadata": {},
   "source": [
    "Q5. Replace the data present in the second row of column, ‘column_2’ by a string variable then find the\n",
    "mean of column, column_2."
   ]
  },
  {
   "cell_type": "markdown",
   "id": "45e3f1d6-483a-4ee8-bf9f-861a4e132a3f",
   "metadata": {},
   "source": [
    "If you are getting errors in executing it then explain why."
   ]
  },
  {
   "cell_type": "markdown",
   "id": "0a2a0d61-826b-42c0-a42d-d5dda2edc4b6",
   "metadata": {},
   "source": [
    "[Hint: To replace the data use df1.loc[] and equate this to string data of your choice.]"
   ]
  },
  {
   "cell_type": "code",
   "execution_count": 15,
   "id": "69dd5e84-89dd-4bdd-8e1a-7dbd8f90d1d3",
   "metadata": {},
   "outputs": [],
   "source": [
    "df1.replace(df1[\"column_2\"][2],str(df1.loc[2][1]),inplace=True)"
   ]
  },
  {
   "cell_type": "code",
   "execution_count": 16,
   "id": "0091782e-a51a-4b44-8a80-2abe92a3d503",
   "metadata": {},
   "outputs": [
    {
     "data": {
      "text/html": [
       "<div>\n",
       "<style scoped>\n",
       "    .dataframe tbody tr th:only-of-type {\n",
       "        vertical-align: middle;\n",
       "    }\n",
       "\n",
       "    .dataframe tbody tr th {\n",
       "        vertical-align: top;\n",
       "    }\n",
       "\n",
       "    .dataframe thead th {\n",
       "        text-align: right;\n",
       "    }\n",
       "</style>\n",
       "<table border=\"1\" class=\"dataframe\">\n",
       "  <thead>\n",
       "    <tr style=\"text-align: right;\">\n",
       "      <th></th>\n",
       "      <th>column_1</th>\n",
       "      <th>column_2</th>\n",
       "      <th>column_3</th>\n",
       "      <th>column_4</th>\n",
       "      <th>column_5</th>\n",
       "      <th>column_6</th>\n",
       "    </tr>\n",
       "  </thead>\n",
       "  <tbody>\n",
       "    <tr>\n",
       "      <th>1</th>\n",
       "      <td>0.390441</td>\n",
       "      <td>0.463418</td>\n",
       "      <td>0.155737</td>\n",
       "      <td>0.135951</td>\n",
       "      <td>0.509402</td>\n",
       "      <td>0.353722</td>\n",
       "    </tr>\n",
       "    <tr>\n",
       "      <th>2</th>\n",
       "      <td>0.498620</td>\n",
       "      <td>0.8528943743038411</td>\n",
       "      <td>0.064377</td>\n",
       "      <td>0.338341</td>\n",
       "      <td>0.832677</td>\n",
       "      <td>0.123226</td>\n",
       "    </tr>\n",
       "    <tr>\n",
       "      <th>3</th>\n",
       "      <td>0.261376</td>\n",
       "      <td>0.760287</td>\n",
       "      <td>0.161873</td>\n",
       "      <td>0.610480</td>\n",
       "      <td>0.291922</td>\n",
       "      <td>0.085918</td>\n",
       "    </tr>\n",
       "    <tr>\n",
       "      <th>4</th>\n",
       "      <td>0.826114</td>\n",
       "      <td>0.302331</td>\n",
       "      <td>0.122885</td>\n",
       "      <td>0.746691</td>\n",
       "      <td>0.394876</td>\n",
       "      <td>0.134316</td>\n",
       "    </tr>\n",
       "    <tr>\n",
       "      <th>5</th>\n",
       "      <td>0.000654</td>\n",
       "      <td>0.833443</td>\n",
       "      <td>0.589851</td>\n",
       "      <td>0.539461</td>\n",
       "      <td>0.892229</td>\n",
       "      <td>0.498199</td>\n",
       "    </tr>\n",
       "    <tr>\n",
       "      <th>6</th>\n",
       "      <td>0.171758</td>\n",
       "      <td>0.215213</td>\n",
       "      <td>0.349464</td>\n",
       "      <td>0.668127</td>\n",
       "      <td>0.913372</td>\n",
       "      <td>0.357300</td>\n",
       "    </tr>\n",
       "  </tbody>\n",
       "</table>\n",
       "</div>"
      ],
      "text/plain": [
       "   column_1            column_2  column_3  column_4  column_5  column_6\n",
       "1  0.390441            0.463418  0.155737  0.135951  0.509402  0.353722\n",
       "2  0.498620  0.8528943743038411  0.064377  0.338341  0.832677  0.123226\n",
       "3  0.261376            0.760287  0.161873  0.610480  0.291922  0.085918\n",
       "4  0.826114            0.302331  0.122885  0.746691  0.394876  0.134316\n",
       "5  0.000654            0.833443  0.589851  0.539461  0.892229  0.498199\n",
       "6  0.171758            0.215213  0.349464  0.668127  0.913372  0.357300"
      ]
     },
     "execution_count": 16,
     "metadata": {},
     "output_type": "execute_result"
    }
   ],
   "source": [
    "df1"
   ]
  },
  {
   "cell_type": "code",
   "execution_count": 17,
   "id": "b0ea94d2-0976-45d7-ba3f-a91f87ad84a9",
   "metadata": {},
   "outputs": [
    {
     "data": {
      "text/plain": [
       "str"
      ]
     },
     "execution_count": 17,
     "metadata": {},
     "output_type": "execute_result"
    }
   ],
   "source": [
    "type(df1['column_2'][2])"
   ]
  },
  {
   "cell_type": "markdown",
   "id": "32109284-fc84-4a81-8c7b-457c710956ad",
   "metadata": {},
   "source": [
    "mean of \" column_2 \"   --"
   ]
  },
  {
   "cell_type": "markdown",
   "id": "87bcc7f8-490e-4208-9b2b-284ad03961aa",
   "metadata": {},
   "source": [
    "df1[\"column_2\"].mean()  -----  When I replace a numeric value in column_2 with a string, the entire column is inferred to contain mixed types (both numbers and strings). The mean() function cannot handle non-numeric values, leading to a TypeError"
   ]
  },
  {
   "cell_type": "code",
   "execution_count": null,
   "id": "8b97ff6b-82a5-4c10-9e96-8de4aa8f221a",
   "metadata": {},
   "outputs": [],
   "source": []
  },
  {
   "cell_type": "markdown",
   "id": "c8f0bda8-ac51-46cf-bc7e-bf648547c494",
   "metadata": {},
   "source": [
    "Q6. What do you understand about the windows function in pandas and list the types of windows\n",
    "functions?"
   ]
  },
  {
   "cell_type": "markdown",
   "id": "d54e06f7-89b0-4a5f-8d7f-51fa8c841191",
   "metadata": {},
   "source": [
    "Answer = Window functions enable calculations over a subset of data defined by a \"window\" that moves over the data, allowing us to compute statistics like the mean, sum, min, max, etc., over that window. This can help in identifying trends and patterns that are not obvious from raw data alone."
   ]
  },
  {
   "cell_type": "markdown",
   "id": "4d6d7cd9-fdd2-4ecc-8098-231fb32955f9",
   "metadata": {},
   "source": [
    "Types of Window Functions"
   ]
  },
  {
   "cell_type": "markdown",
   "id": "a25a3ca2-082a-45bc-80b2-edd012dc2fdf",
   "metadata": {},
   "source": [
    "Rolling Window:\n",
    "\n",
    "1.Applies a function to a rolling window of a fixed size"
   ]
  },
  {
   "cell_type": "markdown",
   "id": "638b8cce-b0ae-4129-8d57-fab195085d46",
   "metadata": {},
   "source": [
    "2.The window slides over the data, and the function is applied to the window's contents.\n"
   ]
  },
  {
   "cell_type": "markdown",
   "id": "12716b11-3045-4877-b221-f62c53575053",
   "metadata": {},
   "source": [
    "3.Common methods: rolling().mean(), rolling().sum(), rolling().min(), rolling().max(), etc."
   ]
  },
  {
   "cell_type": "code",
   "execution_count": 18,
   "id": "a01852c0-9ac3-445c-ba68-68300338cf11",
   "metadata": {},
   "outputs": [
    {
     "data": {
      "text/plain": [
       "1         NaN\n",
       "2    0.444530\n",
       "3    0.379998\n",
       "4    0.543745\n",
       "5    0.413384\n",
       "6    0.086206\n",
       "Name: column_1, dtype: float64"
      ]
     },
     "execution_count": 18,
     "metadata": {},
     "output_type": "execute_result"
    }
   ],
   "source": [
    "df1['column_1'].rolling(window=2).mean()"
   ]
  },
  {
   "cell_type": "code",
   "execution_count": null,
   "id": "e29af7d2-61c1-4e45-a4d3-b258591de36e",
   "metadata": {},
   "outputs": [],
   "source": []
  },
  {
   "cell_type": "markdown",
   "id": "7e155db9-cd27-4904-8713-a3bdd9d21d2c",
   "metadata": {},
   "source": [
    "Expanding Window:\n",
    "\n",
    "1.Applies a function to an expanding window from the beginning of the data to the current point."
   ]
  },
  {
   "cell_type": "markdown",
   "id": "ef93a12e-4fac-4628-8446-570495877170",
   "metadata": {},
   "source": [
    "2.The window size increases as it moves over the data."
   ]
  },
  {
   "cell_type": "markdown",
   "id": "42dfa7ea-6521-4e69-81d3-174065e53ca3",
   "metadata": {},
   "source": [
    "3.Common methods: expanding().mean(), expanding().sum(), expanding().min(), expanding().max(), etc."
   ]
  },
  {
   "cell_type": "code",
   "execution_count": 19,
   "id": "91db2f64-6736-45a8-af60-740c9a30ef3c",
   "metadata": {},
   "outputs": [
    {
     "data": {
      "text/plain": [
       "1    0.390441\n",
       "2    0.444530\n",
       "3    0.383479\n",
       "4    0.494138\n",
       "5    0.395441\n",
       "6    0.358161\n",
       "Name: column_1, dtype: float64"
      ]
     },
     "execution_count": 19,
     "metadata": {},
     "output_type": "execute_result"
    }
   ],
   "source": [
    "df1['column_1'].expanding().mean()"
   ]
  },
  {
   "cell_type": "code",
   "execution_count": null,
   "id": "6ae05f65-4df7-4b79-9f60-bf05c384b3f1",
   "metadata": {},
   "outputs": [],
   "source": []
  },
  {
   "cell_type": "markdown",
   "id": "7fbbc903-8c65-43c9-9eff-907ade48bd30",
   "metadata": {},
   "source": [
    "Exponentially Weighted Window:\n",
    "\n",
    "1.Applies a function using exponentially weighted windows, giving more weight to recent data points."
   ]
  },
  {
   "cell_type": "markdown",
   "id": "cc300d73-7ed8-4961-bfa1-ee63890a9b40",
   "metadata": {},
   "source": [
    "2.Useful for giving more importance to recent observations in time series analysis."
   ]
  },
  {
   "cell_type": "markdown",
   "id": "248df4d8-1b30-44f5-b6b4-28f88e73d2a1",
   "metadata": {},
   "source": [
    "3.Useful for giving more importance to recent observations in time series analysis."
   ]
  },
  {
   "cell_type": "code",
   "execution_count": 20,
   "id": "4f9f0e78-44c5-48ac-9948-613d3cd343eb",
   "metadata": {},
   "outputs": [
    {
     "data": {
      "text/plain": [
       "1    0.390441\n",
       "2    0.498620\n",
       "3    0.261376\n",
       "4    0.826114\n",
       "5    0.000654\n",
       "6    0.171758\n",
       "Name: column_1, dtype: float64"
      ]
     },
     "execution_count": 20,
     "metadata": {},
     "output_type": "execute_result"
    }
   ],
   "source": [
    "df1['column_1'].ewm(span=1).mean()\n"
   ]
  },
  {
   "cell_type": "code",
   "execution_count": null,
   "id": "39a27118-5632-4570-88c7-e38d1474304d",
   "metadata": {},
   "outputs": [],
   "source": []
  },
  {
   "cell_type": "markdown",
   "id": "07d543c9-a416-43b3-99de-3ae5a5fd35ac",
   "metadata": {},
   "source": [
    "Q7. Write a code to print only the current month and year at the time of answering this question.\n",
    "[Hint: Use pandas.datetime function]"
   ]
  },
  {
   "cell_type": "code",
   "execution_count": 21,
   "id": "603c27c8-38f0-40ce-a5d6-35c6dcb696f0",
   "metadata": {},
   "outputs": [],
   "source": [
    "date = pd.Timestamp.now()\n",
    "current_month_year = date.strftime('%B %Y')"
   ]
  },
  {
   "cell_type": "code",
   "execution_count": 22,
   "id": "f3b0714e-67e8-4e2f-b417-310ff78b2659",
   "metadata": {},
   "outputs": [
    {
     "data": {
      "text/plain": [
       "'July 2024'"
      ]
     },
     "execution_count": 22,
     "metadata": {},
     "output_type": "execute_result"
    }
   ],
   "source": [
    "current_month_year"
   ]
  },
  {
   "cell_type": "code",
   "execution_count": null,
   "id": "5369bcb4-67fc-4d65-92ab-3e6f808e0c97",
   "metadata": {},
   "outputs": [],
   "source": []
  },
  {
   "cell_type": "markdown",
   "id": "02fe6fab-4033-4cd8-81b3-7372aa89ddb9",
   "metadata": {},
   "source": [
    "Q8. Write a Python program that takes in two dates as input (in the format YYYY-MM-DD) and\n",
    "calculates the difference between them in days, hours, and minutes using Pandas time delta. The\n",
    "program should prompt the user to enter the dates and display the result."
   ]
  },
  {
   "cell_type": "code",
   "execution_count": 23,
   "id": "026e9a40-0d1a-4044-a48b-f8dd36352f5d",
   "metadata": {},
   "outputs": [],
   "source": [
    "def difference(a, b):\n",
    "    Date1 = pd.Timestamp(a)\n",
    "    Date2 = pd.Timestamp(b)\n",
    "    \n",
    "    date_diff = Date1-Date2\n",
    "    \n",
    "    days = date_diff.days\n",
    "    hours,remainder = divmod(date_diff.seconds, 3600)\n",
    "    minutes = remainder // 60\n",
    "    \n",
    "    return days, hours, minutes"
   ]
  },
  {
   "cell_type": "code",
   "execution_count": 26,
   "id": "089ae475-bfaa-48d7-b984-6489a433b8c5",
   "metadata": {},
   "outputs": [
    {
     "name": "stdin",
     "output_type": "stream",
     "text": [
      "first date(YYYY-MM-DD): 2024-07-20\n",
      "second date(YYYY-MM-DD): 2024-07-10\n"
     ]
    }
   ],
   "source": [
    "date_1 = input(\"first date(YYYY-MM-DD):\")\n",
    "date_2 = input(\"second date(YYYY-MM-DD):\")"
   ]
  },
  {
   "cell_type": "code",
   "execution_count": 28,
   "id": "c7e7f222-6b77-4262-9e80-22c30eebb91a",
   "metadata": {},
   "outputs": [
    {
     "name": "stdout",
     "output_type": "stream",
     "text": [
      "The difference between the two dates is: 10 days, 0 hours, and 0 minutes.\n"
     ]
    }
   ],
   "source": [
    "days,hours,minutes =difference(date_1,date_2)\n",
    "print(f\"The difference between the two dates is: {days} days, {hours} hours, and {minutes} minutes.\")"
   ]
  },
  {
   "cell_type": "code",
   "execution_count": null,
   "id": "cf4e7d03-8744-49e8-a078-0a774cc495dd",
   "metadata": {},
   "outputs": [],
   "source": []
  },
  {
   "cell_type": "markdown",
   "id": "69659127-8557-498e-ac76-bb9991b6d977",
   "metadata": {},
   "source": [
    "Q9. Write a Python program that reads a CSV file containing categorical data and converts a specified\n",
    "column to a categorical data type. The program should prompt the user to enter the file path, column\n",
    "name, and category order, and then display the sorted data."
   ]
  },
  {
   "cell_type": "code",
   "execution_count": 29,
   "id": "7333f473-d2bd-46f8-be13-b516ea9bc852",
   "metadata": {},
   "outputs": [],
   "source": [
    "Name = [\"a\",\"b\",\"c\",\"d\"]\n",
    "Category = [\"high\",\"low\",\"high\",\"low\"]\n",
    "Value = [10,100,20,90]\n",
    "df = pd.DataFrame(data = {'name' : Name, 'category' : Category , 'value':Value})"
   ]
  },
  {
   "cell_type": "code",
   "execution_count": 30,
   "id": "d42ba311-5f51-4ec5-ad98-e26ac8d076ed",
   "metadata": {},
   "outputs": [],
   "source": [
    "df.to_csv(\"data.csv\")\n"
   ]
  },
  {
   "cell_type": "code",
   "execution_count": 31,
   "id": "960bd48b-52bb-4db9-b698-38f6d69bb224",
   "metadata": {},
   "outputs": [],
   "source": [
    "def categorical_data(file_path, column_name, category_order):\n",
    "    # Read the CSV file\n",
    "    df = pd.read_csv(file_path)\n",
    "    \n",
    "    # Convert the specified column to a categorical data type with the given order\n",
    "    df[column_name] = pd.Categorical(df[column_name], categories=category_order, ordered=True)\n",
    "    \n",
    "    # Sort the DataFrame by the specified column\n",
    "    sorted_data = df.sort_values(by=column_name)\n",
    "    \n",
    "    return sorted_data"
   ]
  },
  {
   "cell_type": "code",
   "execution_count": 32,
   "id": "8ca7848d-0b44-4546-9cdd-b88b6dc4c35b",
   "metadata": {},
   "outputs": [
    {
     "name": "stdin",
     "output_type": "stream",
     "text": [
      "Enter the file path:  data.csv\n",
      "Enter the column name:  category\n",
      "Enter the category order (comma-separated values):  high,low\n"
     ]
    }
   ],
   "source": [
    "file_path = input(\"Enter the file path: \")\n",
    "column_name = input(\"Enter the column name: \")\n",
    "category_order = input(\"Enter the category order (comma-separated values): \").split(',')"
   ]
  },
  {
   "cell_type": "code",
   "execution_count": 33,
   "id": "721ffca4-56b8-4aad-a6de-96d680a0e1d1",
   "metadata": {},
   "outputs": [
    {
     "name": "stdout",
     "output_type": "stream",
     "text": [
      "Sorted DataFrame:\n",
      "   Unnamed: 0 name category  value\n",
      "0           0    a     high     10\n",
      "2           2    c     high     20\n",
      "1           1    b      low    100\n",
      "3           3    d      low     90\n"
     ]
    }
   ],
   "source": [
    "# Convert the specified column to categorical and sort the data\n",
    "sorted_data = categorical_data(file_path, column_name, category_order)\n",
    "print(\"Sorted DataFrame:\")\n",
    "print(sorted_data)\n"
   ]
  },
  {
   "cell_type": "code",
   "execution_count": null,
   "id": "9f9d4956-62a3-462d-8f2f-18896d351af2",
   "metadata": {},
   "outputs": [],
   "source": []
  },
  {
   "cell_type": "markdown",
   "id": "32b78272-e93b-4d42-828f-9db352ed79d1",
   "metadata": {},
   "source": [
    "Q10. Write a Python program that reads a CSV file containing sales data for different products and\n",
    "visualizes the data using a stacked bar chart to show the sales of each product category over time. The\n",
    "program should prompt the user to enter the file path and display the chart."
   ]
  },
  {
   "cell_type": "code",
   "execution_count": 34,
   "id": "5f2870bc-6abe-481f-89f3-0aa74d8a304b",
   "metadata": {},
   "outputs": [],
   "source": [
    "import pandas as pd\n",
    "import matplotlib.pyplot as plt"
   ]
  },
  {
   "cell_type": "code",
   "execution_count": 35,
   "id": "790c828b-7da1-4fd2-a6c0-047401cac6b4",
   "metadata": {},
   "outputs": [],
   "source": [
    "data = {\"sale_pro\":['product1','product2','product3','product1','product2','product3','product3'],\n",
    "       \"sale_of_each_product\": [1000,2000,500,1500,1800,500,1000],\n",
    "       \"date\":[\"2024-07-20\",\"2024-07-20\",\"2024-07-22\",\"2024-07-22\",\"2024-07-24\",\"2024-07-24\",\"2024-07-24\"]}\n",
    "df=pd.DataFrame(data)\n",
    "df.to_csv(\"data1.csv\")"
   ]
  },
  {
   "cell_type": "code",
   "execution_count": 38,
   "id": "70a50afe-c1b6-43fb-a2f8-5e81bb8c281e",
   "metadata": {},
   "outputs": [],
   "source": [
    "def test(file_path):\n",
    "    df=pd.read_csv(file_path)\n",
    "    df.drop(df.columns[0],axis=1,inplace=True)\n",
    "    \n",
    "    df1=df.groupby([\"sale_pro\",\"date\"]).sum().unstack().fillna(0)\n",
    "    \n",
    "    df1.plot(kind='bar',stacked=True)\n",
    "    plt.title('Sales of Each Product Category Over Time')\n",
    "    plt.xlabel('Date')\n",
    "    plt.ylabel('Sales')\n",
    "    plt.legend(title='Product Category')\n",
    "    plt.show()"
   ]
  },
  {
   "cell_type": "code",
   "execution_count": 39,
   "id": "e9ff24fa-5ec6-496e-8802-ba92d0477d3b",
   "metadata": {},
   "outputs": [
    {
     "name": "stdin",
     "output_type": "stream",
     "text": [
      "Enter file path: data1.csv\n"
     ]
    },
    {
     "data": {
      "image/png": "[encoded data removed]",
      "text/plain": [
       "<Figure size 640x480 with 1 Axes>"
      ]
     },
     "metadata": {},
     "output_type": "display_data"
    }
   ],
   "source": [
    "file = input(\"Enter file path:\")\n",
    "df = test(file)"
   ]
  },
  {
   "cell_type": "code",
   "execution_count": null,
   "id": "abdcdde8-080e-44c6-8914-94d979858ac5",
   "metadata": {},
   "outputs": [],
   "source": []
  },
  {
   "cell_type": "markdown",
   "id": "ecf18acb-d5a6-4a5a-9eaf-9b96a0fe5651",
   "metadata": {},
   "source": [
    "Q11. You are given a CSV file containing student data that includes the student ID and their test score. Write\n",
    "a Python program that reads the CSV file, calculates the mean, median, and mode of the test scores, and\n",
    "displays the results in a table."
   ]
  },
  {
   "cell_type": "markdown",
   "id": "be83fe29-c568-4e02-9fa7-9a8b8e4e7167",
   "metadata": {},
   "source": [
    "The program should do the followingM"
   ]
  },
  {
   "cell_type": "raw",
   "id": "400c46c9-2e3d-457a-b11e-e6bffaa488b3",
   "metadata": {},
   "source": [
    "I Prompt the user to enter the file path of the CSV file containing the student dataR\n",
    "I Read the CSV file into a Pandas DataFrameR\n",
    "I Calculate the mean, median, and mode of the test scores using Pandas toolsR\n",
    "I Display the mean, median, and mode in a table."
   ]
  },
  {
   "cell_type": "code",
   "execution_count": 40,
   "id": "64f479a9-037e-4596-ab0a-2f05da63b76f",
   "metadata": {},
   "outputs": [],
   "source": [
    "data= {\"Student ID\":[1,2,3,4,5,6,7,8,9,10],\n",
    "      \"Test Score\":[85,90,80,75,85,82,78,85,90,85]}\n",
    "df = pd.DataFrame(data)"
   ]
  },
  {
   "cell_type": "code",
   "execution_count": null,
   "id": "1af231d3-c474-42ef-9bf5-691f14379ad1",
   "metadata": {},
   "outputs": [],
   "source": []
  }
 ],
 "metadata": {
  "kernelspec": {
   "display_name": "Python 3 (ipykernel)",
   "language": "python",
   "name": "python3"
  },
  "language_info": {
   "codemirror_mode": {
    "name": "ipython",
    "version": 3
   },
   "file_extension": ".py",
   "mimetype": "text/x-python",
   "name": "python",
   "nbconvert_exporter": "python",
   "pygments_lexer": "ipython3",
   "version": "3.10.8"
  }
 },
 "nbformat": 4,
 "nbformat_minor": 5
}
