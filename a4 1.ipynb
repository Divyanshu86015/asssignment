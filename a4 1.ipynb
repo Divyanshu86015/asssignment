{
 "cells": [
  {
   "cell_type": "markdown",
   "id": "f0810558-7f99-4dad-be32-70bfd7ce7fa8",
   "metadata": {},
   "source": [
    "Q1, Create a vehicle class with an init method having instance variables as name_of_vehicle, max_speed\n",
    "and average_of_vehicle."
   ]
  },
  {
   "cell_type": "code",
   "execution_count": 1,
   "id": "bffde9e5-cd65-4357-bea9-5e63686ef09f",
   "metadata": {},
   "outputs": [],
   "source": [
    "class vehicle:\n",
    "    def __init__(self,name_of_vehicle,max_speed,average_of_vehicle):\n",
    "        self.name_of_vehicle = name_of_vehicle\n",
    "        self.max_speed = max_speed\n",
    "        self.average_of_vehicle = average_of_vehicle\n",
    "    def vehicle_class(self):\n",
    "         print(\"name_of_vehicle\",\"max_speed\",\"average_of_vehicle\")"
   ]
  },
  {
   "cell_type": "code",
   "execution_count": null,
   "id": "75edd0e1-fb53-47e9-b203-ce8171842b8d",
   "metadata": {},
   "outputs": [],
   "source": []
  },
  {
   "cell_type": "markdown",
   "id": "fa1a936e-7bc5-4bec-ba59-7d5242146cfa",
   "metadata": {},
   "source": [
    "Q2. Create a child class car from the vehicle class created in Que 1, which will inherit the vehicle class.\n",
    "Create a method named seating_capacity which takes capacity as an argument and returns the name of\n",
    "the vehicle and its seating capacity."
   ]
  },
  {
   "cell_type": "code",
   "execution_count": 5,
   "id": "a85c19d6-f71e-497e-9a7b-a0ee46818eec",
   "metadata": {},
   "outputs": [],
   "source": [
    "class Vehicle:\n",
    "    def __init__(self, name_of_vehicle, max_speed, average_of_vehicle):\n",
    "        self.name_of_vehicle = name_of_vehicle\n",
    "        self.max_speed = max_speed\n",
    "        self.average_of_vehicle = average_of_vehicle\n",
    "\n",
    "class Car(Vehicle):\n",
    "    def __init__(self, name_of_vehicle, max_speed, average_of_vehicle):\n",
    "        super().__init__(name_of_vehicle, max_speed, average_of_vehicle)\n",
    "\n",
    "    def seating_capacity(self, capacity):\n",
    "        return f\"{self.name_of_vehicle} has a seating capacity of {capacity} people.\"\n",
    "\n"
   ]
  },
  {
   "cell_type": "code",
   "execution_count": 6,
   "id": "4814abe1-47c9-4145-a65c-f7ad35019dd2",
   "metadata": {},
   "outputs": [],
   "source": [
    "car = Car(\"Car\", 200, 30)"
   ]
  },
  {
   "cell_type": "code",
   "execution_count": 7,
   "id": "d5c3e2ae-6dcf-4ec3-92d9-efae584dd60c",
   "metadata": {},
   "outputs": [
    {
     "data": {
      "text/plain": [
       "'Car has a seating capacity of 5 people.'"
      ]
     },
     "execution_count": 7,
     "metadata": {},
     "output_type": "execute_result"
    }
   ],
   "source": [
    "car.seating_capacity(5)"
   ]
  },
  {
   "cell_type": "code",
   "execution_count": null,
   "id": "2bd6404f-d842-4a49-84b2-9db12e6580d6",
   "metadata": {},
   "outputs": [],
   "source": []
  },
  {
   "cell_type": "markdown",
   "id": "f2299a14-7e72-4ba3-be3a-b51b0bb45d91",
   "metadata": {},
   "source": [
    "Q3. What is multiple inheritance? Write a python code to demonstrate multiple inheritance."
   ]
  },
  {
   "cell_type": "markdown",
   "id": "fdb0cfbd-251f-4d03-8bf8-facbf923ff45",
   "metadata": {},
   "source": [
    " Ans = Multiple inheritance is a feature in object-oriented programming where a class can inherit attributes and methods from more than one parent class. In multiple inheritance, a subclass can inherit from multiple superclasses, allowing it to combine features and behaviors from different sources."
   ]
  },
  {
   "cell_type": "code",
   "execution_count": 8,
   "id": "f9e8d1fb-d7d6-4ae3-b687-7914df0f4895",
   "metadata": {},
   "outputs": [],
   "source": [
    "class Animal:\n",
    "    def __init__(self, name):\n",
    "        self.name = name\n",
    "\n",
    "    def speak(self):\n",
    "        pass\n",
    "    \n",
    "class Bird:\n",
    "    def __init__(self, wingspan):\n",
    "        self.wingspan = wingspan\n",
    "\n",
    "    def fly(self):\n",
    "        pass\n",
    "\n",
    "class Parrot(Animal, Bird):\n",
    "    def __init__(self, name, wingspan):\n",
    "        Animal.__init__(self, name)\n",
    "        Bird.__init__(self, wingspan)\n",
    "\n",
    "    def speak(self):\n",
    "        return f\"{self.name} says 'Polly wants a cracker!'\"\n",
    "\n",
    "    def fly(self):\n",
    "        return f\"{self.name} can fly with a wingspan of {self.wingspan} inches.\"\n",
    "\n"
   ]
  },
  {
   "cell_type": "code",
   "execution_count": 9,
   "id": "181b4e89-a4d8-4712-8473-2b394e6cce4e",
   "metadata": {},
   "outputs": [],
   "source": [
    "parrot = Parrot(\"Polly\", 12)"
   ]
  },
  {
   "cell_type": "code",
   "execution_count": 10,
   "id": "36c1ce6c-24ee-483e-8856-e5b9e6e2a02c",
   "metadata": {},
   "outputs": [
    {
     "data": {
      "text/plain": [
       "'Polly can fly with a wingspan of 12 inches.'"
      ]
     },
     "execution_count": 10,
     "metadata": {},
     "output_type": "execute_result"
    }
   ],
   "source": [
    "parrot.fly()"
   ]
  },
  {
   "cell_type": "code",
   "execution_count": null,
   "id": "38773536-5863-4cde-893d-6cc5d07d9105",
   "metadata": {},
   "outputs": [],
   "source": []
  },
  {
   "cell_type": "markdown",
   "id": "5792bc65-192e-4c32-b27c-2dccb803174d",
   "metadata": {},
   "source": [
    "Q4. What are getter and setter in python? Create a class and create a getter and a setter method in this\n",
    "class."
   ]
  },
  {
   "cell_type": "markdown",
   "id": "1bef52a7-fa6c-4df0-806c-58bc9093c445",
   "metadata": {},
   "source": [
    " Ans= Getter and Setter methods are used to control access to the attributes (instance variables) of a class. They allow you to encapsulate the attributes and provide a controlled way to get and set their values, enabling better data abstraction and validation.\n",
    "\n",
    "Getter Method: A getter method is used to retrieve the value of an attribute. It provides read-only access to the attribute.\n",
    "\n",
    "Setter Method: A setter method is used to set the value of an attribute. It provides write-only access to the attribute and often includes validation logic to ensure the new value is appropriate."
   ]
  },
  {
   "cell_type": "code",
   "execution_count": 12,
   "id": "13d53627-7a20-47d9-ae67-bd761fc109e0",
   "metadata": {},
   "outputs": [],
   "source": [
    "class Student:\n",
    "    def __init__(self, name, age):\n",
    "        self._name = name  \n",
    "        self._age = age\n",
    "        \n",
    "    def get_name(self):\n",
    "        return self._name\n",
    "\n",
    "    def set_name(self, new_name):\n",
    "        if isinstance(new_name, str):\n",
    "            self._name = new_name\n",
    "        else:\n",
    "            print(\"Invalid name format. Name must be a string.\")\n",
    "\n",
    "    def get_age(self):\n",
    "        return self._age\n",
    "\n",
    "    def set_age(self, new_age):\n",
    "        if isinstance(new_age, int) and new_age >= 0:\n",
    "            self._age = new_age\n",
    "        else:\n",
    "            print(\"Invalid age format. Age must be a positive integer.\")"
   ]
  },
  {
   "cell_type": "code",
   "execution_count": 21,
   "id": "d51eba5a-228b-4095-848a-aa0e87bf4a2c",
   "metadata": {},
   "outputs": [],
   "source": [
    "student1 = Student(\"Divyanshu\", 20)"
   ]
  },
  {
   "cell_type": "code",
   "execution_count": 22,
   "id": "734c09d8-7df5-41ed-89e5-ba0c4d722d8c",
   "metadata": {},
   "outputs": [
    {
     "data": {
      "text/plain": [
       "'Divyanshu'"
      ]
     },
     "execution_count": 22,
     "metadata": {},
     "output_type": "execute_result"
    }
   ],
   "source": [
    "student1.get_name()"
   ]
  },
  {
   "cell_type": "code",
   "execution_count": 23,
   "id": "5427ffea-5acf-4b09-8a66-ea53365dadc0",
   "metadata": {},
   "outputs": [],
   "source": [
    "student1.set_name(\"Div\")\n",
    "student1.set_age(25)"
   ]
  },
  {
   "cell_type": "code",
   "execution_count": 24,
   "id": "8fd66435-e4de-47f3-ac38-dff213274466",
   "metadata": {},
   "outputs": [
    {
     "data": {
      "text/plain": [
       "25"
      ]
     },
     "execution_count": 24,
     "metadata": {},
     "output_type": "execute_result"
    }
   ],
   "source": [
    "student1.get_age()"
   ]
  },
  {
   "cell_type": "code",
   "execution_count": null,
   "id": "205a9a1c-7fed-4f1f-88c7-a731dd50ff12",
   "metadata": {},
   "outputs": [],
   "source": []
  },
  {
   "cell_type": "markdown",
   "id": "1913e922-32dd-4d29-b427-1ab87971fca0",
   "metadata": {},
   "source": [
    "Q5.What is method overriding in python? Write a python code to demonstrate method overriding."
   ]
  },
  {
   "cell_type": "markdown",
   "id": "ca65ecef-8b3c-4c44-a1fa-0b4d46178fec",
   "metadata": {},
   "source": [
    " Ans= Method overriding is a feature in object-oriented programming that allows a subclass to provide a specific implementation of a method that is already defined in its superclass. When a method is overridden in the subclass, the subclass version of the method is called instead of the superclass version when the method is invoked on an instance of the subclass. This allows for customizing or extending the behavior of a method in the subclass while maintaining a common interface defined in the superclass."
   ]
  },
  {
   "cell_type": "code",
   "execution_count": null,
   "id": "918e8b5d-23c3-406e-89cc-766ffd7753a2",
   "metadata": {},
   "outputs": [],
   "source": [
    "class Animal:\n",
    "    def speak(self):\n",
    "        return \"Animal speaks generic sounds\"\n",
    "\n",
    "class Dog(Animal):\n",
    "    def speak(self):\n",
    "        return \"Dog barks\"\n",
    "    \n",
    "class Cat(Animal):\n",
    "    def speak(self):\n",
    "        return \"Cat meows\"\n",
    "\n",
    "\n",
    "dog = Dog()\n",
    "cat = Cat\n"
   ]
  }
 ],
 "metadata": {
  "kernelspec": {
   "display_name": "Python 3 (ipykernel)",
   "language": "python",
   "name": "python3"
  },
  "language_info": {
   "codemirror_mode": {
    "name": "ipython",
    "version": 3
   },
   "file_extension": ".py",
   "mimetype": "text/x-python",
   "name": "python",
   "nbconvert_exporter": "python",
   "pygments_lexer": "ipython3",
   "version": "3.10.8"
  }
 },
 "nbformat": 4,
 "nbformat_minor": 5
}
