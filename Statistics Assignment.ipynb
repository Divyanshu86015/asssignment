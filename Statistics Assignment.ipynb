{
 "cells": [
  {
   "cell_type": "markdown",
   "id": "89ffe9ec-b5d0-49bf-98c0-969780c6ff67",
   "metadata": {},
   "source": [
    "Q1. What is Statistics?"
   ]
  },
  {
   "cell_type": "markdown",
   "id": "a975afa8-0f21-46ee-8cde-8279af300ee1",
   "metadata": {},
   "source": [
    "Answer  = Statistics is the branch of mathematics that deals with the collection, analysis, interpretation, presentation, and organization of data. It provides techniques for making sense of numerical data and drawing meaningful conclusions"
   ]
  },
  {
   "cell_type": "code",
   "execution_count": null,
   "id": "e48abfc7-a83b-43dc-bd8f-fc7c5515512a",
   "metadata": {},
   "outputs": [],
   "source": []
  },
  {
   "cell_type": "markdown",
   "id": "9f4b2b11-eba7-4a04-8ab9-d5d2c329dd99",
   "metadata": {},
   "source": [
    "Q2. Define the different types of statistics and give an example of when each type might be used."
   ]
  },
  {
   "cell_type": "markdown",
   "id": "ef08b086-0a9f-4a15-b6d3-6f9423928f31",
   "metadata": {},
   "source": [
    "Answer = There are two type of statistics.\n",
    "\n",
    "1. Descriptive Statistics\n",
    "\n",
    "Definition: Descriptive statistics summarize and describe the main features of a dataset. They provide simple summaries about the sample and the measures."
   ]
  },
  {
   "cell_type": "markdown",
   "id": "0cddccab-0e56-4c37-b929-52a0e18c838e",
   "metadata": {},
   "source": [
    "Examples of Descriptive Statistics:\n",
    "\n",
    "Measures of Central Tendency: Mean, median, mode\n",
    "\n",
    "Measures of Variability: Range, variance, standard deviation\n",
    "\n",
    "Graphical Representations: Histograms, bar charts, pie charts"
   ]
  },
  {
   "cell_type": "markdown",
   "id": "73e6800f-cf26-41fa-b472-b2823487f41a",
   "metadata": {},
   "source": [
    "Example Use Case: A company might use descriptive statistics to summarize the results of a customer satisfaction survey. They could calculate the average satisfaction rating, identify the most common feedback points, and visualize the distribution of responses using charts"
   ]
  },
  {
   "cell_type": "markdown",
   "id": "6b0fbc7b-e752-47ea-8c46-6dc14ef16e34",
   "metadata": {},
   "source": [
    "2. Inferential Statistics\n",
    "\n",
    "Definition: Inferential statistics use a random sample of data taken from a population to make inferences about the population. This type of statistics helps to make predictions or generalizations about a larger group based on the sample data."
   ]
  },
  {
   "cell_type": "markdown",
   "id": "d59b3ecc-f48e-485d-b9f0-2080cbf6b377",
   "metadata": {},
   "source": [
    "Examples of Inferential Statistics:\n",
    "\n",
    "Hypothesis Testing: T-tests, chi-square tests\n",
    "\n",
    "Confidence Intervals: Estimating the population parameter range\n",
    "\n",
    "Regression Analysis: Determining relationships between variables\n",
    "\n",
    "ANOVA (Analysis of Variance): Comparing means among different groups"
   ]
  },
  {
   "cell_type": "code",
   "execution_count": null,
   "id": "3fb74d72-ad95-4631-9009-8cca48ccd6cf",
   "metadata": {},
   "outputs": [],
   "source": []
  },
  {
   "cell_type": "markdown",
   "id": "03eff0c9-f5a1-4185-b3a7-ace6c51ca7f3",
   "metadata": {},
   "source": [
    "Q3. What are the different types of data and how do they differ from each other? Provide an example of\n",
    "each type of data."
   ]
  },
  {
   "cell_type": "markdown",
   "id": "b48af0db-211e-411c-a120-b7cd01df4c3b",
   "metadata": {},
   "source": [
    "Answer = 1. Quantitative Data\n",
    "\n",
    "Quantitative data represent quantities and are numerical. They can be further divided into two subtypes: discrete and continuous."
   ]
  },
  {
   "cell_type": "markdown",
   "id": "46c8cff5-ee3c-4a11-a51e-2993f7938039",
   "metadata": {},
   "source": [
    "Discrete Data: These are countable values that can take on a finite number of distinct values. They often represent counts of items or events.\n",
    "\n",
    "Example: The number of students in a classroom (e.g., 20 students).\n",
    "\n",
    "Continuous Data: These are measurable values that can take on any value within a range. They often represent measurements and can have an infinite number of possible values within a given range.\n",
    "\n",
    "Example: The height of students in a classroom (e.g., 160.5 cm, 170.2 cm).\n"
   ]
  },
  {
   "cell_type": "markdown",
   "id": "936e2293-93e7-432f-91c2-722a7d8e595f",
   "metadata": {},
   "source": [
    "2. Qualitative Data\n",
    "\n",
    "Qualitative data represent categories or qualities and are non-numerical. They can be further divided into two subtypes: nominal and ordinal."
   ]
  },
  {
   "cell_type": "markdown",
   "id": "c8563620-5826-42cc-af55-18af29cd7f98",
   "metadata": {},
   "source": [
    "Nominal Data: These represent categories without any inherent order or ranking. They are used for labeling variables without a quantitative value.\n",
    "\n",
    "Example: Types of fruits (e.g., apples, oranges, bananas).\n",
    "\n",
    "Ordinal Data: These represent categories with a meaningful order or ranking, but the intervals between the categories are not necessarily equal.\n",
    "\n",
    "Example: Education levels (e.g., high school, bachelor's degree, master's degree, PhD)."
   ]
  },
  {
   "cell_type": "code",
   "execution_count": null,
   "id": "d865dcf5-534f-44c3-86ba-c27e0571c220",
   "metadata": {},
   "outputs": [],
   "source": []
  },
  {
   "cell_type": "markdown",
   "id": "d0bcfed0-60b5-4067-a4b1-39774750b592",
   "metadata": {},
   "source": [
    "Q4. Categorise the following datasets with respect to quantitative and qualitative data types:\n",
    "    \n",
    "(i) Grading in exam: A+, A, B+, B, C+, C, D, E\n",
    "\n",
    "(ii) Colour of mangoes: yellow, green, orange, red\n",
    "\n",
    "(iii) Height data of a class: [178.9, 179, 179.5, 176, 177.2, 178.3, 175.8,...]\n",
    "\n",
    "(iv) Number of mangoes exported by a farm: [500, 600, 478, 672, ...]"
   ]
  },
  {
   "cell_type": "markdown",
   "id": "fbcac51c-cbe0-4e06-abfb-438dd9619fdb",
   "metadata": {},
   "source": [
    "1.Grading in exam: A+, A, B+, B, C+, C, D, E\n",
    "\n",
    "Type: Qualitative (Ordinal)\n",
    "\n",
    "Reason: The grades represent categories with a meaningful order or ranking (from highest to lowest), but the intervals between the grades are not necessarily equal."
   ]
  },
  {
   "cell_type": "markdown",
   "id": "3bed6f7d-e0e6-4269-b406-70d2042fb009",
   "metadata": {},
   "source": [
    "2.Colour of mangoes: yellow, green, orange, red\n",
    "\n",
    "Type: Qualitative (Nominal) \n",
    "\n",
    "Reason: The colors represent categories without any inherent order or ranking. They are used for labeling without a quantitative value."
   ]
  },
  {
   "cell_type": "markdown",
   "id": "107ee7ad-cdab-4ce7-8179-d5241895d050",
   "metadata": {},
   "source": [
    "3.Height data of a class: [178.9, 179, 179.5, 176, 177.2, 178.3, 175.8,...]\n",
    "\n",
    "Type: Quantitative (Continuous)\n",
    "\n",
    "Reason: The height values are numerical measurements that can take on any value within a range and are used to quantify the heights of individuals in a class."
   ]
  },
  {
   "cell_type": "markdown",
   "id": "03e60bb1-ad63-490f-977c-7e65ded76cad",
   "metadata": {},
   "source": [
    "4.Number of mangoes exported by a farm: [500, 600, 478, 672, ...]\n",
    "\n",
    "Type: Quantitative (Discrete)\n",
    "\n",
    "Reason: The numbers represent countable quantities of mangoes exported, and they can take on distinct values."
   ]
  },
  {
   "cell_type": "code",
   "execution_count": null,
   "id": "274e8ebd-2615-4f4c-b8ac-71769341915d",
   "metadata": {},
   "outputs": [],
   "source": []
  },
  {
   "cell_type": "markdown",
   "id": "8616b413-d6a2-4ba7-9182-c1258f7dbdb4",
   "metadata": {},
   "source": [
    "Q5. Explain the concept of levels of measurement and give an example of a variable for each level."
   ]
  },
  {
   "cell_type": "markdown",
   "id": "e1a4616a-f517-499c-b7a6-d6ac2570a17e",
   "metadata": {},
   "source": [
    "Answer = 1. Nominal : \n",
    "    \n",
    "    1.Qualitative/Categorical\n",
    "    \n",
    "    2.Order does not matter \n",
    "    \n",
    "    Example: Gender (male, female, non-binary, other"
   ]
  },
  {
   "cell_type": "markdown",
   "id": "e8b8f356-f7c7-4545-a5d4-c0ef76033703",
   "metadata": {},
   "source": [
    "2.Ordinal :\n",
    "    \n",
    "    1.Ranking is important\n",
    "    \n",
    "    2.Order matter\n",
    "    \n",
    "    3.Difference \n",
    "    \n",
    "    Example: Education levels (high school, bachelor's degree, master's degree, PhD)"
   ]
  },
  {
   "cell_type": "markdown",
   "id": "2ffa2574-a252-4697-9b44-d77fde1a8962",
   "metadata": {},
   "source": [
    "3.Interval:\n",
    "    \n",
    "    1.The order matter\n",
    "    \n",
    "    2.Difference can be measured\n",
    "    \n",
    "    3.Ratio can not be measure\n",
    "    \n",
    "    4.No \"0\" starting point\n",
    "    \n",
    "    Example: Temperature in Celsius or Fahrenheit"
   ]
  },
  {
   "cell_type": "markdown",
   "id": "b46f9c5b-8cbc-42ab-8670-ba3b8948d734",
   "metadata": {},
   "source": [
    "4. Ratio:\n",
    "\n",
    "    1.The order matter \n",
    "    \n",
    "    2.Difference are measurable (including ratio)\n",
    "    \n",
    "    3.Caantain a \"0\" starting point \n",
    "    \n",
    "    Example: Height (in centimeters)"
   ]
  },
  {
   "cell_type": "code",
   "execution_count": null,
   "id": "c3878c50-934a-40b8-aed2-1c9abc0c7f4b",
   "metadata": {},
   "outputs": [],
   "source": []
  },
  {
   "cell_type": "markdown",
   "id": "233cbbdb-896f-442c-b48d-fd7ab5d87faf",
   "metadata": {},
   "source": [
    "Q6. Why is it important to understand the level of measurement when analyzing data? Provide an\n",
    "example to illustrate your answer."
   ]
  },
  {
   "cell_type": "markdown",
   "id": "4b3c1af4-a050-4504-933f-9fe85deaf2eb",
   "metadata": {},
   "source": [
    "Answer = Understanding the level of measurement is crucial when analyzing data because it determines the types of statistical analyses that are appropriate and the conclusions that can be drawn."
   ]
  },
  {
   "cell_type": "markdown",
   "id": "de9864d6-25b0-4b13-9374-5a17ae703263",
   "metadata": {},
   "source": [
    "Illustrative Example:\n",
    "\n",
    "let's Consider a company conducting a survey to evaluate employee satisfaction. They gather data on:\n",
    "\n",
    "Department (nominal: HR, Sales, IT, Marketing)\n",
    "\n",
    "Satisfaction Rating (ordinal: very dissatisfied, dissatisfied, neutral, satisfied, very satisfied)\n",
    "\n",
    "Years of Service (ratio: 1, 2, 3, ... 20 years)\n",
    "\n",
    "Annual Salary (ratio: $30,000, $40,000, $50,000, ...)"
   ]
  },
  {
   "cell_type": "code",
   "execution_count": null,
   "id": "107aaff9-5707-431f-b6a8-5d1338e6529e",
   "metadata": {},
   "outputs": [],
   "source": []
  },
  {
   "cell_type": "markdown",
   "id": "aa89851f-0537-4c71-90f7-bb8edf9fe30d",
   "metadata": {},
   "source": [
    "Q7. How nominal data type is different from ordinal data type."
   ]
  },
  {
   "cell_type": "markdown",
   "id": "baf60931-18d1-4316-a06e-b87c05e0443e",
   "metadata": {},
   "source": [
    "Answer = Nominal and ordinal data are both types of qualitative data, but they differ in their structure .\n"
   ]
  },
  {
   "cell_type": "markdown",
   "id": "66839360-57a0-4dca-8e45-42bf88197d43",
   "metadata": {},
   "source": [
    "Nominal Data\n",
    "\n",
    "Definition: Nominal data represent categories that do not have any inherent order or ranking. They are simply labels used to identify or classify items.\n",
    "\n",
    "Characteristics:\n",
    "\n",
    "No Order: The categories cannot be ranked or ordered meaningfully.\n",
    "\n",
    "Categorization: Used to classify data into distinct categories without any quantitative value.\n",
    "\n",
    "Examples: Types of fruit (apple, orange, banana), colors (red, blue, green), gender (male, female, non-binary)."
   ]
  },
  {
   "cell_type": "markdown",
   "id": "a8f7d8a7-7219-4bc0-88ae-5075b47775b2",
   "metadata": {},
   "source": [
    "Ordinal Data\n",
    "\n",
    "Definition: Ordinal data represent categories that have a meaningful order or ranking. While the categories are ordered, the intervals between them are not necessarily equal or quantifiable.\n",
    "\n",
    "Characteristics:\n",
    "\n",
    "Order: The categories have a natural, meaningful order or ranking.\n",
    "\n",
    "Ranking: Categories can be compared in terms of greater or lesser, but the exact differences between ranks are not uniform or measurable.\n",
    "\n",
    "Examples: Customer satisfaction ratings (very dissatisfied, dissatisfied, neutral, satisfied, very satisfied), educational levels (high school, bachelor's degree, master's degree, PhD)."
   ]
  },
  {
   "cell_type": "code",
   "execution_count": null,
   "id": "54edb1cc-30b6-47ca-8471-1a61316375ee",
   "metadata": {},
   "outputs": [],
   "source": []
  },
  {
   "cell_type": "markdown",
   "id": "19c72404-8f3a-4cd5-852f-764e2967451e",
   "metadata": {},
   "source": [
    "Q8. Which type of plot can be used to display data in terms of range?"
   ]
  },
  {
   "cell_type": "markdown",
   "id": "7bfb274b-2cba-4ce8-a0bb-fa2bf9f2950c",
   "metadata": {},
   "source": [
    "Answer = To display data in terms of range, we can use several types of plots, each offering a different perspective on the data's range. \n",
    "But here we talk about the Range plot which is use to display data in terms of range .\n",
    "\n",
    "Range Plot\n",
    "\n",
    "Description: A range plot explicitly visualizes the minimum and maximum values of a dataset, often by plotting these values against each other or across categories. It can be useful for highlighting the span of data values.\n",
    "\n",
    "Uses: Effective for visualizing the range in datasets with distinct categories or time series data.\n",
    "\n",
    "Example: Plotting the minimum and maximum temperatures for each month over a year to show seasonal variations."
   ]
  },
  {
   "cell_type": "code",
   "execution_count": null,
   "id": "b5e93dcd-21f5-4dbc-8170-0a131a067236",
   "metadata": {},
   "outputs": [],
   "source": []
  },
  {
   "cell_type": "markdown",
   "id": "a4347c83-237b-4e3d-8e9c-6e817769094d",
   "metadata": {},
   "source": [
    "Q9. Describe the difference between descriptive and inferential statistics. Give an example of each\n",
    "type of statistics and explain how they are used."
   ]
  },
  {
   "cell_type": "markdown",
   "id": "5e6b70f5-545b-4260-92db-6475ff4e66ec",
   "metadata": {},
   "source": [
    "Descriptive Statistics\n",
    "\n",
    "Definition: Descriptive statistics involve methods for summarizing and presenting the main features of a dataset in a concise and understandable manner. These methods describe the basic characteristics of the data, such as its central tendency, variability, and distribution.\n",
    "\n",
    "Purpose: To provide a clear summary of the data, making it easier to understand and interpret. Descriptive statistics do not make predictions or generalizations beyond the data at hand.Answer = "
   ]
  },
  {
   "cell_type": "markdown",
   "id": "09e25a48-4aed-4d9d-8f1e-26a6a26b4af5",
   "metadata": {},
   "source": [
    "Inferential Statistics\n",
    "\n",
    "Definition: Inferential statistics involve methods for making predictions or inferences about a population based on a sample of data. These methods allow for generalizations and testing hypotheses to draw conclusions about the broader population.\n",
    "\n",
    "Purpose: To make statements or predictions about a population based on sample data and to test hypotheses about the relationships between variables."
   ]
  },
  {
   "cell_type": "markdown",
   "id": "6c341aee-7717-4c44-bff2-d6b7a829abb9",
   "metadata": {},
   "source": [
    "Examples :"
   ]
  },
  {
   "cell_type": "markdown",
   "id": "1ccf4fd1-1560-409b-9c44-d4163cb28714",
   "metadata": {},
   "source": [
    "Descriptive Statistics:\n",
    "\n",
    "Goal: Summarize and describe the characteristics of a dataset.\n",
    "\n",
    "Examples: Mean, median, mode, standard deviation, histograms.\n",
    "\n",
    "Inferential Statistics:\n",
    "\n",
    "Goal: Make predictions or generalizations about a population based on a sample.\n",
    "\n",
    "Examples: Hypothesis testing, confidence intervals, regression analysis."
   ]
  },
  {
   "cell_type": "code",
   "execution_count": null,
   "id": "96a5918e-7670-40c8-9a44-5f9857048c75",
   "metadata": {},
   "outputs": [],
   "source": []
  },
  {
   "cell_type": "markdown",
   "id": "6eb4d9c3-220a-4380-b30a-a8a340c69b21",
   "metadata": {},
   "source": [
    "Q10. What are some common measures of central tendency and variability used in statistics? Explain\n",
    "how each measure can be used to describe a dataset."
   ]
  },
  {
   "cell_type": "markdown",
   "id": "07f794aa-fa03-468a-a69c-52a4c919f9a0",
   "metadata": {},
   "source": [
    "Answer =Measures of central tendency and variability are fundamental statistical tools used to summarize and describe the characteristics of a dataset"
   ]
  },
  {
   "cell_type": "markdown",
   "id": "d4152390-7094-48c5-ad0d-54d2d4144407",
   "metadata": {},
   "source": [
    "Central Tendency:\n",
    "\n",
    "Mean: Average value, useful for general understanding of the dataset.\n",
    "\n",
    "Median: Middle value, useful for skewed datasets or when outliers are present.\n",
    "\n",
    "Mode: Most frequent value, useful for categorical data or identifying common values.\n",
    "\n",
    "Variability:\n",
    "\n",
    "Range: Simple measure of spread, useful for a quick understanding of data dispersion.\n",
    "\n",
    "Variance: Measures squared deviations, useful for understanding overall variability.\n",
    "\n",
    "Standard Deviation: Measures average deviation, useful for interpreting variability in the same units as the data."
   ]
  },
  {
   "cell_type": "code",
   "execution_count": null,
   "id": "b532ecb1-d964-4bda-82a4-492bb855c5a0",
   "metadata": {},
   "outputs": [],
   "source": []
  }
 ],
 "metadata": {
  "kernelspec": {
   "display_name": "Python 3 (ipykernel)",
   "language": "python",
   "name": "python3"
  },
  "language_info": {
   "codemirror_mode": {
    "name": "ipython",
    "version": 3
   },
   "file_extension": ".py",
   "mimetype": "text/x-python",
   "name": "python",
   "nbconvert_exporter": "python",
   "pygments_lexer": "ipython3",
   "version": "3.10.8"
  }
 },
 "nbformat": 4,
 "nbformat_minor": 5
}
