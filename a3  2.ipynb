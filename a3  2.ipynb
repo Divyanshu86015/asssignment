{
 "cells": [
  {
   "cell_type": "markdown",
   "id": "048c038e-4667-4502-bc42-d554fa887577",
   "metadata": {},
   "source": [
    "Q1. Create a python program to sort the given list of tuples based on integer value using a\n",
    "lambda function."
   ]
  },
  {
   "cell_type": "code",
   "execution_count": 2,
   "id": "7a973d3f-1468-4f98-b7ca-46b9e23bcb23",
   "metadata": {},
   "outputs": [
    {
     "name": "stdout",
     "output_type": "stream",
     "text": [
      "Virat Kohli 24936\n",
      "Jack Kallis 25534\n",
      "Ricky Ponting 27483\n",
      "Sachin Tendulkar 34357\n"
     ]
    }
   ],
   "source": [
    "player_stats = [('Sachin Tendulkar', 34357), ('Ricky Ponting', 27483), ('Jack Kallis', 25534), ('Virat Kohli', 24936)]\n",
    "sorted_stats = sorted(player_stats, key=lambda x: x[1])\n",
    "\n",
    "\n",
    "for player in sorted_stats:\n",
    "    print(player[0], player[1])\n"
   ]
  },
  {
   "cell_type": "code",
   "execution_count": null,
   "id": "b461e465-4600-4b42-9d88-5e5c8d438d34",
   "metadata": {},
   "outputs": [],
   "source": []
  },
  {
   "cell_type": "markdown",
   "id": "27a181a3-9730-433e-a207-b7ac4cc6dafd",
   "metadata": {},
   "source": [
    "Q2. Write a Python Program to find the squares of all the numbers in the given list of integers using\n",
    "lambda and map functions.\n",
    "[1, 2, 3, 4, 5, 6, 7, 8, 9, 10]"
   ]
  },
  {
   "cell_type": "code",
   "execution_count": 6,
   "id": "3db05663-4b32-47b7-83a9-f79af401c665",
   "metadata": {},
   "outputs": [
    {
     "name": "stdout",
     "output_type": "stream",
     "text": [
      "[1, 4, 9, 16, 25, 36, 49, 64, 81, 100]\n"
     ]
    }
   ],
   "source": [
    "numbers = [1, 2, 3, 4, 5, 6, 7, 8, 9, 10]\n",
    "squares = list(map(lambda x: x**2, numbers))\n",
    "\n",
    "print(squares)\n"
   ]
  },
  {
   "cell_type": "code",
   "execution_count": null,
   "id": "5b572e6d-5656-4bdf-aa37-bcf4f08e7f04",
   "metadata": {},
   "outputs": [],
   "source": []
  },
  {
   "cell_type": "markdown",
   "id": "03bc7862-bc95-47e9-9256-40561a711ce2",
   "metadata": {},
   "source": [
    "Q3. Write a python program to convert the given list of integers into a tuple of strings. Use map and\n",
    "lambda functions\n",
    "Given String: [1, 2, 3, 4, 5, 6, 7, 8, 9, 10]\n",
    "Expected output: ('1', '2', '3', '4', '5', '6', '7', '8', '9', '10')"
   ]
  },
  {
   "cell_type": "code",
   "execution_count": 7,
   "id": "cacac0fd-4437-42ee-abca-ce34ab95f4a1",
   "metadata": {},
   "outputs": [
    {
     "name": "stdout",
     "output_type": "stream",
     "text": [
      "('1', '2', '3', '4', '5', '6', '7', '8', '9', '10')\n"
     ]
    }
   ],
   "source": [
    "numbers = [1, 2, 3, 4, 5, 6, 7, 8, 9, 10]\n",
    "\n",
    "string_tuple = tuple(map(lambda x: str(x), numbers))\n",
    "\n",
    "print(string_tuple)\n"
   ]
  },
  {
   "cell_type": "code",
   "execution_count": null,
   "id": "01c49b29-4e1e-489b-a512-b4e364ee8324",
   "metadata": {},
   "outputs": [],
   "source": []
  },
  {
   "cell_type": "markdown",
   "id": "1e4c236a-d66d-484c-bac8-a8ad5f468fad",
   "metadata": {},
   "source": [
    "Q4. Write a python program using reduce function to compute the product of a list containing numbers\n",
    "from 1 to 25."
   ]
  },
  {
   "cell_type": "code",
   "execution_count": 8,
   "id": "4f1b836c-5d47-4f12-a2db-a5f912992b7b",
   "metadata": {},
   "outputs": [
    {
     "name": "stdout",
     "output_type": "stream",
     "text": [
      "Product of numbers from 1 to 25: 15511210043330985984000000\n"
     ]
    }
   ],
   "source": [
    "from functools import reduce\n",
    "\n",
    "def multiply(x, y):\n",
    "    return x * y\n",
    "numbers = list(range(1, 26))\n",
    "\n",
    "product = reduce(multiply, numbers)\n",
    "\n",
    "print(\"Product of numbers from 1 to 25:\", product)\n"
   ]
  },
  {
   "cell_type": "code",
   "execution_count": null,
   "id": "e4820045-77c0-4002-ade0-9e4fc809e1e6",
   "metadata": {},
   "outputs": [],
   "source": []
  },
  {
   "cell_type": "markdown",
   "id": "b0c63c14-bd78-4734-8191-46991a4b75d9",
   "metadata": {},
   "source": [
    "Q5. Write a python program to filter the numbers in a given list that are divisible by 2 and 3 using the\n",
    "filter function.\n",
    "[2, 3, 6, 9, 27, 60, 90, 120, 55, 46]"
   ]
  },
  {
   "cell_type": "code",
   "execution_count": 10,
   "id": "2d01c960-501f-47cc-a638-3e3a60095e9b",
   "metadata": {},
   "outputs": [
    {
     "name": "stdout",
     "output_type": "stream",
     "text": [
      "Numbers divisible by 2 and 3: [6, 60, 90, 120]\n"
     ]
    }
   ],
   "source": [
    "numbers = [2, 3, 6, 9, 27, 60, 90, 120, 55,46]\n",
    "def is_divisible_by_2_and_3(num):\n",
    "    return num % 2 == 0 and num % 3 == 0\n",
    "\n",
    "filtered_numbers = list(filter(is_divisible_by_2_and_3, numbers))\n",
    "\n",
    "print(\"Numbers divisible by 2 and 3:\", filtered_numbers)\n"
   ]
  },
  {
   "cell_type": "code",
   "execution_count": null,
   "id": "30792015-3fe2-46a2-9f76-d764bea771a6",
   "metadata": {},
   "outputs": [],
   "source": []
  },
  {
   "cell_type": "markdown",
   "id": "eb06aefb-d60a-4517-80b4-bd17e02a2feb",
   "metadata": {},
   "source": [
    "Q6. Write a python program to find palindromes in the given list of strings using lambda and filter\n",
    "function.\n",
    "['python', 'php', 'aba', 'radar', 'level']"
   ]
  },
  {
   "cell_type": "code",
   "execution_count": null,
   "id": "935520d7-4434-4401-85f8-7ea827a9f896",
   "metadata": {},
   "outputs": [],
   "source": [
    "words = ['python', 'php', 'aba', 'radar', 'level']\n",
    "\n",
    "is_palindrome = lambda word: word == word[::-1]\n",
    "\n",
    "# Use filter() to filter palindro\n",
    "palindromes = list(filter(is_palindrome, words))\n",
    "\n",
    "# Print the palindromes\n",
    "print(\"Palindromes:\", palindromes)\n"
   ]
  }
 ],
 "metadata": {
  "kernelspec": {
   "display_name": "Python 3 (ipykernel)",
   "language": "python",
   "name": "python3"
  },
  "language_info": {
   "codemirror_mode": {
    "name": "ipython",
    "version": 3
   },
   "file_extension": ".py",
   "mimetype": "text/x-python",
   "name": "python",
   "nbconvert_exporter": "python",
   "pygments_lexer": "ipython3",
   "version": "3.10.8"
  }
 },
 "nbformat": 4,
 "nbformat_minor": 5
}
