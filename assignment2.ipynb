{
 "cells": [
  {
   "cell_type": "markdown",
   "id": "194db777-9419-41f5-bdbe-da2649c53207",
   "metadata": {},
   "source": [
    "Q1. How do you comment code in Python? What are the different types of comments?"
   ]
  },
  {
   "cell_type": "markdown",
   "id": "2c6a48c3-d08b-4265-88ce-625b47ec17bc",
   "metadata": {},
   "source": [
    "ans = In Python, we can add comments to our code to provide explanations, documentation, or notes. Comments are ignored by the Python interpreter and do not affect the execution of the program. "
   ]
  },
  {
   "cell_type": "markdown",
   "id": "214178b7-580d-4dea-8661-f036b7fca5af",
   "metadata": {},
   "source": [
    "There are two main types of comments in Python:"
   ]
  },
  {
   "cell_type": "raw",
   "id": "197e73e0-b8ba-4cde-8222-85ce88577566",
   "metadata": {},
   "source": [
    "*Single-line comments:\n",
    "Single-line comments are used to add explanations to a single line of code. In Python, you can create a single-line comment by using the # symbol. \n",
    "example---# This is a single-line comment\n",
    "          print(\"Hello, World!\")  # This is also a comment\n"
   ]
  },
  {
   "cell_type": "raw",
   "id": "444efa0a-50d7-4671-8aeb-8025f1c5dbd8",
   "metadata": {},
   "source": [
    "*Multi-line comments (docstrings):\n",
    "Multi-line comments, also known as docstrings, are used to provide documentation for classes, functions, modules, or even entire scripts. Unlike single-line comments, docstrings can span multiple lines. Python uses triple quotes (''' or \"\"\") to create multi-line comments.\n",
    "example---\"\"\"This is a multi-line comment or docstring.\n",
    "              It can span multiple lines and is often used to document functions and modules.\"\"\""
   ]
  },
  {
   "cell_type": "code",
   "execution_count": null,
   "id": "b6720e9d-f523-4008-a4a9-405340c40825",
   "metadata": {},
   "outputs": [],
   "source": []
  },
  {
   "cell_type": "markdown",
   "id": "0c566fae-18fa-4082-b39f-8cbbceb65e26",
   "metadata": {},
   "source": [
    "Q2. What are variables in Python? How do you declare and assign values to variables?"
   ]
  },
  {
   "cell_type": "markdown",
   "id": "5ee176fa-5ae9-4707-814c-2c30c32d97ac",
   "metadata": {},
   "source": [
    "ANS= In Python, variables are used to store data values that can be used and manipulated within a program. Variables provide a way to give a meaningful name to data, making it easier to understand and work with the code."
   ]
  },
  {
   "cell_type": "markdown",
   "id": "19d356f5-7b3b-4249-81b3-3633d8ced7e0",
   "metadata": {},
   "source": [
    "To declare and assign values to variables in Python, we simply use the variable name followed by the assignment operator (=) and the value we want to assign. Here's how you declare and assign values to variables:"
   ]
  },
  {
   "cell_type": "raw",
   "id": "b6f3e39d-f15f-4035-af98-35b490bfc1a9",
   "metadata": {},
   "source": [
    "Variable declaration and assignment\n",
    "age = 25\n",
    "name = \"Divyanshu\"\n",
    "height = 5.8\n",
    "\n",
    "we can also assign multiple variables in a single line\n",
    "x, y, z = 10, 20, 30\n",
    "\n",
    "Variables can be updated by assigning new values\n",
    "age = age + 1  # Incrementing age by 1\n",
    "\n",
    "Variables can hold different types of values\n",
    "my_list = [1, 2, 3]\n",
    "my_dictionary = {\"key\": \"value\"}\n"
   ]
  },
  {
   "cell_type": "code",
   "execution_count": null,
   "id": "66381b09-6a31-43e3-8c60-63e63b22a35e",
   "metadata": {},
   "outputs": [],
   "source": []
  },
  {
   "cell_type": "markdown",
   "id": "e52aed3b-2db0-4672-982d-ea6cf0db91b5",
   "metadata": {},
   "source": [
    "Q3. How do you convert one data type to another in Python?"
   ]
  },
  {
   "cell_type": "markdown",
   "id": "bba0c91d-a807-4e8c-ad0d-adaa8fe26a49",
   "metadata": {},
   "source": [
    "ANS = In Python, wecan convert one data type to another using type conversion functions or methods."
   ]
  },
  {
   "cell_type": "markdown",
   "id": "914a9f21-82b5-46c9-971a-b6252ba04f39",
   "metadata": {},
   "source": [
    "Python automatically performs some type conversions when needed, such as when we perform operations involving different data types. For example, when we add an integer to a float, Python will automatically convert the integer to a float before performing the addition."
   ]
  },
  {
   "cell_type": "code",
   "execution_count": 7,
   "id": "48a2cff5-5a4b-48aa-b762-a98166642069",
   "metadata": {},
   "outputs": [
    {
     "data": {
      "text/plain": [
       "8.14"
      ]
     },
     "execution_count": 7,
     "metadata": {},
     "output_type": "execute_result"
    }
   ],
   "source": [
    "int_num = 5\n",
    "float_num = 3.14\n",
    "\n",
    "result = int_num + float_num\n",
    "result"
   ]
  },
  {
   "cell_type": "code",
   "execution_count": null,
   "id": "5758c1df-14dd-4789-af7d-9b3acb98dc8a",
   "metadata": {},
   "outputs": [],
   "source": []
  },
  {
   "cell_type": "markdown",
   "id": "685f4b26-c69e-4a51-9472-2b94cc829569",
   "metadata": {},
   "source": [
    "Q4. How do you write and execute a Python script from the command line?"
   ]
  },
  {
   "cell_type": "markdown",
   "id": "41c031fe-8e81-46d0-a84e-e38390e606d2",
   "metadata": {},
   "source": [
    "Ans= Write Python Script:\n",
    "Open a text editor or an integrated development environment (IDE) and write your Python code. Save the file with a .py extension. For example, we can save it as myscript.py.\n",
    "\n",
    "*Open the Command Line:\n",
    "On our operating system, open the command prompt or terminal.\n",
    "Windows: Press Win + R, type cmd, and press Enter.\n",
    "\n",
    "*Navigate to the Script's Directory:\n",
    "Use the cd command to navigate to the directory where your Python script is located.\n",
    " example :  cd Desktop\n",
    "\n",
    "*Execute the Python Script:\n",
    "To execute the Python script, use the python command followed by the script's filename. \n",
    "example : python myscript.py\n",
    "\n",
    "*View the Output:\n",
    "Once you run the script, any output generated by the script will be displayed in the command line."
   ]
  },
  {
   "cell_type": "code",
   "execution_count": null,
   "id": "6e3f19f8-d2c2-4d9e-a8b7-00e16b060031",
   "metadata": {},
   "outputs": [],
   "source": []
  },
  {
   "cell_type": "markdown",
   "id": "7e0e582b-d80d-4479-83c9-a9805b3507bb",
   "metadata": {},
   "source": [
    "Q5. Given a list my_list = [1, 2, 3, 4, 5], write the code to slice the list and obtain the sub-list [2, 3]."
   ]
  },
  {
   "cell_type": "code",
   "execution_count": 1,
   "id": "b7a9ce22-3bf1-4944-b256-55ebea038e5c",
   "metadata": {},
   "outputs": [
    {
     "name": "stdout",
     "output_type": "stream",
     "text": [
      "[2, 3]\n"
     ]
    }
   ],
   "source": [
    "my_list = [1, 2, 3, 4, 5]\n",
    "sub_list = my_list[1:3]  # Slicing from index 1 (inclusive) to index 3 (exclusive)\n",
    "print(sub_list)"
   ]
  },
  {
   "cell_type": "code",
   "execution_count": null,
   "id": "42b3077f-ac85-4e3b-88fa-4703c037fd93",
   "metadata": {},
   "outputs": [],
   "source": []
  },
  {
   "cell_type": "markdown",
   "id": "a826e6d5-66cf-45ef-9db9-b4b336ac4ac3",
   "metadata": {},
   "source": [
    "Q6. What is a complex number in mathematics, and how is it represented in Python?"
   ]
  },
  {
   "cell_type": "markdown",
   "id": "0c459ce3-0059-44ca-830b-13e8e5a9b8e1",
   "metadata": {},
   "source": [
    " Ans = In mathematics, a complex number is a number that comprises both a real part and an imaginary part. It is represented in the form \"a + bi,\" where \"a\" is the real part, \"b\" is the imaginary part, and \"i\" is the imaginary unit (defined as the square root of -1). Complex numbers are used to extend the real number system to include numbers that cannot be represented on the real number line.\n",
    "\n",
    "In the complex number \"a + bi\":\n",
    "\n",
    "\"a\" is the real part, representing the position on the real number line.\n",
    "\"b\" is the imaginary part, representing the position on the imaginary number line.\n",
    "\"i\" is the imaginary unit, which follows the rule that \"i^2 = -1.\" \n",
    " \n",
    "In Python, complex numbers are also supported as a built-in data type. They are represented using the same \"a + bi\" format, where a is the real part and b is the imaginary part. In Python, the imaginary unit is denoted as j instead of i. as like (2+7j)."
   ]
  },
  {
   "cell_type": "code",
   "execution_count": null,
   "id": "601427f2-0781-4848-8999-481a2004ae5c",
   "metadata": {},
   "outputs": [],
   "source": []
  },
  {
   "cell_type": "markdown",
   "id": "b00efa79-7f5f-4923-a325-6cdae01450ae",
   "metadata": {},
   "source": [
    "Q7. What is the correct way to declare a variable named age and assign the value 25 to it?"
   ]
  },
  {
   "cell_type": "raw",
   "id": "7709d458-71a6-4ea7-b867-b76890dab380",
   "metadata": {},
   "source": [
    " Ans = we can declare a variable and assign a value to it in a single line. To declare a variable named age and assign the value 25 to it.\n",
    "      age=25\n",
    "    After executing this line of code, the variable age will be created with the value 25. we can then use this variable throughout our code to reference the stored value.\n",
    "    "
   ]
  },
  {
   "cell_type": "code",
   "execution_count": null,
   "id": "bd6c87e3-5813-43bd-a849-9a837fddfcd6",
   "metadata": {},
   "outputs": [],
   "source": []
  },
  {
   "cell_type": "markdown",
   "id": "6cc89424-5fb9-47af-aac7-f351a591f52e",
   "metadata": {},
   "source": [
    "Q8. Declare a variable named price and assign the value 9.99 to it. What data type does this variable\n",
    "belong to?"
   ]
  },
  {
   "cell_type": "code",
   "execution_count": 3,
   "id": "e62ad48e-3895-4a84-bc9a-ecd603ce00df",
   "metadata": {},
   "outputs": [
    {
     "name": "stdout",
     "output_type": "stream",
     "text": [
      "<class 'float'>\n"
     ]
    }
   ],
   "source": [
    "price = 9.99\n",
    "print(type(price))"
   ]
  },
  {
   "cell_type": "markdown",
   "id": "e96cd6b3-c9df-48a1-a67a-6e34e38b462d",
   "metadata": {},
   "source": [
    "The variable price with the value 9.99 belongs to the float data type. Floats are used to represent decimal numbers."
   ]
  },
  {
   "cell_type": "code",
   "execution_count": null,
   "id": "2ff07741-d46d-4098-a459-a6eab2a2880d",
   "metadata": {},
   "outputs": [],
   "source": []
  },
  {
   "cell_type": "markdown",
   "id": "fb6c57a9-864d-4578-8184-dbc3494bc20e",
   "metadata": {},
   "source": [
    "Q9. Create a variable named name and assign your full name to it as a string. How would you print the\n",
    "value of this variable?"
   ]
  },
  {
   "cell_type": "code",
   "execution_count": 4,
   "id": "8bf46330-eb64-419b-9e37-72b9af7b1089",
   "metadata": {},
   "outputs": [],
   "source": [
    "name = \"DIVYANSHU TWARI\" "
   ]
  },
  {
   "cell_type": "code",
   "execution_count": 5,
   "id": "5d14ce94-5f66-4343-ba75-4e7376e52b9f",
   "metadata": {},
   "outputs": [
    {
     "name": "stdout",
     "output_type": "stream",
     "text": [
      "DIVYANSHU TWARI\n"
     ]
    }
   ],
   "source": [
    "print(name)"
   ]
  },
  {
   "cell_type": "code",
   "execution_count": null,
   "id": "ed3c3dea-b6c2-475f-9c22-267a7cbe2cb9",
   "metadata": {},
   "outputs": [],
   "source": []
  },
  {
   "cell_type": "markdown",
   "id": "be431e26-1a3c-49b9-b9a9-9cfd2f8a5afe",
   "metadata": {},
   "source": [
    "Q10. Given the string \"Hello, World!\", extract the substring \"World\"."
   ]
  },
  {
   "cell_type": "code",
   "execution_count": 6,
   "id": "d862cf48-f597-4710-9f74-eb582c602e1a",
   "metadata": {},
   "outputs": [
    {
     "name": "stdout",
     "output_type": "stream",
     "text": [
      "World\n"
     ]
    }
   ],
   "source": [
    "string = \"Hello, World!\"\n",
    "substring = string[7:12]\n",
    "print(substring)\n"
   ]
  },
  {
   "cell_type": "code",
   "execution_count": null,
   "id": "8a407eaa-3afa-4d90-928c-f64ae840a688",
   "metadata": {},
   "outputs": [],
   "source": []
  },
  {
   "cell_type": "markdown",
   "id": "867e056e-2a90-4c9d-a344-f566a6b8c32e",
   "metadata": {},
   "source": [
    "Q11. Create a variable named \"is_student\" and assign it a boolean value indicating whether you are\n",
    "currently a student or not."
   ]
  },
  {
   "cell_type": "code",
   "execution_count": null,
   "id": "81cf8f97-d470-4dc2-b68c-ff8024c18bb2",
   "metadata": {},
   "outputs": [],
   "source": []
  }
 ],
 "metadata": {
  "kernelspec": {
   "display_name": "Python 3 (ipykernel)",
   "language": "python",
   "name": "python3"
  },
  "language_info": {
   "codemirror_mode": {
    "name": "ipython",
    "version": 3
   },
   "file_extension": ".py",
   "mimetype": "text/x-python",
   "name": "python",
   "nbconvert_exporter": "python",
   "pygments_lexer": "ipython3",
   "version": "3.10.8"
  }
 },
 "nbformat": 4,
 "nbformat_minor": 5
}
