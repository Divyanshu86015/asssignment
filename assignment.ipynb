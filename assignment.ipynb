{
 "cells": [
  {
   "cell_type": "markdown",
   "id": "88062a85-eb88-4c6e-b7d8-dd1c525d5023",
   "metadata": {},
   "source": [
    "Q1. Create one variable containing following type of data:\n"
   ]
  },
  {
   "cell_type": "markdown",
   "id": "5d1405c6-2920-4118-ad4c-a53c0be9533e",
   "metadata": {},
   "source": [
    "(i) string:\n",
    "     a = \"Div\""
   ]
  },
  {
   "cell_type": "markdown",
   "id": "599a22a3-f996-491b-aa0f-5b130d6847c2",
   "metadata": {},
   "source": [
    "(ii) list:\n",
    "     a = [1,2,3,4,\"abc\",6+7j,52.22]"
   ]
  },
  {
   "cell_type": "markdown",
   "id": "559fee56-ba5c-445a-8c0e-3080fba029b3",
   "metadata": {},
   "source": [
    "(iii) float:\n",
    "      a = 123.111"
   ]
  },
  {
   "cell_type": "markdown",
   "id": "6556e328-be22-4745-97ae-6513fa06dd23",
   "metadata": {},
   "source": [
    "(iv) tuple: a = (1,2,3,\"abc\",\"div\",55.22)"
   ]
  },
  {
   "cell_type": "code",
   "execution_count": null,
   "id": "21bb953f-e83f-4d7b-b94e-7901a4eb18eb",
   "metadata": {},
   "outputs": [],
   "source": []
  },
  {
   "cell_type": "markdown",
   "id": "879a7a62-bc4b-4c67-afec-e55f3fa75f92",
   "metadata": {},
   "source": [
    "Q2. Given are some following variables containing data:"
   ]
  },
  {
   "cell_type": "markdown",
   "id": "38f174aa-63f8-4169-8f23-64b234d407a2",
   "metadata": {},
   "source": [
    "(i) var1 = ' ': This variable var1 contains a single space character enclosed within single quotes. It's a string with a length of 1 character."
   ]
  },
  {
   "cell_type": "markdown",
   "id": "2712dd9d-b928-44e5-846a-167a7408080a",
   "metadata": {},
   "source": [
    "(ii) var2 = '[ DS , ML , Python]': This variable var2 contains a string that appears to represent a list of elements separated by commas. However, the elements are not enclosed in quotes, so they are being treated as identifiers rather than strings"
   ]
  },
  {
   "cell_type": "markdown",
   "id": "d0294b71-8102-4c8b-8594-d798e0e9fadf",
   "metadata": {},
   "source": [
    "(iii) var3 = ['DS', 'ML', 'Python']: This variable var3 contains a list of three strings: \"DS\", \"ML\", and \"Python\". The elements are enclosed in square brackets and separated by commas."
   ]
  },
  {
   "cell_type": "markdown",
   "id": "a38e1d5a-0bdf-4d99-a2a4-61e19429944a",
   "metadata": {},
   "source": [
    "(iv) var4 = 1.: This variable var4 contains a floating-point number 1.0."
   ]
  },
  {
   "cell_type": "code",
   "execution_count": null,
   "id": "eb7502a0-9821-45ee-8d26-8b794be430a6",
   "metadata": {},
   "outputs": [],
   "source": []
  },
  {
   "cell_type": "markdown",
   "id": "dc314cb1-8bad-410a-b185-7f5ec8216d2d",
   "metadata": {},
   "source": [
    "Q3. Explain the use of the following operators using an example:"
   ]
  },
  {
   "cell_type": "raw",
   "id": "16c3f8e8-fcec-4bff-8549-da7a7c02e098",
   "metadata": {},
   "source": [
    "(i) / (Division Operator):\n",
    "The / operator is used for division. It performs regular division, including decimal values.\n",
    "\n",
    "Example:a = 10\n",
    "        b = 3\n",
    "        result = a / b\n",
    "        print(result)  # Output: 3.3333333333333335\n"
   ]
  },
  {
   "cell_type": "raw",
   "id": "469a676b-15a2-412c-9f86-34df4240f3cd",
   "metadata": {},
   "source": [
    "(ii) % (Modulus Operator):\n",
    "The % operator is used for obtaining the remainder of a division operation. It's also known as the modulus operator.\n",
    "\n",
    "Example:x = 17\n",
    "        y = 5\n",
    "        remainder = x % y\n",
    "        print(remainder)  # Output: 2\n"
   ]
  },
  {
   "cell_type": "raw",
   "id": "6be60880-8579-45a4-9d93-c6affb688904",
   "metadata": {},
   "source": [
    "(iii) // (Floor Division Operator):\n",
    "The // operator is used for floor division, which returns the result of division rounded down to the nearest whole number.\n",
    "\n",
    "Example:p = 20\n",
    "        q = 6\n",
    "        result_floor = p // q\n",
    "        print(result_floor)  # Output: 3\n"
   ]
  },
  {
   "cell_type": "raw",
   "id": "f2f93006-2c67-4aaa-8d79-548283c20708",
   "metadata": {},
   "source": [
    "(iv) ** (Exponentiation Operator):\n",
    "The ** operator is used for raising a number to a certain power.\n",
    "\n",
    "Example:base = 2\n",
    "        exponent = 3\n",
    "        result_power = base ** exponent\n",
    "        print(result_power)  # Output: 8\n"
   ]
  },
  {
   "cell_type": "code",
   "execution_count": null,
   "id": "d59fa203-698d-4bd8-bc80-c99019e81790",
   "metadata": {},
   "outputs": [],
   "source": []
  },
  {
   "cell_type": "markdown",
   "id": "b2e2febc-98d2-46c9-82f9-7886f999187e",
   "metadata": {},
   "source": [
    "Q4. Create a list of length 10 of your choice containing multiple types of data. Using for loop print the\n",
    "element and its data type."
   ]
  },
  {
   "cell_type": "code",
   "execution_count": 7,
   "id": "240570bd-a728-40d4-ba9c-3df7cc3d10a0",
   "metadata": {},
   "outputs": [],
   "source": [
    "a = [1,2,3,4,\"div\",\"abc\",True,6+7j,30205,\"tiwari\"]"
   ]
  },
  {
   "cell_type": "code",
   "execution_count": 10,
   "id": "15d0e288-ab1d-4707-9dc9-516194ec6900",
   "metadata": {},
   "outputs": [
    {
     "name": "stdout",
     "output_type": "stream",
     "text": [
      "1\n",
      "<class 'int'>\n",
      "2\n",
      "<class 'int'>\n",
      "3\n",
      "<class 'int'>\n",
      "4\n",
      "<class 'int'>\n",
      "div\n",
      "<class 'str'>\n",
      "abc\n",
      "<class 'str'>\n",
      "True\n",
      "<class 'bool'>\n",
      "(6+7j)\n",
      "<class 'complex'>\n",
      "30205\n",
      "<class 'int'>\n",
      "tiwari\n",
      "<class 'str'>\n"
     ]
    }
   ],
   "source": [
    "for i in a:\n",
    "    print(i)\n",
    "    print(type(i))"
   ]
  },
  {
   "cell_type": "code",
   "execution_count": null,
   "id": "bfd395e7-9a9e-48af-804b-1971fce081e2",
   "metadata": {},
   "outputs": [],
   "source": []
  },
  {
   "cell_type": "markdown",
   "id": "d81d9bb6-df32-4733-ab1d-d4799c50fd3c",
   "metadata": {},
   "source": [
    "Q5. Using a while loop, verify if the number A is purely divisible by number B and if so then how many\n",
    "times it can be divisible."
   ]
  },
  {
   "cell_type": "code",
   "execution_count": 5,
   "id": "01d76cc9-d647-4318-8d1d-27d0af6284f0",
   "metadata": {},
   "outputs": [
    {
     "name": "stdin",
     "output_type": "stream",
     "text": [
      "Enter the number A:  10\n",
      "Enter the number B:  2\n"
     ]
    },
    {
     "name": "stdout",
     "output_type": "stream",
     "text": [
      "0 is purely divisible by 2.\n",
      "2 divides 5 times.\n"
     ]
    }
   ],
   "source": [
    "A = int(input(\"Enter the number A: \"))\n",
    "B = int(input(\"Enter the number B: \"))\n",
    "\n",
    "count = 0  # To keep track of the number of divisions\n",
    "\n",
    "while A >= B:\n",
    "    A = A - B\n",
    "    count += 1\n",
    "\n",
    "if A == 0:\n",
    "    print(f\"{A} is purely divisible by {B}.\")\n",
    "    print(f\"{B} divides {count} times.\")\n",
    "else:\n",
    "    print(f\"{A} is not purely divisible by {B}.\")\n",
    "\n"
   ]
  },
  {
   "cell_type": "code",
   "execution_count": null,
   "id": "b77098c6-6b52-41c7-ade0-71325ac6848e",
   "metadata": {},
   "outputs": [],
   "source": []
  },
  {
   "cell_type": "markdown",
   "id": "68e5c424-9776-44a5-a635-71c7d66a38c7",
   "metadata": {},
   "source": [
    "Q6. Create a list containing 25 int type data. Using for loop and if-else condition print if the element is\n",
    "divisible by 3 or not."
   ]
  },
  {
   "cell_type": "code",
   "execution_count": 6,
   "id": "25e79887-b30d-4cc2-89f3-965ae0bc4506",
   "metadata": {},
   "outputs": [
    {
     "name": "stdout",
     "output_type": "stream",
     "text": [
      "1\n",
      "not divisible\n",
      "2\n",
      "not divisible\n",
      "3\n",
      "divisible\n",
      "4\n",
      "not divisible\n",
      "5\n",
      "not divisible\n",
      "6\n",
      "divisible\n",
      "7\n",
      "not divisible\n",
      "8\n",
      "not divisible\n",
      "9\n",
      "divisible\n",
      "1\n",
      "not divisible\n",
      "2\n",
      "not divisible\n",
      "3\n",
      "divisible\n",
      "4\n",
      "not divisible\n",
      "5\n",
      "not divisible\n",
      "6\n",
      "divisible\n",
      "7\n",
      "not divisible\n",
      "8\n",
      "not divisible\n",
      "9\n",
      "divisible\n",
      "1\n",
      "not divisible\n",
      "2\n",
      "not divisible\n",
      "3\n",
      "divisible\n",
      "4\n",
      "not divisible\n",
      "5\n",
      "not divisible\n",
      "6\n",
      "divisible\n",
      "7\n",
      "not divisible\n"
     ]
    }
   ],
   "source": [
    "a = [1,2,3,4,5,6,7,8,9,1,2,3,4,5,6,7,8,9,1,2,3,4,5,6,7]\n",
    "for i in a:\n",
    "    print(i)\n",
    "    if i%3==0:\n",
    "        print(\"divisible\")\n",
    "    else:\n",
    "        print(\"not divisible\")\n"
   ]
  },
  {
   "cell_type": "code",
   "execution_count": null,
   "id": "0fd6f267-4bf9-48bd-a934-f7d1ef450213",
   "metadata": {},
   "outputs": [],
   "source": []
  },
  {
   "cell_type": "markdown",
   "id": "308bc20c-8d12-47f2-8dc3-b28c05cb9d51",
   "metadata": {},
   "source": [
    "Q7. What do you understand about mutable and immutable data types? Give examples for both showing this property\n"
   ]
  },
  {
   "cell_type": "markdown",
   "id": "43625069-3be7-4110-823b-6eceb31e2383",
   "metadata": {},
   "source": [
    "immutable Data Types: Immutable data types are those whose values cannot be changed after they are created. When you perform any operation that seems to modify an immutable object, you're actually creating a new object with the modified value.\n"
   ]
  },
  {
   "cell_type": "code",
   "execution_count": 7,
   "id": "21ab5392-6be7-42ab-8f70-8a3fecb7f830",
   "metadata": {},
   "outputs": [
    {
     "name": "stdout",
     "output_type": "stream",
     "text": [
      "Divyanshu\n",
      "Divyanshushalini\n"
     ]
    }
   ],
   "source": [
    "name = \"Divyanshu\"\n",
    "new_name = name + \"shalini\"  # Concatenation creates a new string\n",
    "print(name)  \n",
    "print(new_name)  \n"
   ]
  },
  {
   "cell_type": "markdown",
   "id": "487564ec-174f-4cd3-9507-80d87c8c2dbb",
   "metadata": {},
   "source": [
    "Mutable Data Types: Mutable data types are those whose values can be modified after they are created. This means that you can change the content of the object without creating a new object.\n"
   ]
  },
  {
   "cell_type": "code",
   "execution_count": null,
   "id": "f123a96d-62b0-47fc-9239-21ef4e03cabc",
   "metadata": {},
   "outputs": [],
   "source": [
    "list1 = [1, 2, 3]\n",
    "list2 = list1  # list2 references the same list as list1\n",
    "list1.append(4)  # Modifying list1 also affects list2\n",
    "print(list2)  \n"
   ]
  }
 ],
 "metadata": {
  "kernelspec": {
   "display_name": "Python 3 (ipykernel)",
   "language": "python",
   "name": "python3"
  },
  "language_info": {
   "codemirror_mode": {
    "name": "ipython",
    "version": 3
   },
   "file_extension": ".py",
   "mimetype": "text/x-python",
   "name": "python",
   "nbconvert_exporter": "python",
   "pygments_lexer": "ipython3",
   "version": "3.10.8"
  }
 },
 "nbformat": 4,
 "nbformat_minor": 5
}
