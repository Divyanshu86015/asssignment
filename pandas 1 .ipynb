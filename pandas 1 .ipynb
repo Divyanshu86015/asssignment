{
 "cells": [
  {
   "cell_type": "markdown",
   "id": "7462c6c8-4d7a-4338-995f-18290fb59bee",
   "metadata": {},
   "source": [
    "Q1. Create a Pandas Series that contains the following data: 4, 8, 15, 16, 23, and 42. Then, print the series."
   ]
  },
  {
   "cell_type": "code",
   "execution_count": 1,
   "id": "1129c825-e008-4912-a1b6-2077fe6a0bb4",
   "metadata": {},
   "outputs": [],
   "source": [
    "import pandas as pd"
   ]
  },
  {
   "cell_type": "code",
   "execution_count": 3,
   "id": "2161771c-bc33-430a-815f-28838da8529e",
   "metadata": {},
   "outputs": [],
   "source": [
    "data = [4,8,15,16,23,42]\n",
    "series = pd.Series(data)"
   ]
  },
  {
   "cell_type": "code",
   "execution_count": 5,
   "id": "c68e48c1-e0fa-4ced-a11b-e60cb6441ae5",
   "metadata": {},
   "outputs": [
    {
     "data": {
      "text/plain": [
       "pandas.core.series.Series"
      ]
     },
     "execution_count": 5,
     "metadata": {},
     "output_type": "execute_result"
    }
   ],
   "source": [
    "type(series)"
   ]
  },
  {
   "cell_type": "code",
   "execution_count": 6,
   "id": "1602652c-ae95-425a-90b3-c427418c7eae",
   "metadata": {},
   "outputs": [
    {
     "name": "stdout",
     "output_type": "stream",
     "text": [
      "0     4\n",
      "1     8\n",
      "2    15\n",
      "3    16\n",
      "4    23\n",
      "5    42\n",
      "dtype: int64\n"
     ]
    }
   ],
   "source": [
    "print(series)"
   ]
  },
  {
   "cell_type": "code",
   "execution_count": null,
   "id": "9b77afb9-2325-4e12-84d6-4da882c85bf3",
   "metadata": {},
   "outputs": [],
   "source": []
  },
  {
   "cell_type": "markdown",
   "id": "13f7bf7c-ca02-4fc1-becf-07e8f84e654f",
   "metadata": {},
   "source": [
    "Q2. Create a variable of list type containing 10 elements in it, and apply pandas.Series function on the\n",
    "variable print it."
   ]
  },
  {
   "cell_type": "code",
   "execution_count": 7,
   "id": "72676fea-5565-448c-bb3e-ed4930bc7ae8",
   "metadata": {},
   "outputs": [],
   "source": [
    "var = list(range(10))"
   ]
  },
  {
   "cell_type": "code",
   "execution_count": 8,
   "id": "e6aa94f2-8d41-4815-8434-4c681c8fe046",
   "metadata": {},
   "outputs": [
    {
     "data": {
      "text/plain": [
       "list"
      ]
     },
     "execution_count": 8,
     "metadata": {},
     "output_type": "execute_result"
    }
   ],
   "source": [
    "type(var)"
   ]
  },
  {
   "cell_type": "code",
   "execution_count": 9,
   "id": "a59babd0-6316-40c4-bff4-71a5fdc282dd",
   "metadata": {},
   "outputs": [],
   "source": [
    "series =pd.Series(var)"
   ]
  },
  {
   "cell_type": "code",
   "execution_count": 10,
   "id": "961224e2-501a-4cbd-a614-6359c5d9268c",
   "metadata": {},
   "outputs": [
    {
     "name": "stdout",
     "output_type": "stream",
     "text": [
      "0    0\n",
      "1    1\n",
      "2    2\n",
      "3    3\n",
      "4    4\n",
      "5    5\n",
      "6    6\n",
      "7    7\n",
      "8    8\n",
      "9    9\n",
      "dtype: int64\n"
     ]
    }
   ],
   "source": [
    "print(series)"
   ]
  },
  {
   "cell_type": "code",
   "execution_count": null,
   "id": "6b62f91d-10d8-41b0-978c-68972e4620c7",
   "metadata": {},
   "outputs": [],
   "source": []
  },
  {
   "cell_type": "markdown",
   "id": "bfd425cf-c3fc-4e03-9842-b3636a231ef1",
   "metadata": {},
   "source": [
    "Q3. Create a Pandas DataFrame that contains the following data:"
   ]
  },
  {
   "cell_type": "raw",
   "id": "1a4a5f75-fab7-49f4-b06e-198a088d126f",
   "metadata": {},
   "source": [
    "Name      Age        Gender \n",
    "Alice     25         female\n",
    "Bob       30         male\n",
    "claire    27         female  "
   ]
  },
  {
   "cell_type": "markdown",
   "id": "085fa0e6-47e3-4ed8-ba8d-f7dd554cc215",
   "metadata": {},
   "source": [
    "Then, print the DataFrame."
   ]
  },
  {
   "cell_type": "code",
   "execution_count": 11,
   "id": "d4c1a67b-cf48-471d-8772-aebac6e7c3d9",
   "metadata": {},
   "outputs": [],
   "source": [
    "data = {\"name\":[\"Alice\",\"Bob\",\"Claire\"],\n",
    "        \"Age\":[25,30,27],\n",
    "        \"Gender\":[\"female\",\"male\",\"female\"]\n",
    "}"
   ]
  },
  {
   "cell_type": "code",
   "execution_count": 12,
   "id": "cc69e58a-1686-47d0-a285-7d05375eea55",
   "metadata": {},
   "outputs": [],
   "source": [
    "dataframe = pd.DataFrame(data)"
   ]
  },
  {
   "cell_type": "code",
   "execution_count": 13,
   "id": "2e8bb83e-b876-4c9e-b214-7e562a15d74f",
   "metadata": {},
   "outputs": [
    {
     "data": {
      "text/plain": [
       "pandas.core.frame.DataFrame"
      ]
     },
     "execution_count": 13,
     "metadata": {},
     "output_type": "execute_result"
    }
   ],
   "source": [
    "type(dataframe)"
   ]
  },
  {
   "cell_type": "code",
   "execution_count": 14,
   "id": "e73df775-9381-44f8-83a0-6e40fae994b4",
   "metadata": {},
   "outputs": [
    {
     "data": {
      "text/html": [
       "<div>\n",
       "<style scoped>\n",
       "    .dataframe tbody tr th:only-of-type {\n",
       "        vertical-align: middle;\n",
       "    }\n",
       "\n",
       "    .dataframe tbody tr th {\n",
       "        vertical-align: top;\n",
       "    }\n",
       "\n",
       "    .dataframe thead th {\n",
       "        text-align: right;\n",
       "    }\n",
       "</style>\n",
       "<table border=\"1\" class=\"dataframe\">\n",
       "  <thead>\n",
       "    <tr style=\"text-align: right;\">\n",
       "      <th></th>\n",
       "      <th>name</th>\n",
       "      <th>Age</th>\n",
       "      <th>Gender</th>\n",
       "    </tr>\n",
       "  </thead>\n",
       "  <tbody>\n",
       "    <tr>\n",
       "      <th>0</th>\n",
       "      <td>Alice</td>\n",
       "      <td>25</td>\n",
       "      <td>female</td>\n",
       "    </tr>\n",
       "    <tr>\n",
       "      <th>1</th>\n",
       "      <td>Bob</td>\n",
       "      <td>30</td>\n",
       "      <td>male</td>\n",
       "    </tr>\n",
       "    <tr>\n",
       "      <th>2</th>\n",
       "      <td>Claire</td>\n",
       "      <td>27</td>\n",
       "      <td>female</td>\n",
       "    </tr>\n",
       "  </tbody>\n",
       "</table>\n",
       "</div>"
      ],
      "text/plain": [
       "     name  Age  Gender\n",
       "0   Alice   25  female\n",
       "1     Bob   30    male\n",
       "2  Claire   27  female"
      ]
     },
     "execution_count": 14,
     "metadata": {},
     "output_type": "execute_result"
    }
   ],
   "source": [
    "dataframe"
   ]
  },
  {
   "cell_type": "code",
   "execution_count": null,
   "id": "c665b915-7d20-4892-8a59-bf766f766252",
   "metadata": {},
   "outputs": [],
   "source": []
  },
  {
   "cell_type": "markdown",
   "id": "6c3da7c2-76b6-4a73-bbb5-fe651041b64c",
   "metadata": {},
   "source": [
    "Q4. What is ‘DataFrame’ in pandas and how is it different from pandas.series? Explain with an example."
   ]
  },
  {
   "cell_type": "markdown",
   "id": "02889e03-e020-46df-a260-207a199fa7c6",
   "metadata": {},
   "source": [
    "Answer == DataFrame is a two-dimensional, size-mutable, and potentially heterogeneous tabular data structure with labeled axes (rows and columns). It can be thought of as a dictionary of Series objects, where each Series is a column of the DataFrame.\n",
    "\n",
    "On the other hand, a Series is a one-dimensional array-like object containing a sequence of values and an associated array of data labels, called its index. A Series can hold data of any type (integer, string, float, etc.)."
   ]
  },
  {
   "cell_type": "markdown",
   "id": "ddd64a13-60c6-4cce-bb35-497029489ddb",
   "metadata": {},
   "source": [
    "EXAMPLE =="
   ]
  },
  {
   "cell_type": "code",
   "execution_count": 16,
   "id": "983ed679-e99a-4b13-8c61-530cefd33eb9",
   "metadata": {},
   "outputs": [],
   "source": [
    "# creating series \n",
    "data = [1,2,3,4,5]\n",
    "series= pd.Series(data)"
   ]
  },
  {
   "cell_type": "code",
   "execution_count": 17,
   "id": "87f33abd-fbc4-4ec5-8367-5bbf640dd0b5",
   "metadata": {},
   "outputs": [],
   "source": [
    "#creating second series\n",
    "data1 = [\"divyanshu\" , \"pwskills\",\"sudh\",\"sir\",\"datascience\"]\n",
    "series1=pd.Series(data1)"
   ]
  },
  {
   "cell_type": "code",
   "execution_count": 18,
   "id": "d7557c0c-e6d8-493b-b114-6ac10eac858b",
   "metadata": {},
   "outputs": [
    {
     "name": "stdout",
     "output_type": "stream",
     "text": [
      "0    1\n",
      "1    2\n",
      "2    3\n",
      "3    4\n",
      "4    5\n",
      "dtype: int64\n",
      "0      divyanshu\n",
      "1       pwskills\n",
      "2           sudh\n",
      "3            sir\n",
      "4    datascience\n",
      "dtype: object\n"
     ]
    },
    {
     "data": {
      "text/plain": [
       "(None, None)"
      ]
     },
     "execution_count": 18,
     "metadata": {},
     "output_type": "execute_result"
    }
   ],
   "source": [
    "print (series),print(series1)"
   ]
  },
  {
   "cell_type": "code",
   "execution_count": 19,
   "id": "56f25510-e2c1-4acb-ab0f-09f6d82884d2",
   "metadata": {},
   "outputs": [],
   "source": [
    "#creating a dataframe\n",
    "data = { \"series\":[1,2,3,4,5],\n",
    "        \"series1\": [\"divyanshu\" , \"pwskills\",\"sudh\",\"sir\",\"datascience\"]\n",
    "       }\n",
    "data_frame = pd.DataFrame(data)"
   ]
  },
  {
   "cell_type": "code",
   "execution_count": 20,
   "id": "4e83eb0b-9797-4de8-8af3-38729e9a623d",
   "metadata": {},
   "outputs": [
    {
     "data": {
      "text/html": [
       "<div>\n",
       "<style scoped>\n",
       "    .dataframe tbody tr th:only-of-type {\n",
       "        vertical-align: middle;\n",
       "    }\n",
       "\n",
       "    .dataframe tbody tr th {\n",
       "        vertical-align: top;\n",
       "    }\n",
       "\n",
       "    .dataframe thead th {\n",
       "        text-align: right;\n",
       "    }\n",
       "</style>\n",
       "<table border=\"1\" class=\"dataframe\">\n",
       "  <thead>\n",
       "    <tr style=\"text-align: right;\">\n",
       "      <th></th>\n",
       "      <th>series</th>\n",
       "      <th>series1</th>\n",
       "    </tr>\n",
       "  </thead>\n",
       "  <tbody>\n",
       "    <tr>\n",
       "      <th>0</th>\n",
       "      <td>1</td>\n",
       "      <td>divyanshu</td>\n",
       "    </tr>\n",
       "    <tr>\n",
       "      <th>1</th>\n",
       "      <td>2</td>\n",
       "      <td>pwskills</td>\n",
       "    </tr>\n",
       "    <tr>\n",
       "      <th>2</th>\n",
       "      <td>3</td>\n",
       "      <td>sudh</td>\n",
       "    </tr>\n",
       "    <tr>\n",
       "      <th>3</th>\n",
       "      <td>4</td>\n",
       "      <td>sir</td>\n",
       "    </tr>\n",
       "    <tr>\n",
       "      <th>4</th>\n",
       "      <td>5</td>\n",
       "      <td>datascience</td>\n",
       "    </tr>\n",
       "  </tbody>\n",
       "</table>\n",
       "</div>"
      ],
      "text/plain": [
       "   series      series1\n",
       "0       1    divyanshu\n",
       "1       2     pwskills\n",
       "2       3         sudh\n",
       "3       4          sir\n",
       "4       5  datascience"
      ]
     },
     "execution_count": 20,
     "metadata": {},
     "output_type": "execute_result"
    }
   ],
   "source": [
    "data_frame"
   ]
  },
  {
   "cell_type": "code",
   "execution_count": null,
   "id": "0d275eff-dad7-4777-b124-a71f722bdad9",
   "metadata": {},
   "outputs": [],
   "source": []
  },
  {
   "cell_type": "markdown",
   "id": "c4b652ae-d94c-42fc-a11b-2f7449930a33",
   "metadata": {},
   "source": [
    "Q5. What are some common functions you can use to manipulate data in a Pandas DataFrame? Can\n",
    "you give an example of when you might use one of these functions?"
   ]
  },
  {
   "cell_type": "markdown",
   "id": "e50a50a2-3883-4025-bc8d-c442aa68bffe",
   "metadata": {},
   "source": [
    "Answer = Pandas is a powerful data manipulation library in Python. Here are some common functions I can use to manipulate data in a Pandas DataFrame"
   ]
  },
  {
   "cell_type": "markdown",
   "id": "7202b258-3a7c-40f6-9b2c-c6073b5fad0b",
   "metadata": {},
   "source": [
    "1.head() and .tail(): Display the first or last n rows of the DataFrame.\n",
    "\n",
    "Example: df.head(5) to see the first 5 rows of the DataFrame."
   ]
  },
  {
   "cell_type": "markdown",
   "id": "bb71597a-94f1-4d52-a99f-1ae10ed439b3",
   "metadata": {},
   "source": [
    "2.describe(): Generate descriptive statistics.\n",
    "\n",
    "Example: df.describe() to get a summary of the data including mean, median, standard deviation, etc."
   ]
  },
  {
   "cell_type": "markdown",
   "id": "f1c5538a-ff8e-4fb9-a58a-7d05983ddab6",
   "metadata": {},
   "source": [
    "3.drop(): Remove rows or columns by specifying label names and axis.\n",
    "\n",
    "Example: df.drop('column_name', axis=1) to drop a column named \"column_name\"."
   ]
  },
  {
   "cell_type": "code",
   "execution_count": 22,
   "id": "88b57099-7da6-4bc8-94c3-032d331ab437",
   "metadata": {},
   "outputs": [],
   "source": [
    "#creating a dataframe\n",
    "data = { \"series\":[1,2,3,4,5,6,7,8],\n",
    "        \"series1\": [\"divyanshu\" , \"pwskills\",\"sudh\",\"sir\",\"datascience\",\"batch\",\"abc\",\"xyz\"]\n",
    "       }\n",
    "df= pd.DataFrame(data)"
   ]
  },
  {
   "cell_type": "code",
   "execution_count": 23,
   "id": "a2c0110b-c9cb-472c-9203-e5ca6a9cf7ab",
   "metadata": {},
   "outputs": [
    {
     "data": {
      "text/html": [
       "<div>\n",
       "<style scoped>\n",
       "    .dataframe tbody tr th:only-of-type {\n",
       "        vertical-align: middle;\n",
       "    }\n",
       "\n",
       "    .dataframe tbody tr th {\n",
       "        vertical-align: top;\n",
       "    }\n",
       "\n",
       "    .dataframe thead th {\n",
       "        text-align: right;\n",
       "    }\n",
       "</style>\n",
       "<table border=\"1\" class=\"dataframe\">\n",
       "  <thead>\n",
       "    <tr style=\"text-align: right;\">\n",
       "      <th></th>\n",
       "      <th>series</th>\n",
       "      <th>series1</th>\n",
       "    </tr>\n",
       "  </thead>\n",
       "  <tbody>\n",
       "    <tr>\n",
       "      <th>0</th>\n",
       "      <td>1</td>\n",
       "      <td>divyanshu</td>\n",
       "    </tr>\n",
       "    <tr>\n",
       "      <th>1</th>\n",
       "      <td>2</td>\n",
       "      <td>pwskills</td>\n",
       "    </tr>\n",
       "    <tr>\n",
       "      <th>2</th>\n",
       "      <td>3</td>\n",
       "      <td>sudh</td>\n",
       "    </tr>\n",
       "    <tr>\n",
       "      <th>3</th>\n",
       "      <td>4</td>\n",
       "      <td>sir</td>\n",
       "    </tr>\n",
       "    <tr>\n",
       "      <th>4</th>\n",
       "      <td>5</td>\n",
       "      <td>datascience</td>\n",
       "    </tr>\n",
       "  </tbody>\n",
       "</table>\n",
       "</div>"
      ],
      "text/plain": [
       "   series      series1\n",
       "0       1    divyanshu\n",
       "1       2     pwskills\n",
       "2       3         sudh\n",
       "3       4          sir\n",
       "4       5  datascience"
      ]
     },
     "execution_count": 23,
     "metadata": {},
     "output_type": "execute_result"
    }
   ],
   "source": [
    "df.head()"
   ]
  },
  {
   "cell_type": "code",
   "execution_count": 24,
   "id": "fea52412-ab79-4792-86dd-83353b08b272",
   "metadata": {},
   "outputs": [
    {
     "data": {
      "text/html": [
       "<div>\n",
       "<style scoped>\n",
       "    .dataframe tbody tr th:only-of-type {\n",
       "        vertical-align: middle;\n",
       "    }\n",
       "\n",
       "    .dataframe tbody tr th {\n",
       "        vertical-align: top;\n",
       "    }\n",
       "\n",
       "    .dataframe thead th {\n",
       "        text-align: right;\n",
       "    }\n",
       "</style>\n",
       "<table border=\"1\" class=\"dataframe\">\n",
       "  <thead>\n",
       "    <tr style=\"text-align: right;\">\n",
       "      <th></th>\n",
       "      <th>series</th>\n",
       "      <th>series1</th>\n",
       "    </tr>\n",
       "  </thead>\n",
       "  <tbody>\n",
       "    <tr>\n",
       "      <th>3</th>\n",
       "      <td>4</td>\n",
       "      <td>sir</td>\n",
       "    </tr>\n",
       "    <tr>\n",
       "      <th>4</th>\n",
       "      <td>5</td>\n",
       "      <td>datascience</td>\n",
       "    </tr>\n",
       "    <tr>\n",
       "      <th>5</th>\n",
       "      <td>6</td>\n",
       "      <td>batch</td>\n",
       "    </tr>\n",
       "    <tr>\n",
       "      <th>6</th>\n",
       "      <td>7</td>\n",
       "      <td>abc</td>\n",
       "    </tr>\n",
       "    <tr>\n",
       "      <th>7</th>\n",
       "      <td>8</td>\n",
       "      <td>xyz</td>\n",
       "    </tr>\n",
       "  </tbody>\n",
       "</table>\n",
       "</div>"
      ],
      "text/plain": [
       "   series      series1\n",
       "3       4          sir\n",
       "4       5  datascience\n",
       "5       6        batch\n",
       "6       7          abc\n",
       "7       8          xyz"
      ]
     },
     "execution_count": 24,
     "metadata": {},
     "output_type": "execute_result"
    }
   ],
   "source": [
    "df.tail()"
   ]
  },
  {
   "cell_type": "code",
   "execution_count": 26,
   "id": "26d2a9a9-fc40-4e29-a49e-b2457cbadd18",
   "metadata": {},
   "outputs": [
    {
     "data": {
      "text/html": [
       "<div>\n",
       "<style scoped>\n",
       "    .dataframe tbody tr th:only-of-type {\n",
       "        vertical-align: middle;\n",
       "    }\n",
       "\n",
       "    .dataframe tbody tr th {\n",
       "        vertical-align: top;\n",
       "    }\n",
       "\n",
       "    .dataframe thead th {\n",
       "        text-align: right;\n",
       "    }\n",
       "</style>\n",
       "<table border=\"1\" class=\"dataframe\">\n",
       "  <thead>\n",
       "    <tr style=\"text-align: right;\">\n",
       "      <th></th>\n",
       "      <th>series</th>\n",
       "    </tr>\n",
       "  </thead>\n",
       "  <tbody>\n",
       "    <tr>\n",
       "      <th>count</th>\n",
       "      <td>8.00000</td>\n",
       "    </tr>\n",
       "    <tr>\n",
       "      <th>mean</th>\n",
       "      <td>4.50000</td>\n",
       "    </tr>\n",
       "    <tr>\n",
       "      <th>std</th>\n",
       "      <td>2.44949</td>\n",
       "    </tr>\n",
       "    <tr>\n",
       "      <th>min</th>\n",
       "      <td>1.00000</td>\n",
       "    </tr>\n",
       "    <tr>\n",
       "      <th>25%</th>\n",
       "      <td>2.75000</td>\n",
       "    </tr>\n",
       "    <tr>\n",
       "      <th>50%</th>\n",
       "      <td>4.50000</td>\n",
       "    </tr>\n",
       "    <tr>\n",
       "      <th>75%</th>\n",
       "      <td>6.25000</td>\n",
       "    </tr>\n",
       "    <tr>\n",
       "      <th>max</th>\n",
       "      <td>8.00000</td>\n",
       "    </tr>\n",
       "  </tbody>\n",
       "</table>\n",
       "</div>"
      ],
      "text/plain": [
       "        series\n",
       "count  8.00000\n",
       "mean   4.50000\n",
       "std    2.44949\n",
       "min    1.00000\n",
       "25%    2.75000\n",
       "50%    4.50000\n",
       "75%    6.25000\n",
       "max    8.00000"
      ]
     },
     "execution_count": 26,
     "metadata": {},
     "output_type": "execute_result"
    }
   ],
   "source": [
    "df.describe()"
   ]
  },
  {
   "cell_type": "code",
   "execution_count": null,
   "id": "5e6fb67b-4c43-41ed-97ec-34c69c16f356",
   "metadata": {},
   "outputs": [],
   "source": []
  },
  {
   "cell_type": "markdown",
   "id": "17affd96-858e-4267-8f09-d9868e33f57e",
   "metadata": {},
   "source": [
    "Q6. Which of the following is mutable in nature Series, DataFrame, Panel?"
   ]
  },
  {
   "cell_type": "markdown",
   "id": "6a9ff3fd-d936-48f9-97ea-049146966b20",
   "metadata": {},
   "source": [
    "Answer== Both Series and DataFrame are mutable, meaning I can modify their contents after they have been created. However, Panel, which was used for 3-dimensional data, has been deprecated and removed from Pandas starting from version 1.0.0."
   ]
  },
  {
   "cell_type": "markdown",
   "id": "d3064e21-6d26-4c7b-ad25-ad55702a2e23",
   "metadata": {},
   "source": [
    "1.Series: Mutable\n",
    "2.DataFrame: Mutable\n",
    "3.Panel: Deprecated (was mutable before deprecation)"
   ]
  },
  {
   "cell_type": "code",
   "execution_count": null,
   "id": "6d8c8844-6476-42d1-9a84-518db64f0ac0",
   "metadata": {},
   "outputs": [],
   "source": []
  },
  {
   "cell_type": "markdown",
   "id": "93a3b1fa-daba-4517-a3c5-b2bfe61720e2",
   "metadata": {},
   "source": [
    "Q7. Create a DataFrame using multiple Series. Explain with an example."
   ]
  },
  {
   "cell_type": "code",
   "execution_count": 27,
   "id": "bb70699a-010f-4d79-81ee-fee6ca5edc8f",
   "metadata": {},
   "outputs": [],
   "source": [
    "#creating multiple Series\n",
    "data = [1,2,3,4,5]\n",
    "series= pd.Series(data)\n",
    "\n",
    "data1 = [\"divyanshu\" , \"pwskills\",\"sudh\",\"sir\",\"datascience\"]\n",
    "series1=pd.Series(data1)"
   ]
  },
  {
   "cell_type": "code",
   "execution_count": 29,
   "id": "ac999ff3-2e5a-4816-8ba3-bd7a9ebbdca2",
   "metadata": {},
   "outputs": [],
   "source": [
    "#creating DataFrame using series ,series1\n",
    "data_frame = { \"Series\": series,\n",
    "              \"Series1\": series1,\n",
    "}\n",
    "df = pd.DataFrame(data_frame)"
   ]
  },
  {
   "cell_type": "code",
   "execution_count": 30,
   "id": "4b007b53-055e-4d44-aec6-16101d9ef7c7",
   "metadata": {},
   "outputs": [
    {
     "data": {
      "text/html": [
       "<div>\n",
       "<style scoped>\n",
       "    .dataframe tbody tr th:only-of-type {\n",
       "        vertical-align: middle;\n",
       "    }\n",
       "\n",
       "    .dataframe tbody tr th {\n",
       "        vertical-align: top;\n",
       "    }\n",
       "\n",
       "    .dataframe thead th {\n",
       "        text-align: right;\n",
       "    }\n",
       "</style>\n",
       "<table border=\"1\" class=\"dataframe\">\n",
       "  <thead>\n",
       "    <tr style=\"text-align: right;\">\n",
       "      <th></th>\n",
       "      <th>Series</th>\n",
       "      <th>Series1</th>\n",
       "    </tr>\n",
       "  </thead>\n",
       "  <tbody>\n",
       "    <tr>\n",
       "      <th>0</th>\n",
       "      <td>1</td>\n",
       "      <td>divyanshu</td>\n",
       "    </tr>\n",
       "    <tr>\n",
       "      <th>1</th>\n",
       "      <td>2</td>\n",
       "      <td>pwskills</td>\n",
       "    </tr>\n",
       "    <tr>\n",
       "      <th>2</th>\n",
       "      <td>3</td>\n",
       "      <td>sudh</td>\n",
       "    </tr>\n",
       "    <tr>\n",
       "      <th>3</th>\n",
       "      <td>4</td>\n",
       "      <td>sir</td>\n",
       "    </tr>\n",
       "    <tr>\n",
       "      <th>4</th>\n",
       "      <td>5</td>\n",
       "      <td>datascience</td>\n",
       "    </tr>\n",
       "  </tbody>\n",
       "</table>\n",
       "</div>"
      ],
      "text/plain": [
       "   Series      Series1\n",
       "0       1    divyanshu\n",
       "1       2     pwskills\n",
       "2       3         sudh\n",
       "3       4          sir\n",
       "4       5  datascience"
      ]
     },
     "execution_count": 30,
     "metadata": {},
     "output_type": "execute_result"
    }
   ],
   "source": [
    "df"
   ]
  },
  {
   "cell_type": "code",
   "execution_count": null,
   "id": "df2429e4-70bf-4c00-a90b-0e3dbe70c125",
   "metadata": {},
   "outputs": [],
   "source": []
  }
 ],
 "metadata": {
  "kernelspec": {
   "display_name": "Python 3 (ipykernel)",
   "language": "python",
   "name": "python3"
  },
  "language_info": {
   "codemirror_mode": {
    "name": "ipython",
    "version": 3
   },
   "file_extension": ".py",
   "mimetype": "text/x-python",
   "name": "python",
   "nbconvert_exporter": "python",
   "pygments_lexer": "ipython3",
   "version": "3.10.8"
  }
 },
 "nbformat": 4,
 "nbformat_minor": 5
}
