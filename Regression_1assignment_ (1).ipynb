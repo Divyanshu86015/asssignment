{
  "nbformat": 4,
  "nbformat_minor": 0,
  "metadata": {
    "colab": {
      "provenance": []
    },
    "kernelspec": {
      "name": "python3",
      "display_name": "Python 3"
    },
    "language_info": {
      "name": "python"
    }
  },
  "cells": [
    {
      "cell_type": "markdown",
      "source": [
        "Q1. Explain the difference between simple linear regression and multiple linear regression. Provide an\n",
        "example of each."
      ],
      "metadata": {
        "id": "cut8NVbKUSPo"
      }
    },
    {
      "cell_type": "markdown",
      "source": [
        "Answer =\n",
        "# Difference Between Simple Linear Regression and Multiple Linear Regression\n",
        "**Simple Linear Regression:**\n",
        "\n",
        "Simple linear regression is a statistical technique used to model the relationship between one independent variable and one dependent variable by fitting a straight line. The equation for simple linear regression is:\n",
        "\n",
        "Y=β\n",
        "0\n",
        "​\n",
        " +β\n",
        "1\n",
        "​\n",
        " X+ϵ\n",
        "\n",
        "Here,\n",
        "𝑌\n",
        "Y is the dependent variable,\n",
        "𝑋\n",
        "X is the independent variable,\n",
        "𝛽\n",
        "0\n",
        "β\n",
        "0\n",
        "​\n",
        "  is the intercept,\n",
        "𝛽\n",
        "1\n",
        "β\n",
        "1\n",
        "​\n",
        "  is the slope, and\n",
        "𝜖\n",
        "ϵ is the error term.\n",
        "\n",
        "**Example:**\n",
        "\n",
        "Predicting a student’s exam score based on the number of hours studied. For instance, if a student studies for 2, 4, 6, 8, and 10 hours, the corresponding exam scores might be 50, 60, 70, 80, and 90, respectively.\n",
        "\n",
        "\n",
        "**Multiple Linear Regression:**\n",
        "\n",
        "Multiple linear regression is an extension of simple linear regression that models the relationship between one dependent variable and two or more independent variables. The equation for multiple linear regression is:\n",
        "\n",
        "𝑌\n",
        "=\n",
        "𝛽\n",
        "0\n",
        "+\n",
        "𝛽\n",
        "1\n",
        "𝑋\n",
        "1\n",
        "+\n",
        "𝛽\n",
        "2\n",
        "𝑋\n",
        "2\n",
        "+\n",
        "…\n",
        "+\n",
        "𝛽\n",
        "𝑛\n",
        "𝑋\n",
        "𝑛\n",
        "+\n",
        "𝜖\n",
        "Y=β\n",
        "0\n",
        "​\n",
        " +β\n",
        "1\n",
        "​\n",
        " X\n",
        "1\n",
        "​\n",
        " +β\n",
        "2\n",
        "​\n",
        " X\n",
        "2\n",
        "​\n",
        " +…+β\n",
        "n\n",
        "​\n",
        " X\n",
        "n\n",
        "​\n",
        " +ϵ\n",
        "\n",
        "Here,\n",
        "𝑌\n",
        "Y is the dependent variable,\n",
        "𝑋\n",
        "1\n",
        ",\n",
        "𝑋\n",
        "2\n",
        ",\n",
        "…\n",
        ",\n",
        "𝑋\n",
        "𝑛\n",
        "X\n",
        "1\n",
        "​\n",
        " ,X\n",
        "2\n",
        "​\n",
        " ,…,X\n",
        "n\n",
        "​\n",
        "  are the independent variables,\n",
        "𝛽\n",
        "0\n",
        "β\n",
        "0\n",
        "​\n",
        "  is the intercept,\n",
        "𝛽\n",
        "1\n",
        ",\n",
        "𝛽\n",
        "2\n",
        ",\n",
        "…\n",
        ",\n",
        "𝛽\n",
        "𝑛\n",
        "β\n",
        "1\n",
        "​\n",
        " ,β\n",
        "2\n",
        "​\n",
        " ,…,β\n",
        "n\n",
        "​\n",
        "  are the coefficients, and\n",
        "𝜖\n",
        "ϵ is the error term.\n",
        "\n",
        "**Example:**\n",
        "\n",
        "Predicting the price of a house based on its square footage and the number of bedrooms. For instance, houses with square footage of 1000, 1500, and 2000 and 2, 3, and 4 bedrooms might have prices of $200,000, $300,000, and $400,000, respectively.\n",
        "\n"
      ],
      "metadata": {
        "id": "Gdz66D2UUVog"
      }
    },
    {
      "cell_type": "code",
      "source": [],
      "metadata": {
        "id": "NXl5i3WnXIda"
      },
      "execution_count": null,
      "outputs": []
    },
    {
      "cell_type": "markdown",
      "source": [
        "Q2. Discuss the assumptions of linear regression. How can you check whether these assumptions hold in\n",
        "a given dataset?\n"
      ],
      "metadata": {
        "id": "lsKt6MZ-Xfsn"
      }
    },
    {
      "cell_type": "markdown",
      "source": [
        "Answer=\n",
        "#Assumptions of Linear Regression\n",
        "\n",
        "**Linearity:**\n",
        "The relationship between the independent and dependent variables should be straight-line (linear).\n",
        "\n",
        "**Independence of Errors:**\n",
        "The errors (differences between actual and predicted values) shouldn’t be related to each other.\n",
        "\n",
        "**Homoscedasticity:**\n",
        "The spread of errors should be constant across all predicted values.\n",
        "\n",
        "**Normality of Residuals:**\n",
        "The errors should follow a normal distribution.\n",
        "\n",
        "**No Multicollinearity:**\n",
        "The independent variables shouldn’t be strongly correlated with each other.\n",
        "\n",
        "#How to Check These Assumptions\n",
        "**Linearity:** Use scatter plots of actual vs. predicted values or residuals vs. predictors.\n",
        "\n",
        "**Independence:** Apply the Durbin-Watson test to check for patterns in residuals.\n",
        "\n",
        "**Homoscedasticity:** Plot residuals against predictions; the spread should be even.\n",
        "\n",
        "**Normality:** Look at a histogram or Q-Q plot of residuals.\n",
        "\n",
        "**Multicollinearity:** Check Variance Inflation Factor (VIF); values above 10 suggest a problem."
      ],
      "metadata": {
        "id": "TVcjkr5BXl--"
      }
    },
    {
      "cell_type": "code",
      "source": [],
      "metadata": {
        "id": "WBDeMD5dXlO2"
      },
      "execution_count": null,
      "outputs": []
    },
    {
      "cell_type": "markdown",
      "source": [
        "Q3. How do you interpret the slope and intercept in a linear regression model? Provide an example using\n",
        "a real-world scenario."
      ],
      "metadata": {
        "id": "jdsJW9ojZBch"
      }
    },
    {
      "cell_type": "markdown",
      "source": [
        "Answer = **Slope (\n",
        "𝛽\n",
        "1\n",
        "β\n",
        "1\n",
        "​\n",
        " ):**\n",
        "The slope shows how much the dependent variable changes for a one-unit increase in the independent variable.\n",
        "\n",
        "**Intercept (\n",
        "𝛽\n",
        "0\n",
        "β\n",
        "0\n",
        "​\n",
        " ):**\n",
        "The intercept is the value of the dependent variable when the independent variable is zero.\n",
        "\n",
        "\n",
        "**Example:**\n",
        "\n",
        "**Scenario:** Predicting salary (\n",
        "𝑌\n",
        "Y) based on years of experience (\n",
        "𝑋\n",
        "X).\n",
        "\n",
        "**Equation:\n",
        "Salary\n",
        "=\n",
        "30\n",
        ",\n",
        "000\n",
        "+\n",
        "5\n",
        ",\n",
        "000\n",
        "×\n",
        "Experience**\n",
        "\n",
        "**Intercept** (30,000): Starting salary with no experience is $30,000.\n",
        "\n",
        "**Slope** (5,000): For each additional year of experience, salary increases by $5,000."
      ],
      "metadata": {
        "id": "Sasm3zr0ZCWy"
      }
    },
    {
      "cell_type": "code",
      "source": [],
      "metadata": {
        "id": "9-zmlj_YZ2m4"
      },
      "execution_count": null,
      "outputs": []
    },
    {
      "cell_type": "markdown",
      "source": [
        "Q4. Explain the concept of gradient descent. How is it used in machine learning?"
      ],
      "metadata": {
        "id": "ieE0xtAMZ-px"
      }
    },
    {
      "cell_type": "markdown",
      "source": [
        "Answer= **Gradient Descent**\n",
        "\n",
        "Gradient descent is an optimization algorithm used to minimize the error (or cost) in machine learning models. It iteratively adjusts model parameters to find the best fit by moving in the direction of the steepest decrease in the cost function.\n",
        "\n",
        "**How it’s used in Machine Learning**\n",
        "\n",
        "In machine learning, gradient descent helps optimize the model’s weights or parameters by updating them in small steps based on the gradient of the cost function with respect to the parameters. This process continues until the model reaches the lowest possible error.\n",
        "\n"
      ],
      "metadata": {
        "id": "k5ZTBzdMaEIp"
      }
    },
    {
      "cell_type": "code",
      "source": [],
      "metadata": {
        "id": "ZE1scA-AaDfd"
      },
      "execution_count": null,
      "outputs": []
    },
    {
      "cell_type": "markdown",
      "source": [
        "Q5. Describe the multiple linear regression model. How does it differ from simple linear regression?"
      ],
      "metadata": {
        "id": "Up5onj2TapFl"
      }
    },
    {
      "cell_type": "markdown",
      "source": [
        "Answr=\n",
        "**Multiple Linear Regression**\n",
        "\n",
        "Multiple linear regression models the relationship between one dependent variable and two or more independent variables.\n",
        "\n",
        "The equation is:\n",
        "𝑌\n",
        "=\n",
        "𝛽\n",
        "0\n",
        "+\n",
        "𝛽\n",
        "1\n",
        "𝑋\n",
        "1\n",
        "+\n",
        "𝛽\n",
        "2\n",
        "𝑋\n",
        "2\n",
        "+\n",
        "…\n",
        "+\n",
        "𝛽\n",
        "𝑛\n",
        "𝑋\n",
        "𝑛\n",
        "+\n",
        "𝜖\n",
        "\n",
        "\n",
        " **Difference from Simple Linear Regression**\n",
        "\n",
        "**Simple linear regression** uses one independent variable, while **multiple linear regression** uses two or more.\n",
        "\n",
        "**Simple linear regression** has a straight-line relationship, while **multiple linear regression** can capture more complex relationships involving multiple factors."
      ],
      "metadata": {
        "id": "IGb8KPuoaqli"
      }
    },
    {
      "cell_type": "code",
      "source": [],
      "metadata": {
        "id": "yK-1tIpraqFR"
      },
      "execution_count": null,
      "outputs": []
    },
    {
      "cell_type": "markdown",
      "source": [
        "Q6. Explain the concept of multicollinearity in multiple linear regression. How can you detect and\n",
        "address this issue?"
      ],
      "metadata": {
        "id": "LwYqIAdNblpc"
      }
    },
    {
      "cell_type": "markdown",
      "source": [
        "Answer= **Multicollinearity**\n",
        "\n",
        "Multicollinearity occurs when two or more independent variables in a multiple linear regression model are highly correlated, making it hard to determine the individual effect of each variable.\n",
        "\n",
        "**Detection and Solution**\n",
        "\n",
        "- Detection: Use the Variance Inflation Factor (VIF); a VIF > 10 suggests multicollinearity.\n",
        "\n",
        "- Solution: Remove or combine highly correlated variables, or use Principal Component Analysis (PCA) to reduce dimensionality.\n",
        "\n"
      ],
      "metadata": {
        "id": "ULqR-tw3bnOJ"
      }
    },
    {
      "cell_type": "code",
      "source": [],
      "metadata": {
        "id": "ntR65okVbmjO"
      },
      "execution_count": null,
      "outputs": []
    },
    {
      "cell_type": "markdown",
      "source": [
        "Q7. Describe the polynomial regression model. How is it different from linear regression?"
      ],
      "metadata": {
        "id": "VtVNLb_zcIXP"
      }
    },
    {
      "cell_type": "markdown",
      "source": [
        "Answer = **Polynomial Regression**\n",
        "\n",
        "Polynomial regression models the relationship between the dependent and independent variables as an nth-degree polynomial. The equation is:\n",
        "\n",
        "𝑌\n",
        "=\n",
        "𝛽\n",
        "0\n",
        "+\n",
        "𝛽\n",
        "1\n",
        "𝑋\n",
        "+\n",
        "𝛽\n",
        "2\n",
        "𝑋\n",
        "2\n",
        "+\n",
        "…\n",
        "+\n",
        "𝛽\n",
        "𝑛\n",
        "𝑋\n",
        "𝑛\n",
        "+\n",
        "𝜖\n",
        "\n",
        "\n",
        "**Difference from Linear Regression**\n",
        "\n",
        "Linear regression assumes a straight-line relationship, while polynomial regression can model curved relationships by adding powers of the independent variable."
      ],
      "metadata": {
        "id": "L79m4tqOcKKt"
      }
    },
    {
      "cell_type": "code",
      "source": [],
      "metadata": {
        "id": "Z_fY3CgxcJhf"
      },
      "execution_count": null,
      "outputs": []
    },
    {
      "cell_type": "markdown",
      "source": [
        "Q8. What are the advantages and disadvantages of polynomial regression compared to linear\n",
        "regression? In what situations would you prefer to use polynomial regression?"
      ],
      "metadata": {
        "id": "jdMdAo6jcjwn"
      }
    },
    {
      "cell_type": "markdown",
      "source": [
        "Answer=\n",
        "**Advantages of Polynomial Regression**\n",
        "\n",
        "- Captures non-linear relationships: Can model curved data patterns that linear regression cannot.\n",
        "\n",
        "**Disadvantages of Polynomial Regression**\n",
        "- Overfitting: High-degree polynomials can fit noise, leading to poor generalization.\n",
        "- Complexity: Harder to interpret and more computationally expensive.\n",
        "\n",
        "**When to Use Polynomial Regression**\n",
        "- Use when the relationship between variables is non-linear, and you need to fit more complex curves."
      ],
      "metadata": {
        "id": "amxNjcCIcmDw"
      }
    },
    {
      "cell_type": "code",
      "source": [],
      "metadata": {
        "id": "8IlbOradclo5"
      },
      "execution_count": null,
      "outputs": []
    }
  ]
}