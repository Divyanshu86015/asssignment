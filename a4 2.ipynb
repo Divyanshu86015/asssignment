{
 "cells": [
  {
   "cell_type": "markdown",
   "id": "a89f0a7e-b1b6-4ccd-bac9-53f2a05c46e0",
   "metadata": {},
   "source": [
    "Q1. Explain Class and Object with respect to Object-Oriented Programming. Give a suitable example."
   ]
  },
  {
   "cell_type": "markdown",
   "id": "93a4f982-1b38-44d6-849a-dc11ca541494",
   "metadata": {},
   "source": [
    "Ans = In Object-Oriented Programming (OOP), a class and an object are fundamental concepts that help organize and structure code to model real-world entities and their behaviors. "
   ]
  },
  {
   "cell_type": "markdown",
   "id": "6fb77c03-4d01-4927-9d61-c07f3140dfc3",
   "metadata": {},
   "source": [
    "Class:\n",
    "A class is a blueprint or template for creating objects. It defines the attributes (properties) and methods (functions) that the objects of the class will have. In essence, a class provides a set of instructions for how to create and interact with objects. It encapsulates the data and behavior related to a particular concept or entity."
   ]
  },
  {
   "cell_type": "markdown",
   "id": "06f1a8cd-c0a1-46a4-b9f0-66bfe9ba8da9",
   "metadata": {},
   "source": [
    "Object:\n",
    "An object is an instance of a class. It is a concrete realization of the class blueprint, with its own set of attribute values. "
   ]
  },
  {
   "cell_type": "code",
   "execution_count": 3,
   "id": "54e39047-b7c1-4dd3-802e-565e79ee0b08",
   "metadata": {},
   "outputs": [],
   "source": [
    "class Car:\n",
    "    def __init__(self, make, model, year):\n",
    "        self.make = make\n",
    "        self.model = model\n",
    "        self.year = year\n",
    "        self.speed = 0\n",
    "    def accelerate(self, increment):\n",
    "        self.speed += increment\n",
    "    def brake(self, decrement):\n",
    "        self.speed -= decrement\n",
    "    def display_info(self):\n",
    "        print(f\"{self.year} {self.make} {self.model}, Speed: {self.speed} mph\")\n",
    "\n",
    "# Creating instances (objects) of the Car class\n",
    "car1 = Car(\"Toyota\", \"Camry\", 2022)\n",
    "car2 = Car(\"Ford\", \"Mustang\", 2023)"
   ]
  },
  {
   "cell_type": "code",
   "execution_count": 4,
   "id": "6513b498-8ebc-4e29-a4bc-078c3a64356e",
   "metadata": {},
   "outputs": [],
   "source": [
    "car1 = Car(\"Toyota\", \"Camry\", 2022)"
   ]
  },
  {
   "cell_type": "code",
   "execution_count": 5,
   "id": "14512d82-0b49-4d84-99fb-2fbd85c1a289",
   "metadata": {},
   "outputs": [],
   "source": [
    "car2 = Car(\"Ford\", \"Mustang\", 2023)"
   ]
  },
  {
   "cell_type": "code",
   "execution_count": 6,
   "id": "9cd1d609-982c-4e4f-95aa-139e0d055423",
   "metadata": {},
   "outputs": [],
   "source": [
    "car1.accelerate(20)\n",
    "car2.accelerate(30)"
   ]
  },
  {
   "cell_type": "code",
   "execution_count": 7,
   "id": "91dfbcb3-5552-4a2f-a832-695afd3376ba",
   "metadata": {},
   "outputs": [
    {
     "name": "stdout",
     "output_type": "stream",
     "text": [
      "2022 Toyota Camry, Speed: 20 mph\n",
      "2023 Ford Mustang, Speed: 30 mph\n"
     ]
    }
   ],
   "source": [
    "car1.display_info()  \n",
    "car2.display_info() "
   ]
  },
  {
   "cell_type": "code",
   "execution_count": null,
   "id": "18acdc1a-813b-430e-ba59-670656b3e0fe",
   "metadata": {},
   "outputs": [],
   "source": []
  },
  {
   "cell_type": "markdown",
   "id": "5f94eba8-1de9-4841-a70a-57b344c8da4a",
   "metadata": {},
   "source": [
    "Q2. Name the four pillars of OOPs."
   ]
  },
  {
   "cell_type": "markdown",
   "id": "6101d418-3099-45a5-b33d-99a49d659698",
   "metadata": {},
   "source": [
    "Ans = The four pillars of Object-Oriented Programming (OOP) are:\n",
    "\n",
    "Encapsulation: Encapsulation refers to the bundling of data (attributes or properties) and methods (functions) that operate on that data into a single unit called a class. It hides the internal state of an object from the outside world and restricts direct access to it. Access to the object's data is typically controlled through public methods, providing a way to maintain data integrity and security.\n",
    "\n",
    "Inheritance: Inheritance is a mechanism that allows a new class (subclass or derived class) to inherit properties and behaviors (attributes and methods) from an existing class (base class or superclass). This promotes code reusability and establishes an \"is-a\" relationship between classes. Subclasses can extend or override the behavior of their parent classes.\n",
    "\n",
    "Polymorphism: Polymorphism means \"many forms.\" It allows objects of different classes to be treated as objects of a common base class. Polymorphism enables one interface (method) to be used for a general class of actions. This can be achieved through method overriding (in the case of inheritance) or method overloading (with different parameter lists).\n",
    "\n",
    "Abstraction: Abstraction is the process of simplifying complex reality by modeling classes based on the essential characteristics and hiding the irrelevant details. It involves defining a clear interface for classes while keeping the implementation details hidden. Abstraction helps in managing complexity and allows developers to focus on what an object does rather than how it does it.\n",
    "\n"
   ]
  },
  {
   "cell_type": "code",
   "execution_count": null,
   "id": "2ac1e87b-a0ae-403a-a0f3-0547f27eea2a",
   "metadata": {},
   "outputs": [],
   "source": []
  },
  {
   "cell_type": "markdown",
   "id": "4c3077a2-1bae-4478-8a59-6aa5ea92bc95",
   "metadata": {},
   "source": [
    "Q3. Explain why the __init__() function is used. Give a suitable example."
   ]
  },
  {
   "cell_type": "markdown",
   "id": "2b328cc8-5d65-4968-9218-527805e3d462",
   "metadata": {},
   "source": [
    "Ans = \n",
    "The __init__() function, also known as the constructor, is a special method in Python that is used to initialize the attributes (properties) of an object when an instance of a class is created. It is called automatically when we create a new object from a class. The primary purpose of the __init__() method is to set up the initial state of the object by assigning values to its attributes."
   ]
  },
  {
   "cell_type": "code",
   "execution_count": 10,
   "id": "c2231c3a-3b30-4474-9ea1-15838751fda3",
   "metadata": {},
   "outputs": [],
   "source": [
    "class Person:\n",
    "    def __init__(self, name, age):\n",
    "        self.name = name\n",
    "        self.age = age\n",
    "    def introduce(self):\n",
    "        print(f\"Hi, I'm {self.name}, and I am {self.age} years old.\")\n",
    "person1 = Person(\"Divyanshu\", 20)\n",
    "person2= Person('div',21)"
   ]
  },
  {
   "cell_type": "code",
   "execution_count": 11,
   "id": "518ff72e-e4ea-4d8f-ab3c-20594f0047b8",
   "metadata": {},
   "outputs": [
    {
     "name": "stdout",
     "output_type": "stream",
     "text": [
      "Hi, I'm Divyanshu, and I am 20 years old.\n"
     ]
    }
   ],
   "source": [
    "person1.introduce()"
   ]
  },
  {
   "cell_type": "code",
   "execution_count": 12,
   "id": "b4b24b70-45dc-4b90-8bb3-319a5069a538",
   "metadata": {},
   "outputs": [
    {
     "name": "stdout",
     "output_type": "stream",
     "text": [
      "Hi, I'm div, and I am 21 years old.\n"
     ]
    }
   ],
   "source": [
    "person2.introduce()"
   ]
  },
  {
   "cell_type": "code",
   "execution_count": null,
   "id": "dfb398fe-a3e8-43ce-8467-d6e426c9498e",
   "metadata": {},
   "outputs": [],
   "source": []
  },
  {
   "cell_type": "markdown",
   "id": "3cb07d14-aa0f-442c-8a37-e8360ce4997a",
   "metadata": {},
   "source": [
    "Q4. Why self is used in OOPs?"
   ]
  },
  {
   "cell_type": "markdown",
   "id": "634bb724-e40e-4e46-a2d7-9259d819b180",
   "metadata": {},
   "source": [
    "Ans = The self parameter is used to refer to the instance of a class within its methods. It is a convention in Python, and it plays a crucial role in allowing objects to access and manipulate their own attributes and methods."
   ]
  },
  {
   "cell_type": "code",
   "execution_count": null,
   "id": "d05beb8a-fb01-476e-841a-a343283089b6",
   "metadata": {},
   "outputs": [],
   "source": []
  },
  {
   "cell_type": "markdown",
   "id": "4acab7b1-e1f4-4d69-b3f0-d3cb8f1457e8",
   "metadata": {},
   "source": [
    "Q5. What is inheritance? Give an example for each type of inheritance."
   ]
  },
  {
   "cell_type": "markdown",
   "id": "4aecde37-6487-4499-8c38-b04483a29de9",
   "metadata": {},
   "source": [
    "Ans = Inheritance is a fundamental concept in Object-Oriented Programming (OOP) that allows a new class (called a subclass or derived class) to inherit attributes and behaviors (properties and methods) from an existing class (called a superclass or base class). Inheritance promotes code reuse, extensibility, and the creation of a hierarchy of classes."
   ]
  },
  {
   "cell_type": "markdown",
   "id": "f346bcda-ed55-446b-b1a1-04a0718bfde1",
   "metadata": {},
   "source": [
    "There are several types of inheritance in OOP,"
   ]
  },
  {
   "cell_type": "markdown",
   "id": "27f24eb2-2503-4e32-83fa-945fe5388789",
   "metadata": {},
   "source": [
    "1. Single Inheritance:\n",
    "Single inheritance occurs when a subclass inherits from a single superclass. This is the most common type of inheritance.\n",
    "\n",
    "Example:"
   ]
  },
  {
   "cell_type": "code",
   "execution_count": 24,
   "id": "55206332-43b4-4f2b-9e2d-54f05100e92a",
   "metadata": {},
   "outputs": [
    {
     "name": "stdout",
     "output_type": "stream",
     "text": [
      "sheru says Woof!\n",
      "pgl says Meow!\n"
     ]
    }
   ],
   "source": [
    "class Animal:\n",
    "    def __init__(self, name):\n",
    "        self.name = name\n",
    "\n",
    "    def speak(self):\n",
    "        pass\n",
    "\n",
    "class Dog(Animal):\n",
    "    def speak(self):\n",
    "        return f\"{self.name} says Woof!\"\n",
    "\n",
    "class Cat(Animal):\n",
    "    def speak(self):\n",
    "        return f\"{self.name} says Meow!\"\n",
    "\n",
    "# Creating instances of Dog and Cat\n",
    "dog = Dog(\"sheru\")\n",
    "cat = Cat(\"pgl\")\n",
    "\n",
    "print(dog.speak())  # Output: Buddy says Woof!\n",
    "print(cat.speak())  # Output: Whiskers says Meow!\n"
   ]
  },
  {
   "cell_type": "raw",
   "id": "fbaf49e7-b279-4e40-a024-259673465b9a",
   "metadata": {},
   "source": [
    "2. Multiple Inheritance:\n",
    "Multiple inheritance occurs when a subclass inherits from more than one superclass. This allows a class to inherit attributes and methods from multiple sources.\n",
    " \n",
    "Example:"
   ]
  },
  {
   "cell_type": "code",
   "execution_count": 22,
   "id": "439e4eea-ff79-47db-abb9-8a5daea27760",
   "metadata": {},
   "outputs": [
    {
     "name": "stdout",
     "output_type": "stream",
     "text": [
      "Method from Parent1\n",
      "Method from Parent2\n"
     ]
    }
   ],
   "source": [
    "class Parent1:\n",
    "    def method1(self):\n",
    "        return \"Method from Parent1\"\n",
    "\n",
    "class Parent2:\n",
    "    def method2(self):\n",
    "        return \"Method from Parent2\"\n",
    "\n",
    "class Child(Parent1, Parent2):\n",
    "    pass\n",
    "\n",
    "# Creating an instance of Child\n",
    "child = Child()\n",
    "\n",
    "print(child.method1())  # Output: Method from Parent1\n",
    "print(child.method2())  # Output: Method from Parent2\n"
   ]
  },
  {
   "cell_type": "markdown",
   "id": "108be2ae-dfd1-4f3b-9e05-84a14214814d",
   "metadata": {},
   "source": [
    "3. Multilevel Inheritance:\n",
    "Multilevel inheritance occurs when a subclass inherits from a superclass, and then another class inherits from that subclass. It forms a chain of inheritance.\n",
    "\n",
    "Example:"
   ]
  },
  {
   "cell_type": "code",
   "execution_count": 23,
   "id": "46c2030e-e729-479c-ac06-8fe2734ecd2e",
   "metadata": {},
   "outputs": [
    {
     "name": "stdout",
     "output_type": "stream",
     "text": [
      "Method from Grandparent\n",
      "Method from Parent\n",
      "Method from Child\n"
     ]
    }
   ],
   "source": [
    "class Grandparent:\n",
    "    def grandparent_method(self):\n",
    "        return \"Method from Grandparent\"\n",
    "\n",
    "class Parent(Grandparent):\n",
    "    def parent_method(self):\n",
    "        return \"Method from Parent\"\n",
    "\n",
    "class Child(Parent):\n",
    "    def child_method(self):\n",
    "        return \"Method from Child\"\n",
    "\n",
    "# Creating an instance of Child\n",
    "child = Child()\n",
    "\n",
    "print(child.grandparent_method())  # Output: Method from Grandparent\n",
    "print(child.parent_method())       # Output: Method from Parent\n",
    "print(child.child_method())        # Output: Method from Child\n"
   ]
  },
  {
   "cell_type": "code",
   "execution_count": null,
   "id": "40781e37-1500-4308-be90-62b3fbe0de25",
   "metadata": {},
   "outputs": [],
   "source": []
  }
 ],
 "metadata": {
  "kernelspec": {
   "display_name": "Python 3 (ipykernel)",
   "language": "python",
   "name": "python3"
  },
  "language_info": {
   "codemirror_mode": {
    "name": "ipython",
    "version": 3
   },
   "file_extension": ".py",
   "mimetype": "text/x-python",
   "name": "python",
   "nbconvert_exporter": "python",
   "pygments_lexer": "ipython3",
   "version": "3.10.8"
  }
 },
 "nbformat": 4,
 "nbformat_minor": 5
}
