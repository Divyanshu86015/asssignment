{
 "cells": [
  {
   "cell_type": "markdown",
   "id": "aaddb408-ccc0-4d22-9517-7b474db9c8f5",
   "metadata": {},
   "source": [
    "Q1. what is Exception in python ? write the difference between  Exception and Syntex error ?"
   ]
  },
  {
   "cell_type": "markdown",
   "id": "392c7325-1481-478b-a894-bed3166dbb14",
   "metadata": {},
   "source": [
    " Ans= An exception in Python is an incident that happens while executing a program that causes the regular course of the program's commands to be disrupted. When a Python code comes across a condition it can't handle, it raises an exception. An object in Python that describes an error is called an exception."
   ]
  },
  {
   "cell_type": "markdown",
   "id": "031f4bbe-4397-46ab-8b1e-7ca4a1b7ee6b",
   "metadata": {},
   "source": [
    "Syntax Errors\n",
    "Syntax errors are perhaps the most common kind of complaint you get while you are still learning Python. Example:"
   ]
  },
  {
   "cell_type": "code",
   "execution_count": 1,
   "id": "36d2038d-4c13-42b2-8728-81d025ae1bc6",
   "metadata": {},
   "outputs": [
    {
     "ename": "SyntaxError",
     "evalue": "invalid syntax (869094224.py, line 1)",
     "output_type": "error",
     "traceback": [
      "\u001b[0;36m  Cell \u001b[0;32mIn[1], line 1\u001b[0;36m\u001b[0m\n\u001b[0;31m    while True print('Hello world')\u001b[0m\n\u001b[0m               ^\u001b[0m\n\u001b[0;31mSyntaxError\u001b[0m\u001b[0;31m:\u001b[0m invalid syntax\n"
     ]
    }
   ],
   "source": [
    "while True print('Hello world')\n",
    "  File \"<stdin>\", line 1\n",
    "    while True print('Hello world')\n",
    "                   ^\n",
    "SyntaxError: invalid syntax"
   ]
  },
  {
   "cell_type": "markdown",
   "id": "b1ebf90a-60e8-44ca-ae9c-59706fe83b7b",
   "metadata": {},
   "source": [
    "Python returns the offending line and displays a little ‘arrow’ pointing at the earliest point in the line where the error was detected.\n",
    "\n",
    "The error is caused by (or at least detected at) the function, command, or token preceding the arrow."
   ]
  },
  {
   "cell_type": "markdown",
   "id": "7457a18c-ad34-4c57-84f3-4c38e37b416d",
   "metadata": {},
   "source": [
    "Exceptions\n",
    "\n",
    "Even if a statement or expression is syntactically correct, it may cause an error when an attempt is made to execute it.\n",
    "\n",
    "Errors detected during code execution are called exceptions and are not unconditionally fatal. Most exceptions are not handled by programs, however, and result in error messages as shown here:"
   ]
  },
  {
   "cell_type": "code",
   "execution_count": 2,
   "id": "80cdf866-110a-4553-980b-6f9e65b9f99f",
   "metadata": {},
   "outputs": [
    {
     "ename": "SyntaxError",
     "evalue": "unterminated string literal (detected at line 13) (2500658802.py, line 13)",
     "output_type": "error",
     "traceback": [
      "\u001b[0;36m  Cell \u001b[0;32mIn[2], line 13\u001b[0;36m\u001b[0m\n\u001b[0;31m    TypeError: Can't convert 'int' object to str implicitly\u001b[0m\n\u001b[0m                                 ^\u001b[0m\n\u001b[0;31mSyntaxError\u001b[0m\u001b[0;31m:\u001b[0m unterminated string literal (detected at line 13)\n"
     ]
    }
   ],
   "source": [
    "10 * (1/0)\n",
    "Traceback (most recent call last):\n",
    "  File \"<stdin>\", line 1, in <module>\n",
    "ZeroDivisionError: division by zero\n",
    ">>> 4 + spam*3\n",
    "Traceback (most recent call last):\n",
    "  File \"<stdin>\", line 1, in <module>\n",
    "NameError: name 'spam' is not defined\n",
    ">>> '2' + 2\n",
    "Traceback (most recent call last):\n",
    "  File \"<stdin>\", line 1, in <module>\n",
    "\n",
    "TypeError: Can't convert 'int' object to str implicitly"
   ]
  },
  {
   "cell_type": "markdown",
   "id": "d7925785-f063-41d4-865b-b39649d2f0f2",
   "metadata": {},
   "source": [
    "The last line of the error message indicates what happened. Here you see three different exceptions and the type is printed as part of the message. The types in the example are ZeroDivisionError, NameError and TypeError."
   ]
  },
  {
   "cell_type": "code",
   "execution_count": null,
   "id": "6acb0dce-0f61-42aa-b4ec-e7e4da8fc479",
   "metadata": {},
   "outputs": [],
   "source": []
  },
  {
   "cell_type": "markdown",
   "id": "5f1cec2e-e253-4e94-9ce6-a6f15cfa4483",
   "metadata": {},
   "source": [
    "Q2. what happens when an exception is not handled?Explain with an example."
   ]
  },
  {
   "cell_type": "markdown",
   "id": "5375f6bb-293d-452c-b1ff-7611f127545c",
   "metadata": {},
   "source": [
    "Ans= When an exception is not handled in a program, it typically leads to the termination of the program or abnormal behavior. In most programming languages, when an exception occurs and there is no code to catch or handle it, the program will terminate abruptly, and an error message or stack trace may be displayed to the user or logged for debugging purposes. This can result in an unstable or unreliable program.\n",
    "\n"
   ]
  },
  {
   "cell_type": "markdown",
   "id": "060fc4da-b021-4d3c-aca2-bd0ead1990a1",
   "metadata": {},
   "source": [
    "Here's an example in Python to illustrate what happens when an exception is not handled"
   ]
  },
  {
   "cell_type": "code",
   "execution_count": 4,
   "id": "7bd3714d-1594-481a-bdb6-b71d6e9701b2",
   "metadata": {},
   "outputs": [
    {
     "ename": "ZeroDivisionError",
     "evalue": "division by zero",
     "output_type": "error",
     "traceback": [
      "\u001b[0;31m---------------------------------------------------------------------------\u001b[0m",
      "\u001b[0;31mZeroDivisionError\u001b[0m                         Traceback (most recent call last)",
      "Cell \u001b[0;32mIn[4], line 6\u001b[0m\n\u001b[1;32m      3\u001b[0m     \u001b[38;5;28;01mreturn\u001b[39;00m result\n\u001b[1;32m      5\u001b[0m \u001b[38;5;66;03m# Attempt to divide by zero, which will raise a ZeroDivisionError\u001b[39;00m\n\u001b[0;32m----> 6\u001b[0m result \u001b[38;5;241m=\u001b[39m \u001b[43mdivide\u001b[49m\u001b[43m(\u001b[49m\u001b[38;5;241;43m10\u001b[39;49m\u001b[43m,\u001b[49m\u001b[43m \u001b[49m\u001b[38;5;241;43m0\u001b[39;49m\u001b[43m)\u001b[49m\n\u001b[1;32m      8\u001b[0m \u001b[38;5;66;03m# The following code will never execute because the exception is not handled\u001b[39;00m\n\u001b[1;32m      9\u001b[0m \u001b[38;5;28mprint\u001b[39m(\u001b[38;5;124m\"\u001b[39m\u001b[38;5;124mThis will never be printed.\u001b[39m\u001b[38;5;124m\"\u001b[39m)\n",
      "Cell \u001b[0;32mIn[4], line 2\u001b[0m, in \u001b[0;36mdivide\u001b[0;34m(a, b)\u001b[0m\n\u001b[1;32m      1\u001b[0m \u001b[38;5;28;01mdef\u001b[39;00m \u001b[38;5;21mdivide\u001b[39m(a, b):\n\u001b[0;32m----> 2\u001b[0m     result \u001b[38;5;241m=\u001b[39m \u001b[43ma\u001b[49m\u001b[43m \u001b[49m\u001b[38;5;241;43m/\u001b[39;49m\u001b[43m \u001b[49m\u001b[43mb\u001b[49m\n\u001b[1;32m      3\u001b[0m     \u001b[38;5;28;01mreturn\u001b[39;00m result\n",
      "\u001b[0;31mZeroDivisionError\u001b[0m: division by zero"
     ]
    }
   ],
   "source": [
    "def divide(a, b):\n",
    "    result = a / b\n",
    "    return result\n",
    "\n",
    "# Attempt to divide by zero, which will raise a ZeroDivisionError\n",
    "result = divide(10, 0)\n",
    "\n",
    "# The following code will never execute because the exception is not handled\n",
    "print(\"This will never be printed.\")\n"
   ]
  },
  {
   "cell_type": "markdown",
   "id": "4177efbb-a013-4ef5-95b7-2006801a011a",
   "metadata": {},
   "source": [
    "In this example, the divide function attempts to divide a number by another number. However, when b is 0, a ZeroDivisionError is raised because dividing by zero is mathematically undefined. Since we haven't provided any code to handle this exception, the program will terminate, and the error message will be displayed:"
   ]
  },
  {
   "cell_type": "code",
   "execution_count": 5,
   "id": "3af0b598-f986-4721-9aa3-6f66d742e279",
   "metadata": {},
   "outputs": [
    {
     "ename": "SyntaxError",
     "evalue": "invalid syntax. Perhaps you forgot a comma? (948100362.py, line 1)",
     "output_type": "error",
     "traceback": [
      "\u001b[0;36m  Cell \u001b[0;32mIn[5], line 1\u001b[0;36m\u001b[0m\n\u001b[0;31m    Traceback (most recent call last):\u001b[0m\n\u001b[0m               ^\u001b[0m\n\u001b[0;31mSyntaxError\u001b[0m\u001b[0;31m:\u001b[0m invalid syntax. Perhaps you forgot a comma?\n"
     ]
    }
   ],
   "source": [
    "Traceback (most recent call last):\n",
    "  File \"example.py\", line 5, in <module>\n",
    "    result = divide(10, 0)\n",
    "  File \"example.py\", line 2, in divide\n",
    "    result = a / b\n",
    "ZeroDivisionError: division by zero\n"
   ]
  },
  {
   "cell_type": "markdown",
   "id": "c277c6b0-56ed-4d71-bb37-9e3e0a37f98d",
   "metadata": {},
   "source": [
    "As we can see, the program execution stops at the point where the exception occurs, and any subsequent code is not executed. This can be problematic in real-world applications because it leaves the program in an unpredictable state, and the user may not receive any meaningful feedback or error handling.\n",
    "\n",
    "To avoid such issues, it's essential to handle exceptions appropriately by using try-except blocks or similar error-handling mechanisms. This allows you to gracefully handle exceptions, provide feedback to the user, and potentially recover from errors without abrupt program termination.\n",
    "\n",
    "\n",
    "\n",
    "\n"
   ]
  },
  {
   "cell_type": "code",
   "execution_count": null,
   "id": "4e99f189-b348-4b15-9cf4-579f7e1b02cf",
   "metadata": {},
   "outputs": [],
   "source": []
  },
  {
   "cell_type": "markdown",
   "id": "c726e584-af25-449b-9910-30ec683b70bf",
   "metadata": {},
   "source": [
    "Q3. which python statements aur uesd to catch and handle exceptions ? explain with an example.\n",
    "\n"
   ]
  },
  {
   "cell_type": "markdown",
   "id": "6c6f1199-0edf-4c06-9bcb-d72dbbc217a7",
   "metadata": {},
   "source": [
    "Ans= We can use the try and except statements to catch and handle exceptions. These statements allow you to gracefully manage errors and prevent them from causing your program to crash. \n",
    "\n"
   ]
  },
  {
   "cell_type": "markdown",
   "id": "91002896-2832-4edc-a865-9ba5e9994a92",
   "metadata": {},
   "source": [
    "Here's how they work with an example:"
   ]
  },
  {
   "cell_type": "code",
   "execution_count": 6,
   "id": "b248ab7d-16bb-4f72-9464-177f6620dd4b",
   "metadata": {},
   "outputs": [
    {
     "name": "stdin",
     "output_type": "stream",
     "text": [
      "Enter a number:  10\n"
     ]
    },
    {
     "name": "stdout",
     "output_type": "stream",
     "text": [
      "Result: 1.0\n",
      "No exceptions occurred.\n",
      "This is the 'finally' block.\n"
     ]
    }
   ],
   "source": [
    "try:\n",
    "    # Code that may raise an exception\n",
    "    x = int(input(\"Enter a number: \"))\n",
    "    y = 10 / x\n",
    "    print(f\"Result: {y}\")\n",
    "except ValueError as ve:\n",
    "    # Handle a ValueError (e.g., if the user entered a non-integer)\n",
    "    print(f\"ValueError: {ve}\")\n",
    "except ZeroDivisionError as zde:\n",
    "    # Handle a ZeroDivisionError (e.g., if the user entered 0)\n",
    "    print(f\"ZeroDivisionError: {zde}\")\n",
    "except Exception as e:\n",
    "    # Handle any other exceptions\n",
    "    print(f\"An unexpected error occurred: {e}\")\n",
    "else:\n",
    "    # Code to execute if no exceptions occurred\n",
    "    print(\"No exceptions occurred.\")\n",
    "finally:\n",
    "    # Code that always runs, whether an exception occurred or not\n",
    "    print(\"This is the 'finally' block.\")\n"
   ]
  },
  {
   "cell_type": "markdown",
   "id": "a1632e65-4d41-417f-a648-12f9e93e7051",
   "metadata": {},
   "source": [
    "In this example:\n",
    "\n",
    "The try block contains the code that may raise an exception. In this case, it attempts to get user input, perform a division operation, and print the result.\n",
    "\n",
    "The except blocks are used to catch specific types of exceptions. In this example:\n",
    "\n",
    "The first except block catches ValueError, which occurs if the user enters a non-integer input.\n",
    "The second except block catches ZeroDivisionError, which occurs if the user enters 0 as input.\n",
    "The third except block catches any other exceptions that might occur and assigns the exception object to the variable e.\n",
    "The else block contains code that runs if no exceptions were raised within the try block.\n",
    "\n",
    "The finally block contains code that always runs, regardless of whether an exception occurred or not. It is commonly used for cleanup tasks, such as closing files or releasing resources.\n",
    "\n",
    "When you run this code, it will prompt the user for input, perform division, and handle various exceptions based on the user's input. Here are some possible outputs:\n",
    "\n"
   ]
  },
  {
   "cell_type": "code",
   "execution_count": 7,
   "id": "b79acba4-2d85-46a0-b9ec-b47ed1a7ba55",
   "metadata": {},
   "outputs": [
    {
     "ename": "SyntaxError",
     "evalue": "invalid syntax (2188851158.py, line 1)",
     "output_type": "error",
     "traceback": [
      "\u001b[0;36m  Cell \u001b[0;32mIn[7], line 1\u001b[0;36m\u001b[0m\n\u001b[0;31m    Enter a number: 5\u001b[0m\n\u001b[0m          ^\u001b[0m\n\u001b[0;31mSyntaxError\u001b[0m\u001b[0;31m:\u001b[0m invalid syntax\n"
     ]
    }
   ],
   "source": [
    "Enter a number: 5\n",
    "Result: 2.0\n",
    "No exceptions occurred.\n",
    "This is the 'finally' block.\n"
   ]
  },
  {
   "cell_type": "code",
   "execution_count": 8,
   "id": "0dc1be5a-9302-4180-8c2a-bc3a75f0a855",
   "metadata": {},
   "outputs": [
    {
     "ename": "SyntaxError",
     "evalue": "invalid syntax (569729678.py, line 1)",
     "output_type": "error",
     "traceback": [
      "\u001b[0;36m  Cell \u001b[0;32mIn[8], line 1\u001b[0;36m\u001b[0m\n\u001b[0;31m    Enter a number: 0\u001b[0m\n\u001b[0m          ^\u001b[0m\n\u001b[0;31mSyntaxError\u001b[0m\u001b[0;31m:\u001b[0m invalid syntax\n"
     ]
    }
   ],
   "source": [
    "Enter a number: 0\n",
    "ZeroDivisionError: division by zero\n",
    "This is the 'finally' block.\n"
   ]
  },
  {
   "cell_type": "code",
   "execution_count": 9,
   "id": "a3c52488-ec08-45f8-92c2-fe011db1df8e",
   "metadata": {},
   "outputs": [
    {
     "ename": "SyntaxError",
     "evalue": "invalid syntax (264630189.py, line 1)",
     "output_type": "error",
     "traceback": [
      "\u001b[0;36m  Cell \u001b[0;32mIn[9], line 1\u001b[0;36m\u001b[0m\n\u001b[0;31m    Enter a number: abc\u001b[0m\n\u001b[0m          ^\u001b[0m\n\u001b[0;31mSyntaxError\u001b[0m\u001b[0;31m:\u001b[0m invalid syntax\n"
     ]
    }
   ],
   "source": [
    "Enter a number: abc\n",
    "ValueError: invalid literal for int() with base 10: 'abc'\n",
    "This is the 'finally' block.\n"
   ]
  },
  {
   "cell_type": "markdown",
   "id": "e41e1ff2-3997-4c02-a9d2-20a017113b2a",
   "metadata": {},
   "source": [
    "In each case, the program gracefully handles the specific exception, provides an error message, and ensures that the 'finally' block always executes. This helps maintain program stability and provides better feedback to the user.\n",
    "\n",
    "\n",
    "\n",
    "\n"
   ]
  },
  {
   "cell_type": "code",
   "execution_count": null,
   "id": "028a5e85-9237-4d7d-b58c-597b416310a4",
   "metadata": {},
   "outputs": [],
   "source": []
  },
  {
   "cell_type": "markdown",
   "id": "0db2c3ac-bdf1-408d-aa38-efc37a9520a6",
   "metadata": {},
   "source": [
    "Q4. Explain with an example ?\n",
    "    a. try and else\n",
    "    b. finally \n",
    "    c. raise"
   ]
  },
  {
   "cell_type": "markdown",
   "id": "280ab62c-541d-4e1a-a862-016bf8371dd0",
   "metadata": {},
   "source": [
    "*. try and else "
   ]
  },
  {
   "cell_type": "markdown",
   "id": "d2ca3224-3698-4109-bc8a-45456cb0ef52",
   "metadata": {},
   "source": [
    "\n",
    "The try and else blocks are used together to handle exceptions and specify code that should execute if no exceptions are raised within the try block. Here's an example:\n",
    "\n"
   ]
  },
  {
   "cell_type": "code",
   "execution_count": null,
   "id": "a6891521-57c5-4c84-87db-e13877f9dd2e",
   "metadata": {},
   "outputs": [],
   "source": [
    "try:\n",
    "    x = int(input(\"Enter a number: \"))\n",
    "    result = 10 / x\n",
    "except ValueError as ve:\n",
    "    print(f\"ValueError: {ve}\")\n",
    "except ZeroDivisionError as zde:\n",
    "    print(f\"ZeroDivisionError: {zde}\")\n",
    "else:\n",
    "    print(f\"Result: {result}\")\n"
   ]
  },
  {
   "cell_type": "markdown",
   "id": "9360287c-ba6c-42fc-a450-ad3bd5601866",
   "metadata": {},
   "source": [
    "In this example:\n",
    "\n",
    "*. The try block attempts to get user input, perform division, and assign the result to the result variable.\n",
    "*. The except blocks handle specific exceptions (ValueError and ZeroDivisionError) that may occur.\n",
    "*. The else block contains code that runs only if no exceptions are raised. It prints the result if the division is successful.\n"
   ]
  },
  {
   "cell_type": "markdown",
   "id": "de4415e7-b2f2-4f3f-b696-f6ba99faca06",
   "metadata": {},
   "source": [
    "*. Finally"
   ]
  },
  {
   "cell_type": "markdown",
   "id": "e23d4d56-78ff-4b7d-9aab-0ff64358ae24",
   "metadata": {},
   "source": [
    "\n",
    "The finally block is used for code that should always execute, whether an exception occurs or not. It is typically used for cleanup tasks, such as closing files or releasing resources. Here's an example:\n",
    "\n"
   ]
  },
  {
   "cell_type": "code",
   "execution_count": 11,
   "id": "ba8a45b7-7c50-4e51-9610-769ebb0db3ff",
   "metadata": {},
   "outputs": [
    {
     "name": "stdout",
     "output_type": "stream",
     "text": [
      "File not found.\n"
     ]
    },
    {
     "ename": "NameError",
     "evalue": "name 'file' is not defined",
     "output_type": "error",
     "traceback": [
      "\u001b[0;31m---------------------------------------------------------------------------\u001b[0m",
      "\u001b[0;31mNameError\u001b[0m                                 Traceback (most recent call last)",
      "Cell \u001b[0;32mIn[11], line 8\u001b[0m\n\u001b[1;32m      6\u001b[0m     \u001b[38;5;28mprint\u001b[39m(\u001b[38;5;124m\"\u001b[39m\u001b[38;5;124mFile not found.\u001b[39m\u001b[38;5;124m\"\u001b[39m)\n\u001b[1;32m      7\u001b[0m \u001b[38;5;28;01mfinally\u001b[39;00m:\n\u001b[0;32m----> 8\u001b[0m     \u001b[43mfile\u001b[49m\u001b[38;5;241m.\u001b[39mclose()  \u001b[38;5;66;03m# This will be executed regardless of whether an exception occurred\u001b[39;00m\n",
      "\u001b[0;31mNameError\u001b[0m: name 'file' is not defined"
     ]
    }
   ],
   "source": [
    "try:\n",
    "    file = open(\"example.txt\", \"r\")\n",
    "    data = file.read()\n",
    "    print(data)\n",
    "except FileNotFoundError:\n",
    "    print(\"File not found.\")\n",
    "finally:\n",
    "    file.close()  # This will be executed regardless of whether an exception occurred\n"
   ]
  },
  {
   "cell_type": "markdown",
   "id": "ac3c997d-323a-41eb-8a89-0e0e7457981d",
   "metadata": {},
   "source": [
    "In this example:\n",
    "\n",
    "*.The try block attempts to open and read a file, and it may raise a FileNotFoundError if the file doesn't exist.\n",
    "*.The except block handles the specific exception.\n",
    "*.The finally block ensures that the file is closed, whether or not an exception occurs.\n"
   ]
  },
  {
   "cell_type": "markdown",
   "id": "f287ff7c-4aac-496b-962c-c15b3345288e",
   "metadata": {},
   "source": [
    " *. Raise:"
   ]
  },
  {
   "cell_type": "markdown",
   "id": "7c42fd10-d6aa-41ad-9556-e25d611fef85",
   "metadata": {},
   "source": [
    "\n",
    "The raise statement is used to raise exceptions explicitly in your code. You can raise built-in exceptions or create custom exceptions by defining your own exception classes. Here's an example of raising a custom exception:\n",
    "\n"
   ]
  },
  {
   "cell_type": "code",
   "execution_count": 13,
   "id": "7c96e803-b499-44cf-9e6f-78c4b47406b6",
   "metadata": {},
   "outputs": [
    {
     "name": "stdout",
     "output_type": "stream",
     "text": [
      "CustomError: Age cannot be negative.\n"
     ]
    }
   ],
   "source": [
    "class CustomError(Exception):\n",
    "    pass\n",
    "\n",
    "def validate_age(age):\n",
    "    if age < 0:\n",
    "        raise CustomError(\"Age cannot be negative.\")\n",
    "\n",
    "try:\n",
    "    user_age = -5\n",
    "    validate_age(user_age)\n",
    "except CustomError as ce:\n",
    "    print(f\"CustomError: {ce}\")\n"
   ]
  },
  {
   "cell_type": "markdown",
   "id": "92c8a1a3-8cb9-4a4c-9379-4c607f87033d",
   "metadata": {},
   "source": [
    "In this example:\n",
    "\n",
    "We define a custom exception class CustomError.\n",
    "*.The validate_age function checks if the age is negative and raises a CustomError if it is.\n",
    "*.In the try block, we pass a negative age to validate_age, which raises the custom exception.\n",
    "*.The except block catches the CustomError and prints the error message.\n"
   ]
  },
  {
   "cell_type": "code",
   "execution_count": null,
   "id": "da80bdc8-162a-4cf8-8b83-a808a165e19d",
   "metadata": {},
   "outputs": [],
   "source": []
  },
  {
   "cell_type": "markdown",
   "id": "b69bd1e3-3f3d-49f7-b413-abf5db888088",
   "metadata": {},
   "source": [
    "Q5. What are costonm exception in python ? why do we need custom exceptions ?explain with an example ."
   ]
  },
  {
   "cell_type": "markdown",
   "id": "9dd9fcd4-187c-42ba-bcd6-9e375ec78daf",
   "metadata": {},
   "source": [
    "Ans= Custom exceptions in Python are user-defined exception classes that allow you to create and raise exceptions tailored to your specific application or use case. While Python provides a rich set of built-in exceptions, there are situations where you may need to create custom exceptions to handle application-specific errors more effectively."
   ]
  },
  {
   "cell_type": "markdown",
   "id": "9c646cf4-3047-42ae-b503-1e0ad428db04",
   "metadata": {},
   "source": [
    "Here are some reasons why you might need custom exceptions:"
   ]
  },
  {
   "cell_type": "markdown",
   "id": "3d889490-f34c-4fdd-b8f1-549627a87b3e",
   "metadata": {},
   "source": [
    "Clarity and Readability: Custom exceptions can make your code more self-explanatory. When you raise and catch custom exceptions, the error messages and handling logic are more descriptive, which makes it easier to understand what went wrong."
   ]
  },
  {
   "cell_type": "markdown",
   "id": "453ae8e1-e9ff-4de8-9998-e8a74aba47aa",
   "metadata": {},
   "source": [
    "Granularity: Custom exceptions allow you to differentiate between different types of errors within your application. This enables more precise error handling and helps you respond differently to various exceptional conditions."
   ]
  },
  {
   "cell_type": "markdown",
   "id": "8eaf4406-6372-44da-a626-f172758e90de",
   "metadata": {},
   "source": [
    "Abstraction: By creating custom exceptions, you abstract away the underlying implementation details of error handling. This can make your code more maintainable and adaptable to changes in the future."
   ]
  },
  {
   "cell_type": "markdown",
   "id": "29dcd819-0d96-4e0a-a433-95411c9b145c",
   "metadata": {},
   "source": [
    "Here's an example of creating and using a custom exception in Python:"
   ]
  },
  {
   "cell_type": "code",
   "execution_count": 2,
   "id": "7ec7dd8d-9265-4e00-a859-efbf34e526ad",
   "metadata": {},
   "outputs": [
    {
     "name": "stdout",
     "output_type": "stream",
     "text": [
      "Error: Insufficient funds: Balance is 1000, but tried to withdraw 1500\n"
     ]
    }
   ],
   "source": [
    "class InsufficientFundsError(Exception):\n",
    "    def __init__(self, balance, amount):\n",
    "        self.balance = balance\n",
    "        self.amount = amount\n",
    "        super().__init__(f\"Insufficient funds: Balance is {balance}, but tried to withdraw {amount}\")\n",
    "\n",
    "def withdraw(balance, amount):\n",
    "    if amount > balance:\n",
    "        raise InsufficientFundsError(balance, amount)\n",
    "    else:\n",
    "        new_balance = balance - amount\n",
    "        return new_balance\n",
    "\n",
    "try:\n",
    "    account_balance = 1000\n",
    "    withdrawal_amount = 1500\n",
    "    new_balance = withdraw(account_balance, withdrawal_amount)\n",
    "    print(f\"New balance: {new_balance}\")\n",
    "except InsufficientFundsError as e:\n",
    "    print(f\"Error: {e}\")\n"
   ]
  },
  {
   "cell_type": "markdown",
   "id": "f6c80d92-7bee-4ea9-be40-83fd2d00a7ad",
   "metadata": {},
   "source": [
    "In this way, custom exceptions provide clear, specific error messages and allow you to handle exceptional situations in a way that makes sense for your application. They improve the readability and maintainability of your code, making it easier to debug and maintain."
   ]
  },
  {
   "cell_type": "code",
   "execution_count": null,
   "id": "2a499388-4fbf-4cb6-81d5-b45b844457a6",
   "metadata": {},
   "outputs": [],
   "source": []
  },
  {
   "cell_type": "markdown",
   "id": "45692867-e0d2-40cd-9a50-f17cfafa7512",
   "metadata": {},
   "source": [
    "Q6. Create a custon exception class .use this class to handle an exception "
   ]
  },
  {
   "cell_type": "markdown",
   "id": "3497e442-d4b6-4d1a-8833-3a002b6ec918",
   "metadata": {},
   "source": [
    "Ans= we'll create a custom exception called InvalidEmailError and use it to handle cases where an email address is considered invalid based on a specific validation criteria."
   ]
  },
  {
   "cell_type": "code",
   "execution_count": 3,
   "id": "1a77fd9e-ebfb-4115-9bd5-53918b3926e0",
   "metadata": {},
   "outputs": [
    {
     "name": "stdin",
     "output_type": "stream",
     "text": [
      "Enter an email address:  div@gmail.com\n"
     ]
    },
    {
     "name": "stdout",
     "output_type": "stream",
     "text": [
      "Email address div@gmail.com is valid.\n"
     ]
    }
   ],
   "source": [
    "# Custom exception class for invalid email addresses\n",
    "class InvalidEmailError(Exception):\n",
    "    def __init__(self, email):\n",
    "        self.email = email\n",
    "        super().__init__(f\"Invalid email address: {email}\")\n",
    "\n",
    "# Function to validate an email address\n",
    "def validate_email(email):\n",
    "    if \"@\" not in email:\n",
    "        raise InvalidEmailError(email)\n",
    "\n",
    "# Example usage\n",
    "try:\n",
    "    user_email = input(\"Enter an email address: \")\n",
    "    validate_email(user_email)\n",
    "    print(f\"Email address {user_email} is valid.\")\n",
    "except InvalidEmailError as e:\n",
    "    print(f\"Error: {e}\")\n"
   ]
  },
  {
   "cell_type": "markdown",
   "id": "519e427e-c4af-407d-b83b-e753679703c4",
   "metadata": {},
   "source": [
    "In this code:"
   ]
  },
  {
   "cell_type": "markdown",
   "id": "5e1780d3-5c3c-4d06-abee-96784b9dd692",
   "metadata": {},
   "source": [
    "We define a custom exception class called InvalidEmailError, which takes the invalid email address as an argument when raised. The __init__ method customizes the error message."
   ]
  },
  {
   "cell_type": "markdown",
   "id": "d2fa0774-b304-4d47-9a16-4f25ba7a1991",
   "metadata": {},
   "source": [
    "The validate_email function checks if the input email address contains the \"@\" symbol. If not, it raises the InvalidEmailError exception."
   ]
  },
  {
   "cell_type": "markdown",
   "id": "41ecf0a7-64da-4e3b-a76a-0fa2d9bea5f6",
   "metadata": {},
   "source": [
    "In the try block, we prompt the user for an email address and pass it to the validate_email function. If the email is valid, it proceeds to print a success message. If it's invalid, the custom exception is raised."
   ]
  },
  {
   "cell_type": "markdown",
   "id": "9f1a7eca-0238-4779-9576-401822253835",
   "metadata": {},
   "source": [
    "The except block catches the custom exception and prints an error message indicating that the email address is invalid."
   ]
  },
  {
   "cell_type": "code",
   "execution_count": null,
   "id": "3cd99a9e-c8f6-4d85-969d-9813122e69d7",
   "metadata": {},
   "outputs": [],
   "source": []
  }
 ],
 "metadata": {
  "kernelspec": {
   "display_name": "Python 3 (ipykernel)",
   "language": "python",
   "name": "python3"
  },
  "language_info": {
   "codemirror_mode": {
    "name": "ipython",
    "version": 3
   },
   "file_extension": ".py",
   "mimetype": "text/x-python",
   "name": "python",
   "nbconvert_exporter": "python",
   "pygments_lexer": "ipython3",
   "version": "3.10.8"
  }
 },
 "nbformat": 4,
 "nbformat_minor": 5
}
