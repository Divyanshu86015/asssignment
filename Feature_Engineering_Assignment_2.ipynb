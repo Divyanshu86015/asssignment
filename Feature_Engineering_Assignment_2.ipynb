{
  "nbformat": 4,
  "nbformat_minor": 0,
  "metadata": {
    "colab": {
      "provenance": []
    },
    "kernelspec": {
      "name": "python3",
      "display_name": "Python 3"
    },
    "language_info": {
      "name": "python"
    }
  },
  "cells": [
    {
      "cell_type": "markdown",
      "source": [
        "Q1. What is Min-Max scaling, and how is it used in data preprocessing? Provide an example to illustrate its\n",
        "application.\n",
        "\n",
        "Answer: **Min-Max Scaling:**\n",
        "\n",
        "Min-Max scaling is a data normalization technique that transforms features by scaling them to a fixed range, typically between 0 and 1. The scaling is performed using the following formula:\n",
        "\n",
        " **Xscaled = (Xi-Xmin)/(Xmax-Xmin)**\n",
        "\n",
        "Where:\n",
        "\n",
        " Xi- is the original value.\n",
        "\n",
        " Xmin - is the minimum value of the feature in the dataset.\n",
        "\n",
        "Xmax - is the maximum value of the feature in the dataset.\n",
        "\n",
        "Application:\n",
        "\n",
        "Min-Max scaling is particularly useful in:\n",
        "\n",
        "Machine learning algorithms like neural networks, SVMs, or KNN, where differences in feature scales may impact the model's performance.\n",
        "Image processing where pixel values are often scaled to the range [0, 1] for model inputs.\n",
        "\n",
        "Example:\n"
      ],
      "metadata": {
        "id": "HJHuprn57Ipl"
      }
    },
    {
      "cell_type": "code",
      "execution_count": 2,
      "metadata": {
        "colab": {
          "base_uri": "https://localhost:8080/",
          "height": 206
        },
        "id": "LttsOrJP7CS9",
        "outputId": "c8300ec4-d9ab-4a6a-8b32-755a1a3ffd13"
      },
      "outputs": [
        {
          "output_type": "execute_result",
          "data": {
            "text/plain": [
              "   total_bill   tip     sex smoker  day    time  size\n",
              "0       16.99  1.01  Female     No  Sun  Dinner     2\n",
              "1       10.34  1.66    Male     No  Sun  Dinner     3\n",
              "2       21.01  3.50    Male     No  Sun  Dinner     3\n",
              "3       23.68  3.31    Male     No  Sun  Dinner     2\n",
              "4       24.59  3.61  Female     No  Sun  Dinner     4"
            ],
            "text/html": [
              "\n",
              "  <div id=\"df-3efba768-49a2-4a45-8f8e-2182d0e96f56\" class=\"colab-df-container\">\n",
              "    <div>\n",
              "<style scoped>\n",
              "    .dataframe tbody tr th:only-of-type {\n",
              "        vertical-align: middle;\n",
              "    }\n",
              "\n",
              "    .dataframe tbody tr th {\n",
              "        vertical-align: top;\n",
              "    }\n",
              "\n",
              "    .dataframe thead th {\n",
              "        text-align: right;\n",
              "    }\n",
              "</style>\n",
              "<table border=\"1\" class=\"dataframe\">\n",
              "  <thead>\n",
              "    <tr style=\"text-align: right;\">\n",
              "      <th></th>\n",
              "      <th>total_bill</th>\n",
              "      <th>tip</th>\n",
              "      <th>sex</th>\n",
              "      <th>smoker</th>\n",
              "      <th>day</th>\n",
              "      <th>time</th>\n",
              "      <th>size</th>\n",
              "    </tr>\n",
              "  </thead>\n",
              "  <tbody>\n",
              "    <tr>\n",
              "      <th>0</th>\n",
              "      <td>16.99</td>\n",
              "      <td>1.01</td>\n",
              "      <td>Female</td>\n",
              "      <td>No</td>\n",
              "      <td>Sun</td>\n",
              "      <td>Dinner</td>\n",
              "      <td>2</td>\n",
              "    </tr>\n",
              "    <tr>\n",
              "      <th>1</th>\n",
              "      <td>10.34</td>\n",
              "      <td>1.66</td>\n",
              "      <td>Male</td>\n",
              "      <td>No</td>\n",
              "      <td>Sun</td>\n",
              "      <td>Dinner</td>\n",
              "      <td>3</td>\n",
              "    </tr>\n",
              "    <tr>\n",
              "      <th>2</th>\n",
              "      <td>21.01</td>\n",
              "      <td>3.50</td>\n",
              "      <td>Male</td>\n",
              "      <td>No</td>\n",
              "      <td>Sun</td>\n",
              "      <td>Dinner</td>\n",
              "      <td>3</td>\n",
              "    </tr>\n",
              "    <tr>\n",
              "      <th>3</th>\n",
              "      <td>23.68</td>\n",
              "      <td>3.31</td>\n",
              "      <td>Male</td>\n",
              "      <td>No</td>\n",
              "      <td>Sun</td>\n",
              "      <td>Dinner</td>\n",
              "      <td>2</td>\n",
              "    </tr>\n",
              "    <tr>\n",
              "      <th>4</th>\n",
              "      <td>24.59</td>\n",
              "      <td>3.61</td>\n",
              "      <td>Female</td>\n",
              "      <td>No</td>\n",
              "      <td>Sun</td>\n",
              "      <td>Dinner</td>\n",
              "      <td>4</td>\n",
              "    </tr>\n",
              "  </tbody>\n",
              "</table>\n",
              "</div>\n",
              "    <div class=\"colab-df-buttons\">\n",
              "\n",
              "  <div class=\"colab-df-container\">\n",
              "    <button class=\"colab-df-convert\" onclick=\"convertToInteractive('df-3efba768-49a2-4a45-8f8e-2182d0e96f56')\"\n",
              "            title=\"Convert this dataframe to an interactive table.\"\n",
              "            style=\"display:none;\">\n",
              "\n",
              "  <svg xmlns=\"http://www.w3.org/2000/svg\" height=\"24px\" viewBox=\"0 -960 960 960\">\n",
              "    <path d=\"M120-120v-720h720v720H120Zm60-500h600v-160H180v160Zm220 220h160v-160H400v160Zm0 220h160v-160H400v160ZM180-400h160v-160H180v160Zm440 0h160v-160H620v160ZM180-180h160v-160H180v160Zm440 0h160v-160H620v160Z\"/>\n",
              "  </svg>\n",
              "    </button>\n",
              "\n",
              "  <style>\n",
              "    .colab-df-container {\n",
              "      display:flex;\n",
              "      gap: 12px;\n",
              "    }\n",
              "\n",
              "    .colab-df-convert {\n",
              "      background-color: #E8F0FE;\n",
              "      border: none;\n",
              "      border-radius: 50%;\n",
              "      cursor: pointer;\n",
              "      display: none;\n",
              "      fill: #1967D2;\n",
              "      height: 32px;\n",
              "      padding: 0 0 0 0;\n",
              "      width: 32px;\n",
              "    }\n",
              "\n",
              "    .colab-df-convert:hover {\n",
              "      background-color: #E2EBFA;\n",
              "      box-shadow: 0px 1px 2px rgba(60, 64, 67, 0.3), 0px 1px 3px 1px rgba(60, 64, 67, 0.15);\n",
              "      fill: #174EA6;\n",
              "    }\n",
              "\n",
              "    .colab-df-buttons div {\n",
              "      margin-bottom: 4px;\n",
              "    }\n",
              "\n",
              "    [theme=dark] .colab-df-convert {\n",
              "      background-color: #3B4455;\n",
              "      fill: #D2E3FC;\n",
              "    }\n",
              "\n",
              "    [theme=dark] .colab-df-convert:hover {\n",
              "      background-color: #434B5C;\n",
              "      box-shadow: 0px 1px 3px 1px rgba(0, 0, 0, 0.15);\n",
              "      filter: drop-shadow(0px 1px 2px rgba(0, 0, 0, 0.3));\n",
              "      fill: #FFFFFF;\n",
              "    }\n",
              "  </style>\n",
              "\n",
              "    <script>\n",
              "      const buttonEl =\n",
              "        document.querySelector('#df-3efba768-49a2-4a45-8f8e-2182d0e96f56 button.colab-df-convert');\n",
              "      buttonEl.style.display =\n",
              "        google.colab.kernel.accessAllowed ? 'block' : 'none';\n",
              "\n",
              "      async function convertToInteractive(key) {\n",
              "        const element = document.querySelector('#df-3efba768-49a2-4a45-8f8e-2182d0e96f56');\n",
              "        const dataTable =\n",
              "          await google.colab.kernel.invokeFunction('convertToInteractive',\n",
              "                                                    [key], {});\n",
              "        if (!dataTable) return;\n",
              "\n",
              "        const docLinkHtml = 'Like what you see? Visit the ' +\n",
              "          '<a target=\"_blank\" href=https://colab.research.google.com/notebooks/data_table.ipynb>data table notebook</a>'\n",
              "          + ' to learn more about interactive tables.';\n",
              "        element.innerHTML = '';\n",
              "        dataTable['output_type'] = 'display_data';\n",
              "        await google.colab.output.renderOutput(dataTable, element);\n",
              "        const docLink = document.createElement('div');\n",
              "        docLink.innerHTML = docLinkHtml;\n",
              "        element.appendChild(docLink);\n",
              "      }\n",
              "    </script>\n",
              "  </div>\n",
              "\n",
              "\n",
              "<div id=\"df-9d4ebaa3-fdf4-4dda-a642-7f7fd4775825\">\n",
              "  <button class=\"colab-df-quickchart\" onclick=\"quickchart('df-9d4ebaa3-fdf4-4dda-a642-7f7fd4775825')\"\n",
              "            title=\"Suggest charts\"\n",
              "            style=\"display:none;\">\n",
              "\n",
              "<svg xmlns=\"http://www.w3.org/2000/svg\" height=\"24px\"viewBox=\"0 0 24 24\"\n",
              "     width=\"24px\">\n",
              "    <g>\n",
              "        <path d=\"M19 3H5c-1.1 0-2 .9-2 2v14c0 1.1.9 2 2 2h14c1.1 0 2-.9 2-2V5c0-1.1-.9-2-2-2zM9 17H7v-7h2v7zm4 0h-2V7h2v10zm4 0h-2v-4h2v4z\"/>\n",
              "    </g>\n",
              "</svg>\n",
              "  </button>\n",
              "\n",
              "<style>\n",
              "  .colab-df-quickchart {\n",
              "      --bg-color: #E8F0FE;\n",
              "      --fill-color: #1967D2;\n",
              "      --hover-bg-color: #E2EBFA;\n",
              "      --hover-fill-color: #174EA6;\n",
              "      --disabled-fill-color: #AAA;\n",
              "      --disabled-bg-color: #DDD;\n",
              "  }\n",
              "\n",
              "  [theme=dark] .colab-df-quickchart {\n",
              "      --bg-color: #3B4455;\n",
              "      --fill-color: #D2E3FC;\n",
              "      --hover-bg-color: #434B5C;\n",
              "      --hover-fill-color: #FFFFFF;\n",
              "      --disabled-bg-color: #3B4455;\n",
              "      --disabled-fill-color: #666;\n",
              "  }\n",
              "\n",
              "  .colab-df-quickchart {\n",
              "    background-color: var(--bg-color);\n",
              "    border: none;\n",
              "    border-radius: 50%;\n",
              "    cursor: pointer;\n",
              "    display: none;\n",
              "    fill: var(--fill-color);\n",
              "    height: 32px;\n",
              "    padding: 0;\n",
              "    width: 32px;\n",
              "  }\n",
              "\n",
              "  .colab-df-quickchart:hover {\n",
              "    background-color: var(--hover-bg-color);\n",
              "    box-shadow: 0 1px 2px rgba(60, 64, 67, 0.3), 0 1px 3px 1px rgba(60, 64, 67, 0.15);\n",
              "    fill: var(--button-hover-fill-color);\n",
              "  }\n",
              "\n",
              "  .colab-df-quickchart-complete:disabled,\n",
              "  .colab-df-quickchart-complete:disabled:hover {\n",
              "    background-color: var(--disabled-bg-color);\n",
              "    fill: var(--disabled-fill-color);\n",
              "    box-shadow: none;\n",
              "  }\n",
              "\n",
              "  .colab-df-spinner {\n",
              "    border: 2px solid var(--fill-color);\n",
              "    border-color: transparent;\n",
              "    border-bottom-color: var(--fill-color);\n",
              "    animation:\n",
              "      spin 1s steps(1) infinite;\n",
              "  }\n",
              "\n",
              "  @keyframes spin {\n",
              "    0% {\n",
              "      border-color: transparent;\n",
              "      border-bottom-color: var(--fill-color);\n",
              "      border-left-color: var(--fill-color);\n",
              "    }\n",
              "    20% {\n",
              "      border-color: transparent;\n",
              "      border-left-color: var(--fill-color);\n",
              "      border-top-color: var(--fill-color);\n",
              "    }\n",
              "    30% {\n",
              "      border-color: transparent;\n",
              "      border-left-color: var(--fill-color);\n",
              "      border-top-color: var(--fill-color);\n",
              "      border-right-color: var(--fill-color);\n",
              "    }\n",
              "    40% {\n",
              "      border-color: transparent;\n",
              "      border-right-color: var(--fill-color);\n",
              "      border-top-color: var(--fill-color);\n",
              "    }\n",
              "    60% {\n",
              "      border-color: transparent;\n",
              "      border-right-color: var(--fill-color);\n",
              "    }\n",
              "    80% {\n",
              "      border-color: transparent;\n",
              "      border-right-color: var(--fill-color);\n",
              "      border-bottom-color: var(--fill-color);\n",
              "    }\n",
              "    90% {\n",
              "      border-color: transparent;\n",
              "      border-bottom-color: var(--fill-color);\n",
              "    }\n",
              "  }\n",
              "</style>\n",
              "\n",
              "  <script>\n",
              "    async function quickchart(key) {\n",
              "      const quickchartButtonEl =\n",
              "        document.querySelector('#' + key + ' button');\n",
              "      quickchartButtonEl.disabled = true;  // To prevent multiple clicks.\n",
              "      quickchartButtonEl.classList.add('colab-df-spinner');\n",
              "      try {\n",
              "        const charts = await google.colab.kernel.invokeFunction(\n",
              "            'suggestCharts', [key], {});\n",
              "      } catch (error) {\n",
              "        console.error('Error during call to suggestCharts:', error);\n",
              "      }\n",
              "      quickchartButtonEl.classList.remove('colab-df-spinner');\n",
              "      quickchartButtonEl.classList.add('colab-df-quickchart-complete');\n",
              "    }\n",
              "    (() => {\n",
              "      let quickchartButtonEl =\n",
              "        document.querySelector('#df-9d4ebaa3-fdf4-4dda-a642-7f7fd4775825 button');\n",
              "      quickchartButtonEl.style.display =\n",
              "        google.colab.kernel.accessAllowed ? 'block' : 'none';\n",
              "    })();\n",
              "  </script>\n",
              "</div>\n",
              "\n",
              "    </div>\n",
              "  </div>\n"
            ],
            "application/vnd.google.colaboratory.intrinsic+json": {
              "type": "dataframe",
              "variable_name": "df",
              "summary": "{\n  \"name\": \"df\",\n  \"rows\": 244,\n  \"fields\": [\n    {\n      \"column\": \"total_bill\",\n      \"properties\": {\n        \"dtype\": \"number\",\n        \"std\": 8.902411954856856,\n        \"min\": 3.07,\n        \"max\": 50.81,\n        \"num_unique_values\": 229,\n        \"samples\": [\n          22.12,\n          20.23,\n          14.78\n        ],\n        \"semantic_type\": \"\",\n        \"description\": \"\"\n      }\n    },\n    {\n      \"column\": \"tip\",\n      \"properties\": {\n        \"dtype\": \"number\",\n        \"std\": 1.3836381890011822,\n        \"min\": 1.0,\n        \"max\": 10.0,\n        \"num_unique_values\": 123,\n        \"samples\": [\n          3.35,\n          1.5,\n          6.73\n        ],\n        \"semantic_type\": \"\",\n        \"description\": \"\"\n      }\n    },\n    {\n      \"column\": \"sex\",\n      \"properties\": {\n        \"dtype\": \"category\",\n        \"num_unique_values\": 2,\n        \"samples\": [\n          \"Male\",\n          \"Female\"\n        ],\n        \"semantic_type\": \"\",\n        \"description\": \"\"\n      }\n    },\n    {\n      \"column\": \"smoker\",\n      \"properties\": {\n        \"dtype\": \"category\",\n        \"num_unique_values\": 2,\n        \"samples\": [\n          \"Yes\",\n          \"No\"\n        ],\n        \"semantic_type\": \"\",\n        \"description\": \"\"\n      }\n    },\n    {\n      \"column\": \"day\",\n      \"properties\": {\n        \"dtype\": \"category\",\n        \"num_unique_values\": 4,\n        \"samples\": [\n          \"Sat\",\n          \"Fri\"\n        ],\n        \"semantic_type\": \"\",\n        \"description\": \"\"\n      }\n    },\n    {\n      \"column\": \"time\",\n      \"properties\": {\n        \"dtype\": \"category\",\n        \"num_unique_values\": 2,\n        \"samples\": [\n          \"Lunch\",\n          \"Dinner\"\n        ],\n        \"semantic_type\": \"\",\n        \"description\": \"\"\n      }\n    },\n    {\n      \"column\": \"size\",\n      \"properties\": {\n        \"dtype\": \"number\",\n        \"std\": 0,\n        \"min\": 1,\n        \"max\": 6,\n        \"num_unique_values\": 6,\n        \"samples\": [\n          2,\n          3\n        ],\n        \"semantic_type\": \"\",\n        \"description\": \"\"\n      }\n    }\n  ]\n}"
            }
          },
          "metadata": {},
          "execution_count": 2
        }
      ],
      "source": [
        "import seaborn as sns\n",
        "df = sns.load_dataset('tips')\n",
        "df.head()"
      ]
    },
    {
      "cell_type": "code",
      "source": [
        "from sklearn.preprocessing import MinMaxScaler\n",
        "## Create the scaler\n",
        "min_max = MinMaxScaler()\n",
        "## Fit to data, then transform it.\n",
        "df1= min_max.fit_transform(df[['total_bill',\t'tip']])"
      ],
      "metadata": {
        "id": "omNHC8nX_VJB"
      },
      "execution_count": 13,
      "outputs": []
    },
    {
      "cell_type": "code",
      "source": [],
      "metadata": {
        "id": "dyc2AI-qBIed"
      },
      "execution_count": null,
      "outputs": []
    },
    {
      "cell_type": "markdown",
      "source": [
        "Q2. What is the Unit Vector technique in feature scaling, and how does it differ from Min-Max scaling?\n",
        "Provide an example to illustrate its application.\n",
        "\n",
        "Answer: **Unit Vector (Normalization) Technique:**\n",
        "\n",
        "The Unit Vector technique (or Vector Normalization) is a feature scaling method that transforms data into unit vectors by rescaling each feature vector so that its magnitude becomes 1. This method is often used when the direction of the data matters more than its magnitude.\n",
        "\n",
        "The scaling is done using the following formula:\n",
        "\n",
        " Xscaled = X/(||X||)\n",
        "\n",
        " **Key Differences from Min-Max Scaling:**\n",
        "\n",
        "**Range:** In Min-Max scaling, data is scaled to a specified range, typically [0, 1], based on the minimum and maximum values of the feature. In contrast, Unit Vector scaling doesn't transform data to a specific range but ensures that the magnitude of the feature vector is 1.\n",
        "\n",
        "**Focus:** Min-Max scaling emphasizes bringing all feature values within a defined range, which is useful for algorithms sensitive to feature magnitudes. In contrast, Unit Vector scaling focuses on normalizing the entire vector, so the direction (or orientation) of the data remains the same but with unit magnitude.\n",
        "\n",
        "**Application:** Min-Max scaling is often used in algorithms that rely on the absolute value of data (e.g., neural networks, SVMs), while Unit Vector scaling is more useful when comparing the direction of vectors, such as in cosine similarity or clustering.\n",
        "\n",
        "Example: Suppose we have a 2D feature vector:\n",
        "    \n",
        "  x=[3,4]\n",
        "\n",
        "  ||X||=√((3^2)+(4^2))\n",
        "\n",
        "  ||X||=5\n",
        "\n",
        "  ||Xscaled||=√((3/5)+(4/5))\n",
        "\n",
        "  ||Xcaled|| = 1\n",
        "\n"
      ],
      "metadata": {
        "id": "0fjjXZEjBXvi"
      }
    },
    {
      "cell_type": "code",
      "source": [],
      "metadata": {
        "id": "M81SXxt9Flbs"
      },
      "execution_count": 13,
      "outputs": []
    },
    {
      "cell_type": "markdown",
      "source": [
        "Q3. What is PCA (Principle Component Analysis), and how is it used in dimensionality reduction? Provide an\n",
        "example to illustrate its application.\n",
        "\n",
        "\n",
        "Answer: Principal Component Analysis (PCA) is a technique used for dimensionality reduction. It is a statistical method that is used to reduce the number of variables in a dataset while retaining as much information as possible. PCA works by identifying the principal components of the data, which are the directions in which the data varies the most. These principal components are then used to create a new set of variables that are uncorrelated with each other.\n",
        "\n",
        "PCA is used in a variety of applications, such as face recognition, image compression, and data visualization. Here’s an example to illustrate its application: Suppose we have a dataset with three features, x1, x2, and x3. we can apply PCA to reduce the dimensionality of the dataset. First, we calculate the covariance matrix of the dataset. Then, we calculate the eigenvectors and eigenvalues of the covariance matrix. The eigenvectors represent the principal components of the data, and the eigenvalues represent the amount of variance explained by each principal component. we can then select the top k eigenvectors with the highest eigenvalues to create a new set of k variables that are uncorrelated with each other."
      ],
      "metadata": {
        "id": "BAvFe3ZoGdLF"
      }
    },
    {
      "cell_type": "code",
      "source": [],
      "metadata": {
        "id": "A6u33aRIGlyP"
      },
      "execution_count": null,
      "outputs": []
    },
    {
      "cell_type": "markdown",
      "source": [
        "Q4. What is the relationship between PCA and Feature Extraction, and how can PCA be used for Feature\n",
        "Extraction? Provide an example to illustrate this concept.\n",
        "\n",
        "Answer: PCA (Principal Component Analysis) and feature extraction are closely related concepts in data processing. Feature extraction involves transforming the original features of a dataset into a new set of features that better represent the underlying patterns or important information in the data. PCA is one of the most commonly used techniques for feature extraction.\n",
        "\n",
        "In PCA, the original high-dimensional features are transformed into a set of principal components. These principal components are linear combinations of the original features and represent directions of maximum variance in the data. By selecting the top few principal components, you can extract a smaller set of new features that capture the most important variance (or information) from the original dataset.\n",
        "\n",
        "Thus, PCA performs feature extraction by reducing the dimensionality of the data and generating new features (principal components) that are both uncorrelated and represent the key information in the data.\n",
        "\n",
        "**Example:** Suppose we have a dataset with five features, x1, x2, x3, x4, and x5. we can apply PCA to reduce the dimensionality of the dataset. First, we calculate the covariance matrix of the dataset. Then, we calculate the eigenvectors and eigenvalues of the covariance matrix. The eigenvectors represent the principal components of the data, and the eigenvalues represent the amount of variance explained by each principal component. we can then select the top k eigenvectors with the highest eigenvalues to create a new set of k variables that are uncorrelated with each other. These new variables can be used as features in a machine learning model."
      ],
      "metadata": {
        "id": "HQCnre6uHJuE"
      }
    },
    {
      "cell_type": "code",
      "source": [],
      "metadata": {
        "id": "TzxZqcRcKUyB"
      },
      "execution_count": null,
      "outputs": []
    },
    {
      "cell_type": "markdown",
      "source": [
        "Q5. You are working on a project to build a recommendation system for a food delivery service. The dataset\n",
        "contains features such as price, rating, and delivery time. Explain how you would use Min-Max scaling to\n",
        "preprocess the data.\n",
        "\n",
        "Answer: scaled_value = (value - min_value) / (max_value - min_value)"
      ],
      "metadata": {
        "id": "_pgA5w4zKaJl"
      }
    },
    {
      "cell_type": "code",
      "source": [
        "data={'price':[100,200,300,400,500],\n",
        "      'rating':[1,2,3,4,5],\n",
        "      'delivery_time':[10,20,30,40,50]}"
      ],
      "metadata": {
        "id": "DChdmsSgKd9i"
      },
      "execution_count": 18,
      "outputs": []
    },
    {
      "cell_type": "code",
      "source": [
        "import pandas as pd\n",
        "df = pd.DataFrame(data)\n",
        "from sklearn.preprocessing import MinMaxScaler\n",
        "## Create the scaler\n",
        "scaled_value = MinMaxScaler()\n",
        "## Fit to data, then transform it.\n",
        "scaled_value.fit_transform(df)"
      ],
      "metadata": {
        "colab": {
          "base_uri": "https://localhost:8080/"
        },
        "id": "-QhoxeqQMCZW",
        "outputId": "1e3d8a29-5fce-4772-f2b6-574c33e06800"
      },
      "execution_count": 23,
      "outputs": [
        {
          "output_type": "execute_result",
          "data": {
            "text/plain": [
              "array([[0.  , 0.  , 0.  ],\n",
              "       [0.25, 0.25, 0.25],\n",
              "       [0.5 , 0.5 , 0.5 ],\n",
              "       [0.75, 0.75, 0.75],\n",
              "       [1.  , 1.  , 1.  ]])"
            ]
          },
          "metadata": {},
          "execution_count": 23
        }
      ]
    },
    {
      "cell_type": "code",
      "source": [],
      "metadata": {
        "id": "L75nZwOAMeKV"
      },
      "execution_count": null,
      "outputs": []
    },
    {
      "cell_type": "markdown",
      "source": [
        "Q6. You are working on a project to build a model to predict stock prices. The dataset contains many\n",
        "features, such as company financial data and market trends. Explain how you would use PCA to reduce the\n",
        "dimensionality of the dataset.\n",
        "\n",
        "Answer:PCA is a technique used to reduce the dimensionality of a dataset by identifying the principal components of the data. In the case of a stock price prediction model, PCA can be used to reduce the dimensionality of the dataset by identifying the most important features.\n",
        "\n",
        "To use PCA, we first need to standardize the data to ensure that all the features are on the same scale. Once we have standardized the data, we can use PCA to identify the principal components of the data. The principal components are the directions in which the data varies the most. we can then select the top k principal components to create a new set of k variables that are uncorrelated with each other.\n",
        "\n",
        "The number of principal components to select depends on the amount of variance explained by each principal component. we can use the scree plot to determine the number of principal components to select. The scree plot shows the amount of variance explained by each principal component. we can select the top k principal components that explain the most variance.\n",
        "\n",
        "After applying PCA, we will have a new set of variables that are uncorrelated with each other. These new variables can be used as features in a machine learning model to predict stock prices."
      ],
      "metadata": {
        "id": "rnjeSESBNSqR"
      }
    },
    {
      "cell_type": "code",
      "source": [],
      "metadata": {
        "id": "TcyWIlgiNXl-"
      },
      "execution_count": null,
      "outputs": []
    },
    {
      "cell_type": "markdown",
      "source": [
        "Q7. For a dataset containing the following values: [1, 5, 10, 15, 20], perform Min-Max scaling to transform the\n",
        "values to a range of -1 to 1."
      ],
      "metadata": {
        "id": "U1mStgX7N2FE"
      }
    },
    {
      "cell_type": "code",
      "source": [
        "dataset = [1,5,10,15,20]"
      ],
      "metadata": {
        "id": "BNUnGQx7N6r4"
      },
      "execution_count": 24,
      "outputs": []
    },
    {
      "cell_type": "code",
      "source": [
        "scaled_values = []\n",
        "min_value = 1\n",
        "max_value = 20\n",
        "data_range = max_value - min_value\n",
        "\n",
        "for value in dataset:\n",
        "    #scale the values of the dataset to a range of -1 to 1\n",
        "    scaled_values.append(((value - min_value) / data_range) * 2 - 1)\n",
        "print(scaled_values)"
      ],
      "metadata": {
        "colab": {
          "base_uri": "https://localhost:8080/"
        },
        "id": "zvMSlClsOUlN",
        "outputId": "60861c27-c3aa-4f0b-c072-593b5fe91b19"
      },
      "execution_count": 28,
      "outputs": [
        {
          "output_type": "stream",
          "name": "stdout",
          "text": [
            "[-1.0, -0.5789473684210527, -0.052631578947368474, 0.4736842105263157, 1.0]\n"
          ]
        }
      ]
    },
    {
      "cell_type": "code",
      "source": [],
      "metadata": {
        "id": "R2M-CWm6OtD1"
      },
      "execution_count": null,
      "outputs": []
    },
    {
      "cell_type": "markdown",
      "source": [
        "Q8. For a dataset containing the following features: [height, weight, age, gender, blood pressure], perform\n",
        "Feature Extraction using PCA. How many principal components would you choose to retain, and why?\n",
        "\n",
        "Answer:To perform feature extraction using PCA on a dataset containing the features [height, weight, age, gender, blood pressure], we would first need to standardize the data to ensure that all the features are on the same scale. Once we have standardized the data, we can use PCA to identify the principal components of the data.\n",
        "\n",
        "The number of principal components to retain depends on the amount of variance explained by each principal component. we can use the scree plot to determine the number of principal components to retain. The scree plot shows the amount of variance explained by each principal component. we can select the top k principal components that explain the most variance.\n",
        "\n",
        "Without knowing the specifics of the dataset, it is difficult to say how many principal components to retain. However, as a general rule of thumb, we should retain enough principal components to explain at least 80% of the variance in the data.\n",
        "\n",
        "In the case of a dataset containing the features [height, weight, age, gender, blood pressure], we might expect that height, weight, and blood pressure are the most important features. However, without knowing the specifics of the dataset, it is difficult to say for sure."
      ],
      "metadata": {
        "id": "2UYwUV0vPaMD"
      }
    },
    {
      "cell_type": "code",
      "source": [],
      "metadata": {
        "id": "A_q89tGPQC_y"
      },
      "execution_count": null,
      "outputs": []
    }
  ]
}