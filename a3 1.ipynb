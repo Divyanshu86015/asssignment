{
 "cells": [
  {
   "cell_type": "markdown",
   "id": "f578f550-7e2f-4321-a164-9fe94c6c749a",
   "metadata": {},
   "source": [
    "Q1. Which keyword is used to create a function? Create a function to return a list of odd numbers in the\n",
    "range of 1 to 25."
   ]
  },
  {
   "cell_type": "markdown",
   "id": "102be794-159b-4a62-b617-37e4ff256072",
   "metadata": {},
   "source": [
    " Ans = The keyword used to create a function is def. "
   ]
  },
  {
   "cell_type": "code",
   "execution_count": 4,
   "id": "35051677-2a1e-402b-96e3-3e643c3052a2",
   "metadata": {},
   "outputs": [],
   "source": [
    "def odd_numbers():\n",
    "    odd_list = []\n",
    "    for number in range(1, 26):\n",
    "        if number % 2 != 0:\n",
    "            odd_list.append(number)\n",
    "    return odd_list\n"
   ]
  },
  {
   "cell_type": "code",
   "execution_count": 6,
   "id": "128582f5-aa76-4e9a-8c27-342e4df0f9a1",
   "metadata": {},
   "outputs": [],
   "source": [
    "result =odd_numbers()"
   ]
  },
  {
   "cell_type": "code",
   "execution_count": 7,
   "id": "3863226d-41e6-4d4e-8299-6352c8eb57f2",
   "metadata": {},
   "outputs": [
    {
     "name": "stdout",
     "output_type": "stream",
     "text": [
      "[1, 3, 5, 7, 9, 11, 13, 15, 17, 19, 21, 23, 25]\n"
     ]
    }
   ],
   "source": [
    "print(result)"
   ]
  },
  {
   "cell_type": "code",
   "execution_count": null,
   "id": "0bfcfe1c-5f90-4edc-84cf-3628b1ef4525",
   "metadata": {},
   "outputs": [],
   "source": []
  },
  {
   "cell_type": "markdown",
   "id": "271e8bd7-0da1-42f4-ae58-aeff3f6f604a",
   "metadata": {},
   "source": [
    "Q2. Why *args and **kwargs is used in some functions? Create a function each for *args and **kwargs\n",
    "to demonstrate their use."
   ]
  },
  {
   "cell_type": "raw",
   "id": "e4965a12-1d7a-4987-a79a-788026c8b935",
   "metadata": {},
   "source": [
    "Ans = '*args and **kwargs are special syntax in Python used in function definitions to allow a variable number of arguments to be passed to a function. They are often used when we're not sure in advance how many arguments will be passed to the function or when we want to make our function more flexible.\n",
    "\n",
    "Here's an explanation of each:\n",
    "\n",
    "*args (Arbitrary Arguments):\n",
    "*args is used to pass a variable number of non-keyword arguments to a function.\n",
    "It allows you to pass any number of positional arguments, and they will be collected into a tuple within the function.\n",
    "we can access the arguments in the function by iterating through the tuple or accessing specific elements by index."
   ]
  },
  {
   "cell_type": "code",
   "execution_count": 8,
   "id": "25ba22eb-274d-4862-bed6-ce2ed5927399",
   "metadata": {},
   "outputs": [],
   "source": [
    "def sum_numbers(*args):\n",
    "    result = 0\n",
    "    for num in args:\n",
    "        result += num\n",
    "    return result"
   ]
  },
  {
   "cell_type": "code",
   "execution_count": 9,
   "id": "a4f452a9-1dd7-45ae-a2c2-42ede32adec3",
   "metadata": {},
   "outputs": [
    {
     "name": "stdout",
     "output_type": "stream",
     "text": [
      "15\n"
     ]
    }
   ],
   "source": [
    "num =sum_numbers(1,2,3,4,5)\n",
    "print(num)"
   ]
  },
  {
   "cell_type": "markdown",
   "id": "30407f48-961a-4c05-ac67-b68e6ad3db29",
   "metadata": {},
   "source": [
    "**kwargs (Arbitrary Keyword Arguments):\n",
    "**kwargs is used to pass a variable number of keyword arguments to a function.\n",
    "It allows us to pass any number of keyword arguments (i.e., arguments with names), and they will be collected into a dictionary within the function.\n",
    "we can access the arguments in the function by using their keys as dictionary keys."
   ]
  },
  {
   "cell_type": "code",
   "execution_count": 10,
   "id": "4ad929d9-fedc-40b7-94db-365305ad3139",
   "metadata": {},
   "outputs": [],
   "source": [
    "def person_info(**kwargs):\n",
    "    for key, value in kwargs.items():\n",
    "        print(f\"{key}: {value}\")"
   ]
  },
  {
   "cell_type": "code",
   "execution_count": 13,
   "id": "3f6cdcf1-36e5-459b-8c85-15c095fbc8cb",
   "metadata": {},
   "outputs": [
    {
     "name": "stdout",
     "output_type": "stream",
     "text": [
      "name: divyanshu\n",
      "age: 21\n",
      "city: sultanpur\n"
     ]
    }
   ],
   "source": [
    "person_info(name=\"divyanshu\",age=21,city=\"sultanpur\")"
   ]
  },
  {
   "cell_type": "code",
   "execution_count": null,
   "id": "875713a4-6e3e-487c-b6d8-daa6afd43bc5",
   "metadata": {},
   "outputs": [],
   "source": []
  },
  {
   "cell_type": "markdown",
   "id": "28705007-424e-4802-b358-aa0a14e062f7",
   "metadata": {},
   "source": [
    "Q3. What is an iterator in python? Name the method used to initialise the iterator object and the method\n",
    "used for iteration. Use these methods to print the first five elements of the given list [2, 4, 6, 8, 10, 12, 14,\n",
    "16, 18, 20]."
   ]
  },
  {
   "cell_type": "markdown",
   "id": "b7e7c888-6769-4a6f-b6eb-28c470c1f176",
   "metadata": {},
   "source": [
    "Ans = An iterator is an object that represents a stream of data and can be iterated (looped) over. It implements two methods, __iter__() and __next__(), which allow us to traverse through the elements of a collection or a sequence one at a time."
   ]
  },
  {
   "cell_type": "markdown",
   "id": "c6df0e3a-4e94-45e2-8619-f623399489f1",
   "metadata": {},
   "source": [
    "given list [2, 4, 6, 8, 10, 12, 14, 16, 18, 20]"
   ]
  },
  {
   "cell_type": "code",
   "execution_count": 14,
   "id": "0611c1d6-0528-4e7d-8194-3479c2cdf6a9",
   "metadata": {},
   "outputs": [
    {
     "name": "stdout",
     "output_type": "stream",
     "text": [
      "2\n",
      "4\n",
      "6\n",
      "8\n",
      "10\n"
     ]
    }
   ],
   "source": [
    "given_list = [2, 4, 6, 8, 10, 12, 14, 16, 18, 20]\n",
    "\n",
    "my_iterator = iter(given_list)\n",
    "for _ in range(5): \n",
    "    \n",
    "    element = next(my_iterator) \n",
    "    print(element)"
   ]
  },
  {
   "cell_type": "code",
   "execution_count": null,
   "id": "16133f4b-6f05-41f3-b903-d9d9a2baf240",
   "metadata": {},
   "outputs": [],
   "source": []
  },
  {
   "cell_type": "markdown",
   "id": "4540f010-0c37-48b5-a974-4c9d0b08badc",
   "metadata": {},
   "source": [
    "Q4. What is a generator function in python? Why yield keyword is used? Give an example of a generator\n",
    "function."
   ]
  },
  {
   "cell_type": "raw",
   "id": "d66ef36f-9743-4114-92bd-2926b32616b7",
   "metadata": {},
   "source": [
    " Ans = A generator function in Python is a special type of function that allows us to generate a sequence of values lazily, on-the-fly, one at a time, without creating a full list or sequence in memory. This can be very memory-efficient, especially when dealing with large datasets, as it generates values only when needed.\n",
    "\n",
    "The key feature that distinguishes a generator function from a regular function is the use of the yield keyword. When we use yield inside a function, it turns that function into a generator. When the function is called, it doesn't execute the code immediately but returns a generator object. When iterate over this generator object, the function's execution is paused at the yield statement, and the value specified with yield is returned to the caller. "
   ]
  },
  {
   "cell_type": "code",
   "execution_count": 1,
   "id": "73148078-0789-4bc8-b52c-0b659b8ae4ef",
   "metadata": {},
   "outputs": [
    {
     "name": "stdout",
     "output_type": "stream",
     "text": [
      "0\n",
      "1\n",
      "2\n",
      "3\n",
      "4\n"
     ]
    }
   ],
   "source": [
    "def number_generator(n):\n",
    "    i = 0\n",
    "    while i < n:\n",
    "        yield i\n",
    "        i += 1\n",
    "\n",
    "# Using the generator function\n",
    "gen = number_generator(5)\n",
    "for num in gen:\n",
    "    print(num)\n"
   ]
  },
  {
   "cell_type": "code",
   "execution_count": null,
   "id": "924135e5-0650-4602-aa7e-38056af43351",
   "metadata": {},
   "outputs": [],
   "source": []
  },
  {
   "cell_type": "markdown",
   "id": "658f694a-6a99-4fca-ba09-29d74ec79f93",
   "metadata": {},
   "source": [
    "Q5. Create a generator function for prime numbers less than 1000. Use the next() method to print the\n",
    "first 20 prime numbers."
   ]
  },
  {
   "cell_type": "code",
   "execution_count": 2,
   "id": "0d6cfe81-c9fa-42cd-bfee-542a3ea78036",
   "metadata": {},
   "outputs": [
    {
     "name": "stdout",
     "output_type": "stream",
     "text": [
      "2\n",
      "3\n",
      "5\n",
      "7\n",
      "11\n",
      "13\n",
      "17\n",
      "19\n",
      "23\n",
      "29\n",
      "31\n",
      "37\n",
      "41\n",
      "43\n",
      "47\n",
      "53\n",
      "59\n",
      "61\n",
      "67\n",
      "71\n"
     ]
    }
   ],
   "source": [
    "def is_prime(num):\n",
    "    if num <= 1:\n",
    "        return False\n",
    "    if num == 2:\n",
    "        return True\n",
    "    if num % 2 == 0:\n",
    "        return False\n",
    "    for i in range(3, int(num**0.5) + 1, 2):\n",
    "        if num % i == 0:\n",
    "            return False\n",
    "    return True\n",
    "\n",
    "def prime_generator():\n",
    "    num = 2\n",
    "    count = 0\n",
    "    while count < 20:  # Generate the first 20 prime numbers\n",
    "        if is_prime(num):\n",
    "            yield num\n",
    "            count += 1\n",
    "        num += 1\n",
    "\n",
    "# Create a generator object\n",
    "prime_gen = prime_generator()\n",
    "\n",
    "# Print the first 20 prime numbers using next()\n",
    "for _ in range(20):\n",
    "    print(next(prime_gen))\n"
   ]
  },
  {
   "cell_type": "code",
   "execution_count": null,
   "id": "5002841f-facf-4318-b31e-9226b5109721",
   "metadata": {},
   "outputs": [],
   "source": []
  },
  {
   "cell_type": "markdown",
   "id": "414cd659-86a7-4ed1-8511-aa79a5164589",
   "metadata": {},
   "source": [
    "Q6. Write a python program to print the first 10 Fibonacci numbers using a while loop."
   ]
  },
  {
   "cell_type": "markdown",
   "id": "3b418fa0-3310-4925-bc25-adfcdd14be5c",
   "metadata": {},
   "source": [
    "Ans = The Fibonacci sequence starts with 0 and 1, and each subsequent number is the sum of the two preceding ones. "
   ]
  },
  {
   "cell_type": "code",
   "execution_count": 3,
   "id": "1b37df17-0430-4d20-ba57-4f823fe3bc92",
   "metadata": {},
   "outputs": [
    {
     "name": "stdout",
     "output_type": "stream",
     "text": [
      "0\n",
      "1\n",
      "1\n",
      "2\n",
      "3\n",
      "5\n",
      "8\n",
      "13\n",
      "21\n",
      "34\n"
     ]
    }
   ],
   "source": [
    "fibonacci_numbers = [0, 1]\n",
    "\n",
    "while len(fibonacci_numbers) < 10:\n",
    "    # Calculate the next Fibonacci number by adding the last two\n",
    "    next_fibonacci = fibonacci_numbers[-1] + fibonacci_numbers[-2]\n",
    "    # Append it to the list\n",
    "    fibonacci_numbers.append(next_fibonacci)\n",
    "for num in fibonacci_numbers:\n",
    "    print(num)\n"
   ]
  },
  {
   "cell_type": "code",
   "execution_count": null,
   "id": "03cc576c-4a9d-4608-86ff-5c60cf964fd3",
   "metadata": {},
   "outputs": [],
   "source": []
  },
  {
   "cell_type": "markdown",
   "id": "f1047e29-6e51-4968-996e-2b093cc5cf5d",
   "metadata": {},
   "source": [
    "Q7. Write a List Comprehension to iterate through the given string: ‘pwskills’.\n",
    "Expected output: ['p', 'w', 's', 'k', 'i', 'l', 'l', 's']"
   ]
  },
  {
   "cell_type": "code",
   "execution_count": 4,
   "id": "b4f0d7b4-acb3-4711-a0bc-7b907f06c44f",
   "metadata": {},
   "outputs": [
    {
     "name": "stdout",
     "output_type": "stream",
     "text": [
      "['p', 'w', 's', 'k', 'i', 'l', 'l', 's']\n"
     ]
    }
   ],
   "source": [
    "input_string = 'pwskills'\n",
    "\n",
    "output_list = [char for char in input_string]\n",
    "\n",
    "print(output_list)\n"
   ]
  },
  {
   "cell_type": "code",
   "execution_count": null,
   "id": "a40df857-6f58-4a0a-b9be-098f79e41cc6",
   "metadata": {},
   "outputs": [],
   "source": []
  },
  {
   "cell_type": "markdown",
   "id": "13a604ef-f37e-4840-b01d-275bde85723f",
   "metadata": {},
   "source": [
    "Q8. Write a python program to check whether a given number is Palindrome or not using a while loop."
   ]
  },
  {
   "cell_type": "code",
   "execution_count": null,
   "id": "bd13a4ec-a710-4542-8515-1eefb3ba9b75",
   "metadata": {},
   "outputs": [],
   "source": [
    "def is_palindrome(number):\n",
    "    original_number = number  \n",
    "    reverse = 0  \n",
    "    \n",
    "    while number > 0:\n",
    "        digit = number % 10  \n",
    "        reverse = reverse * 10 + digit \n",
    "        number = number // 10  \n",
    "        \n",
    "    # Compare the original number with its reverse\n",
    "    if original_number == reverse:\n",
    "        return True\n",
    "    else:\n",
    "        return False\n",
    "\n",
    "num = int(input(\"Enter a number: \"))\n",
    "if is_palindrome(num):\n",
    "    print(f\"{num} is a palindrome.\")\n",
    "else:\n",
    "    print(f\"{num} is not a palindrome.\")\n"
   ]
  },
  {
   "cell_type": "code",
   "execution_count": null,
   "id": "5d4e015a-61e0-4b4d-9c56-21e9300ebce2",
   "metadata": {},
   "outputs": [],
   "source": []
  },
  {
   "cell_type": "markdown",
   "id": "ade7c576-0b37-4808-9414-00ff96bc6261",
   "metadata": {},
   "source": [
    "Q9. Write a code to print odd numbers from 1 to 100 using list comprehension."
   ]
  },
  {
   "cell_type": "code",
   "execution_count": 1,
   "id": "800984aa-80ce-4cfe-b361-dac6d3727ba9",
   "metadata": {},
   "outputs": [
    {
     "name": "stdout",
     "output_type": "stream",
     "text": [
      "[1, 3, 5, 7, 9, 11, 13, 15, 17, 19, 21, 23, 25, 27, 29, 31, 33, 35, 37, 39, 41, 43, 45, 47, 49, 51, 53, 55, 57, 59, 61, 63, 65, 67, 69, 71, 73, 75, 77, 79, 81, 83, 85, 87, 89, 91, 93, 95, 97, 99]\n"
     ]
    }
   ],
   "source": [
    "odd_numbers = [num for num in range(1, 101) if num % 2 != 0]\n",
    "\n",
    "print(odd_numbers)\n"
   ]
  },
  {
   "cell_type": "code",
   "execution_count": null,
   "id": "7bd67c6a-67f0-492b-b583-31dac77a8cc5",
   "metadata": {},
   "outputs": [],
   "source": []
  }
 ],
 "metadata": {
  "kernelspec": {
   "display_name": "Python 3 (ipykernel)",
   "language": "python",
   "name": "python3"
  },
  "language_info": {
   "codemirror_mode": {
    "name": "ipython",
    "version": 3
   },
   "file_extension": ".py",
   "mimetype": "text/x-python",
   "name": "python",
   "nbconvert_exporter": "python",
   "pygments_lexer": "ipython3",
   "version": "3.10.8"
  }
 },
 "nbformat": 4,
 "nbformat_minor": 5
}
