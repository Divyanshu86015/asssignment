{
 "cells": [
  {
   "cell_type": "markdown",
   "id": "c6ba9c5e-d987-40f7-aa50-e25e80f6d586",
   "metadata": {},
   "source": [
    "Q1. What is Abstraction in OOps? Explain with an example."
   ]
  },
  {
   "cell_type": "markdown",
   "id": "f3cb56c6-c395-4488-84ed-dbff64987276",
   "metadata": {},
   "source": [
    "Ans = Abstraction in object-oriented programming (OOP) is a fundamental concept that involves simplifying complex systems by breaking them down into their essential characteristics or behaviors, while hiding unnecessary details. It is one of the four main principles of OOP, the others being encapsulation, inheritance, and polymorphism. Abstraction allows you to create models of real-world objects and processes in a more manageable and understandable way."
   ]
  },
  {
   "cell_type": "code",
   "execution_count": 8,
   "id": "00ca6d02-6bea-4ca1-a500-4dd67f4df848",
   "metadata": {},
   "outputs": [],
   "source": [
    "import abc\n",
    "class collage:\n",
    "    \n",
    "    @abc.abstractmethod\n",
    "    def students_detials(self):\n",
    "        pass\n",
    "    \n",
    "    @abc.abstractmethod\n",
    "    def student_assignment(self):\n",
    "        pass\n",
    "    \n",
    "    @abc.abstractclassmethod\n",
    "    def student_marks(self):\n",
    "        pass"
   ]
  },
  {
   "cell_type": "code",
   "execution_count": 9,
   "id": "85ead369-605d-4d14-a6ca-f1138d57e346",
   "metadata": {},
   "outputs": [],
   "source": [
    "class students_detials(collage):\n",
    "    \n",
    "    def student_details(self):\n",
    "        return \"this is a meth for taking student details\"\n",
    "    \n",
    "    def studnt_assignment(self):\n",
    "        return \"this is a method for a student\"\n",
    "    "
   ]
  },
  {
   "cell_type": "code",
   "execution_count": 10,
   "id": "f5e63959-c757-453e-8fa6-8182cdfb4cdd",
   "metadata": {},
   "outputs": [],
   "source": [
    "class data_science_masters(collage):\n",
    "    \n",
    "    def student_details(self):\n",
    "        return \"this eill return a student details foa data science masters\"\n",
    "    \n",
    "    def student_assignment(self):\n",
    "        return \"this eill give you a student assin=gnment details for data science masters\"\n",
    " "
   ]
  },
  {
   "cell_type": "code",
   "execution_count": 11,
   "id": "4b4e00bc-01d5-4a41-8f13-eb14183fc512",
   "metadata": {},
   "outputs": [],
   "source": [
    "dsm = data_science_masters()"
   ]
  },
  {
   "cell_type": "code",
   "execution_count": 12,
   "id": "7e3bc03f-d873-48d9-8fa1-6b5e93c3fada",
   "metadata": {},
   "outputs": [
    {
     "data": {
      "text/plain": [
       "'this eill return a student details foa data science masters'"
      ]
     },
     "execution_count": 12,
     "metadata": {},
     "output_type": "execute_result"
    }
   ],
   "source": [
    "dsm.student_details()"
   ]
  },
  {
   "cell_type": "code",
   "execution_count": 13,
   "id": "fa8a29a2-bf4a-4ddd-af25-087649024b80",
   "metadata": {},
   "outputs": [],
   "source": [
    "div = students_detials()"
   ]
  },
  {
   "cell_type": "code",
   "execution_count": 14,
   "id": "74bfea7b-5f80-4598-84cc-84bd1e9bf95e",
   "metadata": {},
   "outputs": [
    {
     "data": {
      "text/plain": [
       "'this is a meth for taking student details'"
      ]
     },
     "execution_count": 14,
     "metadata": {},
     "output_type": "execute_result"
    }
   ],
   "source": [
    "div.student_details()"
   ]
  },
  {
   "cell_type": "code",
   "execution_count": null,
   "id": "188038eb-cb01-42f9-bf08-3095a0369596",
   "metadata": {},
   "outputs": [],
   "source": []
  },
  {
   "cell_type": "markdown",
   "id": "4ddbb6eb-a40c-4396-83d8-7f5e4af88788",
   "metadata": {},
   "source": [
    "Q2. Differentiate between Abstraction and Encapsulation. Explain with an example."
   ]
  },
  {
   "cell_type": "markdown",
   "id": "0f97ae1f-e2d6-46ec-8d0d-9576a37222a3",
   "metadata": {},
   "source": [
    "Ans =\n",
    "Abstraction and encapsulation are two fundamental concepts in object-oriented programming (OOP), but they serve slightly different purposes and have distinct characteristics."
   ]
  },
  {
   "cell_type": "markdown",
   "id": "28baffc4-cc7e-4910-bdcf-61ff5d9ef8be",
   "metadata": {},
   "source": [
    "Abstraction:\n",
    "\n",
    "Purpose: Abstraction is the process of simplifying complex systems by defining a clear and abstract interface that hides the unnecessary implementation details. It focuses on what an object does and represents, rather than how it does it."
   ]
  },
  {
   "cell_type": "markdown",
   "id": "060b90a7-5762-4358-baf4-cec339ab7df0",
   "metadata": {},
   "source": [
    "ENCAPSULATION:\n",
    "Encapsulation is the concept of bundling data (attributes or properties) and the methods (functions) that operate on that data into a single unit called a class. It restricts direct access to an object's internal state and enforces access through well-defined interfaces (getter and setter methods)."
   ]
  },
  {
   "cell_type": "code",
   "execution_count": null,
   "id": "623815b1-50f8-4781-9cd9-505c4740f3cc",
   "metadata": {},
   "outputs": [],
   "source": [
    "class Shape:\n",
    "    def __init__(self, color):\n",
    "        self._color = color\n",
    "\n",
    "    def get_color(self):\n",
    "        return self._color\n",
    "\n",
    "    def set_color(self, color):\n",
    "        self._color = color\n"
   ]
  },
  {
   "cell_type": "markdown",
   "id": "1dd901ba-bf66-4fd5-9d06-9bcd6d1f1c97",
   "metadata": {},
   "source": [
    "In this case, color is encapsulated within the Shape class. Access to it is controlled through the get_color() and set_color() methods."
   ]
  },
  {
   "cell_type": "code",
   "execution_count": null,
   "id": "7137580c-2bff-4912-9016-a41bbf858369",
   "metadata": {},
   "outputs": [],
   "source": []
  },
  {
   "cell_type": "markdown",
   "id": "9c75a704-9cd2-4801-8128-2bd8b342362c",
   "metadata": {},
   "source": [
    "Q3. What is abc module in python? Why is it used?"
   ]
  },
  {
   "cell_type": "markdown",
   "id": "bdc303e6-e6ac-4597-8214-a79cc8b1dc90",
   "metadata": {},
   "source": [
    "Ans= The abc module in Python stands for \"Abstract Base Classes.\" It is a module in the Python Standard Library that provides a mechanism for defining abstract base classes and enforcing the implementation of specific methods in subclasses. Abstract base classes help promote code reliability and maintainability by ensuring that subclasses adhere to a certain interface or behavior"
   ]
  },
  {
   "cell_type": "markdown",
   "id": "12e19c83-a048-4d80-90fd-ca51bdb3bb34",
   "metadata": {},
   "source": [
    "abc module is used and its main features:"
   ]
  },
  {
   "cell_type": "markdown",
   "id": "88b4cdc2-4064-409f-99aa-1dd286dbc753",
   "metadata": {},
   "source": [
    "Defining Abstract Base Classes: The abc module allows you to define abstract base classes using the ABC metaclass and the @abstractmethod decorator. Abstract base classes are classes that are meant to be subclassed, and they often declare abstract methods that must be implemented by concrete subclasses.\n",
    "\n",
    "Enforcing Method Implementation: When you use the @abstractmethod decorator to define methods in an abstract base class, you are essentially declaring that these methods must be implemented in any concrete subclass. If a subclass fails to implement one or more of these abstract methods, a TypeError is raised at runtime, indicating that the subclass is not fully compliant with the abstract base class."
   ]
  },
  {
   "cell_type": "markdown",
   "id": "2c5286be-9653-4909-bcd9-357f1153bbff",
   "metadata": {},
   "source": [
    "Documentation and Design Clarity: Abstract base classes serve as a form of documentation, making it clear to other developers which methods should be implemented in subclasses. They also help enforce design patterns and ensure that the expected behaviors are consistently implemented throughout a codebase.\n",
    "\n",
    "Runtime Type Checking: While Python is dynamically typed and does not perform strict type checking at compile time, abstract base classes provide a form of runtime type checking. You can use isinstance() and issubclass() functions to check if an object or class conforms to a specific abstract base class, which can be useful for ensuring that objects have certain expected behaviors.\n",
    "\n",
    "In summary, the abc module in Python is used to define and enforce abstract base classes, ensuring that subclasses adhere to a specified interface by requiring the implementation of certain methods. This promotes code clarity, reliability, and maintainability by providing a structured way to define expected behaviors for classes and their subclasses.\n",
    "\n",
    "\n",
    "\n",
    "\n",
    "\n"
   ]
  },
  {
   "cell_type": "code",
   "execution_count": 17,
   "id": "cd6d0c0e-af7c-4b41-b158-56303a4602bd",
   "metadata": {},
   "outputs": [],
   "source": [
    "from abc import ABC, abstractmethod\n",
    "\n",
    "class Shape(ABC):\n",
    "    @abstractmethod\n",
    "    def area(self):\n",
    "        pass\n",
    "\n",
    "    @abstractmethod\n",
    "    def perimeter(self):\n",
    "        pass\n",
    "\n",
    "class Circle(Shape):\n",
    "    def __init__(self, radius):\n",
    "        self.radius = radius\n",
    "\n",
    "    def area(self):\n",
    "        return 3.14159265359 * self.radius * self.radius\n",
    "\n",
    "    def perimeter(self):\n",
    "        return 2 * 3.14159265359 * self.radius\n"
   ]
  },
  {
   "cell_type": "code",
   "execution_count": null,
   "id": "a5c437fd-5a78-4806-bf1a-f989413c3ed5",
   "metadata": {},
   "outputs": [],
   "source": []
  },
  {
   "cell_type": "markdown",
   "id": "6dad0253-1420-4a01-935a-8cc0320af9c4",
   "metadata": {},
   "source": [
    "Q4. How can we achieve data abstraction?"
   ]
  },
  {
   "cell_type": "markdown",
   "id": "8f9aa1fd-0354-496d-85d9-82e4796f5348",
   "metadata": {},
   "source": [
    "Ans = Data abstraction in programming is the process of simplifying complex data by hiding unnecessary details and exposing only the essential features or attributes. It allows you to work with data at a higher level of abstraction, focusing on what data represents rather than how it is stored or processed. "
   ]
  },
  {
   "cell_type": "markdown",
   "id": "9a7e436c-58dc-4275-8bf0-96e4f2af4256",
   "metadata": {},
   "source": [
    "Use Classes and Objects:\n",
    "\n",
    "Encapsulate data within classes and provide methods to interact with the data.\n",
    "Use access control mechanisms (e.g., private and protected variables) to restrict direct access to the data.\n",
    "Provide public methods (getters and setters) to access and modify the data."
   ]
  },
  {
   "cell_type": "code",
   "execution_count": null,
   "id": "6c5a1fe1-ced9-40d2-80a1-330a3b50ec7c",
   "metadata": {},
   "outputs": [],
   "source": [
    "class Person:\n",
    "    def __init__(self, name, age):\n",
    "        self._name = name\n",
    "        self._age = age\n",
    "\n",
    "    def get_name(self):\n",
    "        return self._name\n",
    "\n",
    "    def set_name(self, name):\n",
    "        self._name = name\n",
    "\n",
    "    def get_age(self):\n",
    "        return self._age\n",
    "\n",
    "    def set_age(self, age):\n",
    "        self._age = age\n"
   ]
  },
  {
   "cell_type": "markdown",
   "id": "5c122c6c-e032-4d2a-a20e-62b7ecfdff07",
   "metadata": {},
   "source": [
    "Use Data Structures:\n",
    "\n",
    "Utilize abstract data types (ADTs) like lists, sets, and dictionaries to work with data structures at a higher level.\n",
    "Leverage built-in data structures or create custom data structures tailored to your specific needs."
   ]
  },
  {
   "cell_type": "code",
   "execution_count": 2,
   "id": "e8d04118-2d44-4099-afca-8881da9ed5ad",
   "metadata": {},
   "outputs": [],
   "source": [
    "my_list = [1, 2, 3, 4, 5]  \n"
   ]
  },
  {
   "cell_type": "code",
   "execution_count": null,
   "id": "5f12b3e0-58cf-46d6-bad9-b7f918d0f371",
   "metadata": {},
   "outputs": [],
   "source": []
  },
  {
   "cell_type": "markdown",
   "id": "54249158-c84c-4c79-b192-5ee18fbba99a",
   "metadata": {},
   "source": [
    "Q5. Can we create an instance of an abstract class? Explain your answer."
   ]
  },
  {
   "cell_type": "markdown",
   "id": "b6e4cef0-8460-4316-9b1e-c529e9e24a10",
   "metadata": {},
   "source": [
    "Ans = No, we cannot create an instance of an abstract class in Python. Abstract classes are meant to serve as blueprints for other classes (known as concrete subclasses) and are designed to be incomplete by having one or more abstract methods, which do not provide implementations in the abstract class itself.\n"
   ]
  },
  {
   "cell_type": "markdown",
   "id": "cb4164e4-989d-4387-ab15-3ef0ba2a2318",
   "metadata": {},
   "source": [
    "Incomplete Implementation: Abstract classes contain one or more abstract methods that lack implementations. These methods are meant to be overridden and implemented in concrete subclasses.\n",
    "\n",
    "Enforcement of Subclassing: The primary purpose of an abstract class is to enforce that any concrete subclass must provide concrete implementations for all the abstract methods declared in the abstract class. This ensures that the expected behavior is defined in the subclasses.\n",
    "\n",
    "No Clear Object Identity: Abstract classes don't have a well-defined object identity of their own. They are designed to serve as templates for objects of their subclasses. Therefore, it doesn't make sense to create instances of abstract classes."
   ]
  },
  {
   "cell_type": "code",
   "execution_count": null,
   "id": "d4e99313-6548-4305-99db-1bd319424222",
   "metadata": {},
   "outputs": [],
   "source": []
  }
 ],
 "metadata": {
  "kernelspec": {
   "display_name": "Python 3 (ipykernel)",
   "language": "python",
   "name": "python3"
  },
  "language_info": {
   "codemirror_mode": {
    "name": "ipython",
    "version": 3
   },
   "file_extension": ".py",
   "mimetype": "text/x-python",
   "name": "python",
   "nbconvert_exporter": "python",
   "pygments_lexer": "ipython3",
   "version": "3.10.8"
  }
 },
 "nbformat": 4,
 "nbformat_minor": 5
}
