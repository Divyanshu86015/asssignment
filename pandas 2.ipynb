{
 "cells": [
  {
   "cell_type": "markdown",
   "id": "d8e0310d-a296-4943-8257-3a28c92b7448",
   "metadata": {},
   "source": [
    "Q1. List any five functions of the pandas library with execution."
   ]
  },
  {
   "cell_type": "markdown",
   "id": "d7928c69-a721-47d5-ab0c-909536ec3e53",
   "metadata": {},
   "source": [
    "Amswer=  List of five function of pandas library ..."
   ]
  },
  {
   "cell_type": "markdown",
   "id": "a4771c30-9fd6-440f-826a-0db7a9ece12b",
   "metadata": {},
   "source": [
    "1.read_csv(): This function is used to read a CSV file and convert it into a DataFrame."
   ]
  },
  {
   "cell_type": "code",
   "execution_count": 1,
   "id": "224fbec7-5781-4b2a-b70a-f32e76caf24a",
   "metadata": {},
   "outputs": [],
   "source": [
    "import pandas as pd\n",
    "df = pd.read_csv(\"taxonomy.csv\")"
   ]
  },
  {
   "cell_type": "markdown",
   "id": "07af0703-ee84-44ba-8ad0-542bb1618c9c",
   "metadata": {},
   "source": [
    "2.head(): This function returns the first few rows of a DataFrame."
   ]
  },
  {
   "cell_type": "code",
   "execution_count": 2,
   "id": "9ebffcae-06c5-48a5-8573-dd8787459d4a",
   "metadata": {},
   "outputs": [
    {
     "data": {
      "text/html": [
       "<div>\n",
       "<style scoped>\n",
       "    .dataframe tbody tr th:only-of-type {\n",
       "        vertical-align: middle;\n",
       "    }\n",
       "\n",
       "    .dataframe tbody tr th {\n",
       "        vertical-align: top;\n",
       "    }\n",
       "\n",
       "    .dataframe thead th {\n",
       "        text-align: right;\n",
       "    }\n",
       "</style>\n",
       "<table border=\"1\" class=\"dataframe\">\n",
       "  <thead>\n",
       "    <tr style=\"text-align: right;\">\n",
       "      <th></th>\n",
       "      <th>taxonomy_id</th>\n",
       "      <th>name</th>\n",
       "      <th>parent_id</th>\n",
       "      <th>parent_name</th>\n",
       "    </tr>\n",
       "  </thead>\n",
       "  <tbody>\n",
       "    <tr>\n",
       "      <th>0</th>\n",
       "      <td>101</td>\n",
       "      <td>Emergency</td>\n",
       "      <td>NaN</td>\n",
       "      <td>NaN</td>\n",
       "    </tr>\n",
       "    <tr>\n",
       "      <th>1</th>\n",
       "      <td>101-01</td>\n",
       "      <td>Disaster Response</td>\n",
       "      <td>101</td>\n",
       "      <td>Emergency</td>\n",
       "    </tr>\n",
       "    <tr>\n",
       "      <th>2</th>\n",
       "      <td>101-02</td>\n",
       "      <td>Emergency Cash</td>\n",
       "      <td>101</td>\n",
       "      <td>Emergency</td>\n",
       "    </tr>\n",
       "    <tr>\n",
       "      <th>3</th>\n",
       "      <td>101-02-01</td>\n",
       "      <td>Help Pay for Food</td>\n",
       "      <td>101-02</td>\n",
       "      <td>Emergency Cash</td>\n",
       "    </tr>\n",
       "    <tr>\n",
       "      <th>4</th>\n",
       "      <td>101-02-02</td>\n",
       "      <td>Help Pay for Healthcare</td>\n",
       "      <td>101-02</td>\n",
       "      <td>Emergency Cash</td>\n",
       "    </tr>\n",
       "  </tbody>\n",
       "</table>\n",
       "</div>"
      ],
      "text/plain": [
       "  taxonomy_id                     name parent_id     parent_name\n",
       "0         101                Emergency       NaN             NaN\n",
       "1      101-01        Disaster Response       101       Emergency\n",
       "2      101-02           Emergency Cash       101       Emergency\n",
       "3   101-02-01        Help Pay for Food    101-02  Emergency Cash\n",
       "4   101-02-02  Help Pay for Healthcare    101-02  Emergency Cash"
      ]
     },
     "execution_count": 2,
     "metadata": {},
     "output_type": "execute_result"
    }
   ],
   "source": [
    "df.head()"
   ]
  },
  {
   "cell_type": "markdown",
   "id": "9911dde0-5731-4701-96e1-9ac83ea2b08b",
   "metadata": {},
   "source": [
    "3.describe(): This function generates descriptive statistics of a DataFrame."
   ]
  },
  {
   "cell_type": "code",
   "execution_count": 3,
   "id": "626ac6b6-2710-4f22-bf94-98cab0ecb5e5",
   "metadata": {},
   "outputs": [
    {
     "data": {
      "text/html": [
       "<div>\n",
       "<style scoped>\n",
       "    .dataframe tbody tr th:only-of-type {\n",
       "        vertical-align: middle;\n",
       "    }\n",
       "\n",
       "    .dataframe tbody tr th {\n",
       "        vertical-align: top;\n",
       "    }\n",
       "\n",
       "    .dataframe thead th {\n",
       "        text-align: right;\n",
       "    }\n",
       "</style>\n",
       "<table border=\"1\" class=\"dataframe\">\n",
       "  <thead>\n",
       "    <tr style=\"text-align: right;\">\n",
       "      <th></th>\n",
       "      <th>taxonomy_id</th>\n",
       "      <th>name</th>\n",
       "      <th>parent_id</th>\n",
       "      <th>parent_name</th>\n",
       "    </tr>\n",
       "  </thead>\n",
       "  <tbody>\n",
       "    <tr>\n",
       "      <th>count</th>\n",
       "      <td>290</td>\n",
       "      <td>290</td>\n",
       "      <td>279</td>\n",
       "      <td>279</td>\n",
       "    </tr>\n",
       "    <tr>\n",
       "      <th>unique</th>\n",
       "      <td>290</td>\n",
       "      <td>183</td>\n",
       "      <td>60</td>\n",
       "      <td>50</td>\n",
       "    </tr>\n",
       "    <tr>\n",
       "      <th>top</th>\n",
       "      <td>101</td>\n",
       "      <td>Nursing Home</td>\n",
       "      <td>106-06-07</td>\n",
       "      <td>Health Education</td>\n",
       "    </tr>\n",
       "    <tr>\n",
       "      <th>freq</th>\n",
       "      <td>1</td>\n",
       "      <td>4</td>\n",
       "      <td>11</td>\n",
       "      <td>15</td>\n",
       "    </tr>\n",
       "  </tbody>\n",
       "</table>\n",
       "</div>"
      ],
      "text/plain": [
       "       taxonomy_id          name  parent_id       parent_name\n",
       "count          290           290        279               279\n",
       "unique         290           183         60                50\n",
       "top            101  Nursing Home  106-06-07  Health Education\n",
       "freq             1             4         11                15"
      ]
     },
     "execution_count": 3,
     "metadata": {},
     "output_type": "execute_result"
    }
   ],
   "source": [
    "df.describe()"
   ]
  },
  {
   "cell_type": "markdown",
   "id": "b7347ab9-6477-451a-bf57-59d489d570d3",
   "metadata": {},
   "source": [
    "4.groupby(): This function is used to group data by one or more columns."
   ]
  },
  {
   "cell_type": "code",
   "execution_count": 4,
   "id": "b74d6686-c788-4e44-bf7f-69f9f0731173",
   "metadata": {},
   "outputs": [
    {
     "data": {
      "text/plain": [
       "<pandas.core.groupby.generic.DataFrameGroupBy object at 0x7f5538d6da50>"
      ]
     },
     "execution_count": 4,
     "metadata": {},
     "output_type": "execute_result"
    }
   ],
   "source": [
    "df.groupby(\"parent_name\")"
   ]
  },
  {
   "cell_type": "markdown",
   "id": "af4b9c65-6255-456e-ac58-f743d0a2a1f9",
   "metadata": {},
   "source": [
    "5.merge(): This function is used to merge two DataFrames."
   ]
  },
  {
   "cell_type": "code",
   "execution_count": 5,
   "id": "2ecbdd5a-a466-492e-8884-7585c1ad552a",
   "metadata": {},
   "outputs": [
    {
     "data": {
      "text/html": [
       "<div>\n",
       "<style scoped>\n",
       "    .dataframe tbody tr th:only-of-type {\n",
       "        vertical-align: middle;\n",
       "    }\n",
       "\n",
       "    .dataframe tbody tr th {\n",
       "        vertical-align: top;\n",
       "    }\n",
       "\n",
       "    .dataframe thead th {\n",
       "        text-align: right;\n",
       "    }\n",
       "</style>\n",
       "<table border=\"1\" class=\"dataframe\">\n",
       "  <thead>\n",
       "    <tr style=\"text-align: right;\">\n",
       "      <th></th>\n",
       "      <th>key1</th>\n",
       "      <th>key2</th>\n",
       "      <th>key3</th>\n",
       "      <th>key4</th>\n",
       "      <th>key5</th>\n",
       "    </tr>\n",
       "  </thead>\n",
       "  <tbody>\n",
       "    <tr>\n",
       "      <th>0</th>\n",
       "      <td>1</td>\n",
       "      <td>4</td>\n",
       "      <td>3</td>\n",
       "      <td>56</td>\n",
       "      <td>3</td>\n",
       "    </tr>\n",
       "    <tr>\n",
       "      <th>1</th>\n",
       "      <td>2</td>\n",
       "      <td>5</td>\n",
       "      <td>4</td>\n",
       "      <td>5</td>\n",
       "      <td>56</td>\n",
       "    </tr>\n",
       "    <tr>\n",
       "      <th>2</th>\n",
       "      <td>6</td>\n",
       "      <td>8</td>\n",
       "      <td>6</td>\n",
       "      <td>7</td>\n",
       "      <td>6</td>\n",
       "    </tr>\n",
       "  </tbody>\n",
       "</table>\n",
       "</div>"
      ],
      "text/plain": [
       "   key1  key2  key3  key4  key5\n",
       "0     1     4     3    56     3\n",
       "1     2     5     4     5    56\n",
       "2     6     8     6     7     6"
      ]
     },
     "execution_count": 5,
     "metadata": {},
     "output_type": "execute_result"
    }
   ],
   "source": [
    "data1 = pd.DataFrame({'key1':[1,2,4,5,6],\n",
    "                      'key2':[4,5,6,7,8],\n",
    "                      'key3':[3,4,5,6,6]\n",
    "})\n",
    "\n",
    "data2 = pd.DataFrame({'key1':[1,2,45,6,67],\n",
    "                      'key4':[56,5,6,7,8],\n",
    "                      'key5':[3,56,5,6,6]\n",
    "})\n",
    "\n",
    "pd.merge(data1,data2)"
   ]
  },
  {
   "cell_type": "code",
   "execution_count": null,
   "id": "c96b56e1-698c-4caa-8712-489eef84d5f0",
   "metadata": {},
   "outputs": [],
   "source": []
  },
  {
   "cell_type": "markdown",
   "id": "844f301b-c6e5-4f29-88a4-358204b2f0c2",
   "metadata": {},
   "source": [
    "Q2. Given a Pandas DataFrame df with columns 'A', 'B', and 'C', write a Python function to re-index the\n",
    "DataFrame with a new index that starts from 1 and increments by 2 for each row."
   ]
  },
  {
   "cell_type": "code",
   "execution_count": 6,
   "id": "a60a531e-5ab2-4809-964f-360e0c3d92a0",
   "metadata": {},
   "outputs": [],
   "source": [
    "import pandas as pd\n",
    "def new_index(df):\n",
    "    reindex = range(1, 2*len(df)+1, 2)\n",
    "    df.index= reindex\n",
    "    print(df)"
   ]
  },
  {
   "cell_type": "code",
   "execution_count": 7,
   "id": "2cdb1afa-c758-40b6-85d5-6de344cc7cb3",
   "metadata": {},
   "outputs": [],
   "source": [
    "data = {\"A\":[1,2,3],\n",
    "        \"B\" : [4,5,6],\n",
    "        \"c\" : [7,8,9]\n",
    "}"
   ]
  },
  {
   "cell_type": "code",
   "execution_count": 8,
   "id": "7350634a-9601-4e48-950c-9bc20d31e10c",
   "metadata": {},
   "outputs": [],
   "source": [
    "df = pd.DataFrame(data)"
   ]
  },
  {
   "cell_type": "code",
   "execution_count": 9,
   "id": "7855df3d-02da-4638-965d-87603c27a3e9",
   "metadata": {},
   "outputs": [
    {
     "data": {
      "text/html": [
       "<div>\n",
       "<style scoped>\n",
       "    .dataframe tbody tr th:only-of-type {\n",
       "        vertical-align: middle;\n",
       "    }\n",
       "\n",
       "    .dataframe tbody tr th {\n",
       "        vertical-align: top;\n",
       "    }\n",
       "\n",
       "    .dataframe thead th {\n",
       "        text-align: right;\n",
       "    }\n",
       "</style>\n",
       "<table border=\"1\" class=\"dataframe\">\n",
       "  <thead>\n",
       "    <tr style=\"text-align: right;\">\n",
       "      <th></th>\n",
       "      <th>A</th>\n",
       "      <th>B</th>\n",
       "      <th>c</th>\n",
       "    </tr>\n",
       "  </thead>\n",
       "  <tbody>\n",
       "    <tr>\n",
       "      <th>0</th>\n",
       "      <td>1</td>\n",
       "      <td>4</td>\n",
       "      <td>7</td>\n",
       "    </tr>\n",
       "    <tr>\n",
       "      <th>1</th>\n",
       "      <td>2</td>\n",
       "      <td>5</td>\n",
       "      <td>8</td>\n",
       "    </tr>\n",
       "    <tr>\n",
       "      <th>2</th>\n",
       "      <td>3</td>\n",
       "      <td>6</td>\n",
       "      <td>9</td>\n",
       "    </tr>\n",
       "  </tbody>\n",
       "</table>\n",
       "</div>"
      ],
      "text/plain": [
       "   A  B  c\n",
       "0  1  4  7\n",
       "1  2  5  8\n",
       "2  3  6  9"
      ]
     },
     "execution_count": 9,
     "metadata": {},
     "output_type": "execute_result"
    }
   ],
   "source": [
    "df"
   ]
  },
  {
   "cell_type": "code",
   "execution_count": 10,
   "id": "c3f8850b-f6eb-4200-9510-5d9351685b01",
   "metadata": {},
   "outputs": [
    {
     "name": "stdout",
     "output_type": "stream",
     "text": [
      "   A  B  c\n",
      "1  1  4  7\n",
      "3  2  5  8\n",
      "5  3  6  9\n"
     ]
    }
   ],
   "source": [
    "df = new_index(df)"
   ]
  },
  {
   "cell_type": "code",
   "execution_count": null,
   "id": "47fdfd88-46e2-41c3-8722-4e31b63e59ae",
   "metadata": {},
   "outputs": [],
   "source": []
  },
  {
   "cell_type": "markdown",
   "id": "be4f2ea9-8d43-4ac7-b392-177feb0c0e3e",
   "metadata": {},
   "source": [
    "Q3. You have a Pandas DataFrame df with a column named 'Values'. Write a Python function that\n",
    "iterates over the DataFrame and calculates the sum of the first three values in the 'Values' column. The\n",
    "function should print the sum to the console."
   ]
  },
  {
   "cell_type": "code",
   "execution_count": 11,
   "id": "b75e51b4-09f0-4ce1-8dc0-8a993a15d708",
   "metadata": {},
   "outputs": [],
   "source": [
    "def test(df):\n",
    "    value = df[\"values\"].head(3)\n",
    "    total_sum = value.sum()\n",
    "    print(f\"the sum of first three values is:{total_sum}\")"
   ]
  },
  {
   "cell_type": "code",
   "execution_count": 12,
   "id": "64afa507-e63e-4f9b-be84-b13edc9bfd75",
   "metadata": {},
   "outputs": [],
   "source": [
    "data = {\"values\":[10,20,30,40,50]}"
   ]
  },
  {
   "cell_type": "code",
   "execution_count": 13,
   "id": "190b2167-c81d-473c-886d-96d6b6f9021a",
   "metadata": {},
   "outputs": [
    {
     "name": "stdout",
     "output_type": "stream",
     "text": [
      "the sum of first three values is:60\n"
     ]
    }
   ],
   "source": [
    "df = pd.DataFrame(data)\n",
    "test(df)"
   ]
  },
  {
   "cell_type": "code",
   "execution_count": null,
   "id": "ac2cf2ae-f6c8-4915-802b-7c6c6ccc865a",
   "metadata": {},
   "outputs": [],
   "source": []
  },
  {
   "cell_type": "markdown",
   "id": "8610eafd-d960-4c2f-9f76-af185629f88e",
   "metadata": {},
   "source": [
    "Q4. Given a Pandas DataFrame df with a column 'Text', write a Python function to create a new column\n",
    "'Word_Count' that contains the number of words in each row of the 'Text' column."
   ]
  },
  {
   "cell_type": "code",
   "execution_count": 14,
   "id": "1562839d-cb7b-4162-b10a-c45f58f2305e",
   "metadata": {},
   "outputs": [],
   "source": [
    "pd.set_option(\"display.max_colwidth\",500)\n",
    "data = {\"Text\":[\"Data science is the study of data to extract meaningful insights for business. It is a multidisciplinary approach that combines principles and practices from the fields of mathematics, statistics, artificial intelligence, and computer engineering to analyze large amounts of data.\"]}"
   ]
  },
  {
   "cell_type": "code",
   "execution_count": 15,
   "id": "ff41232f-02a8-40ac-8bd8-4a4f5eb2ac69",
   "metadata": {},
   "outputs": [],
   "source": [
    " df = pd.DataFrame(data)"
   ]
  },
  {
   "cell_type": "code",
   "execution_count": 16,
   "id": "33318f4e-c18e-4545-ba0e-9a19fd0e1418",
   "metadata": {},
   "outputs": [],
   "source": [
    "df['Word_Count']=df[\"Text\"].apply(lambda x : len(x.split()))"
   ]
  },
  {
   "cell_type": "code",
   "execution_count": 17,
   "id": "0dce761d-cab3-4cc4-9bf9-920dd7d34cf0",
   "metadata": {},
   "outputs": [
    {
     "data": {
      "text/html": [
       "<div>\n",
       "<style scoped>\n",
       "    .dataframe tbody tr th:only-of-type {\n",
       "        vertical-align: middle;\n",
       "    }\n",
       "\n",
       "    .dataframe tbody tr th {\n",
       "        vertical-align: top;\n",
       "    }\n",
       "\n",
       "    .dataframe thead th {\n",
       "        text-align: right;\n",
       "    }\n",
       "</style>\n",
       "<table border=\"1\" class=\"dataframe\">\n",
       "  <thead>\n",
       "    <tr style=\"text-align: right;\">\n",
       "      <th></th>\n",
       "      <th>Text</th>\n",
       "      <th>Word_Count</th>\n",
       "    </tr>\n",
       "  </thead>\n",
       "  <tbody>\n",
       "    <tr>\n",
       "      <th>0</th>\n",
       "      <td>Data science is the study of data to extract meaningful insights for business. It is a multidisciplinary approach that combines principles and practices from the fields of mathematics, statistics, artificial intelligence, and computer engineering to analyze large amounts of data.</td>\n",
       "      <td>40</td>\n",
       "    </tr>\n",
       "  </tbody>\n",
       "</table>\n",
       "</div>"
      ],
      "text/plain": [
       "                                                                                                                                                                                                                                                                                       Text  \\\n",
       "0  Data science is the study of data to extract meaningful insights for business. It is a multidisciplinary approach that combines principles and practices from the fields of mathematics, statistics, artificial intelligence, and computer engineering to analyze large amounts of data.   \n",
       "\n",
       "   Word_Count  \n",
       "0          40  "
      ]
     },
     "execution_count": 17,
     "metadata": {},
     "output_type": "execute_result"
    }
   ],
   "source": [
    "df"
   ]
  },
  {
   "cell_type": "code",
   "execution_count": null,
   "id": "1748c21b-8a3d-4bfe-a2f7-346bdd426a80",
   "metadata": {},
   "outputs": [],
   "source": []
  },
  {
   "cell_type": "markdown",
   "id": "218697c3-96b1-4966-abb6-269a446c8ff5",
   "metadata": {},
   "source": [
    "Q5. How are DataFrame.size() and DataFrame.shape() different?"
   ]
  },
  {
   "cell_type": "markdown",
   "id": "ab4d621b-6198-4ec0-acca-7e5d25ab6f03",
   "metadata": {},
   "source": [
    "Answer -DataFrame. size:\n",
    "\n",
    "This attribute tends to calculate the size of the DataFrame to give a value equal to the number of elements.\n",
    "It is arrived at by multiplying the number of rows by the number of columns.\n",
    "That is, if the possession of a DataFrame contains 3 rows and 4 columnsthe size will be 3*4 = 12\n",
    "\n",
    "DataFrame. shape:\n",
    "\n",
    "This attribute provides a tuple that gives the number of rows and column of the DataFrame.\n",
    "The tuple contains two values: interchangeably, with ‘the number of rows’ or ‘the number of columns’.\n",
    "For instance, if a DataFrame was containing 3 rows and four columns, the shape will be (3, 4)."
   ]
  },
  {
   "cell_type": "code",
   "execution_count": null,
   "id": "34a4cfda-1808-48d6-b466-42d3c5ec302b",
   "metadata": {},
   "outputs": [],
   "source": []
  },
  {
   "cell_type": "markdown",
   "id": "5adea03c-dec8-490b-bb1f-5b9d4d373f62",
   "metadata": {},
   "source": [
    "Q6. Which function of pandas do we use to read an excel file?"
   ]
  },
  {
   "cell_type": "markdown",
   "id": "29405d73-28ec-4cef-897d-b44834635826",
   "metadata": {},
   "source": [
    "Answern = In pandas , to read an Excel file  we use the \"read_excel\" function.\n",
    " \n",
    "Example:  pandas.read_excel(\"xyz.xlsx\")"
   ]
  },
  {
   "cell_type": "code",
   "execution_count": null,
   "id": "1f5e8ce1-aa0c-4eda-ba0f-dd2338e0b12c",
   "metadata": {},
   "outputs": [],
   "source": []
  },
  {
   "cell_type": "markdown",
   "id": "5392e5aa-68be-4576-ba51-89948bef4244",
   "metadata": {},
   "source": [
    "Q7. You have a Pandas DataFrame df that contains a column named 'Email' that contains email\n",
    "addresses in the format 'username@domain.com'. Write a Python function that creates a new column\n",
    "'Username' in df that contains only the username part of each email address.\n",
    "The username is the part of the email address that appears before the '@' symbol. For example, if the\n",
    "email address is 'john.doe@example.com', the 'Username' column should contain 'john.doe'. Your\n",
    "function should extract the username from each email address and store it in the new 'Username'\n",
    "column."
   ]
  },
  {
   "cell_type": "code",
   "execution_count": 27,
   "id": "950da76a-a398-4a90-863b-850021a10c17",
   "metadata": {},
   "outputs": [],
   "source": [
    "data = {\"Email\":['sudh@gmail.cpm','Div1000@gmail.com ','john.doe@gmail.com']}"
   ]
  },
  {
   "cell_type": "code",
   "execution_count": 28,
   "id": "46e5356c-e8fa-4b6b-8453-d1b7950b469c",
   "metadata": {},
   "outputs": [],
   "source": [
    "df =pd.DataFrame(data)"
   ]
  },
  {
   "cell_type": "code",
   "execution_count": 29,
   "id": "20bbd63c-f257-4a01-9b7b-40bb069858f8",
   "metadata": {},
   "outputs": [
    {
     "data": {
      "text/html": [
       "<div>\n",
       "<style scoped>\n",
       "    .dataframe tbody tr th:only-of-type {\n",
       "        vertical-align: middle;\n",
       "    }\n",
       "\n",
       "    .dataframe tbody tr th {\n",
       "        vertical-align: top;\n",
       "    }\n",
       "\n",
       "    .dataframe thead th {\n",
       "        text-align: right;\n",
       "    }\n",
       "</style>\n",
       "<table border=\"1\" class=\"dataframe\">\n",
       "  <thead>\n",
       "    <tr style=\"text-align: right;\">\n",
       "      <th></th>\n",
       "      <th>Email</th>\n",
       "    </tr>\n",
       "  </thead>\n",
       "  <tbody>\n",
       "    <tr>\n",
       "      <th>0</th>\n",
       "      <td>sudh@gmail.cpm</td>\n",
       "    </tr>\n",
       "    <tr>\n",
       "      <th>1</th>\n",
       "      <td>Div1000@gmail.com</td>\n",
       "    </tr>\n",
       "    <tr>\n",
       "      <th>2</th>\n",
       "      <td>john.doe@gmail.com</td>\n",
       "    </tr>\n",
       "  </tbody>\n",
       "</table>\n",
       "</div>"
      ],
      "text/plain": [
       "                Email\n",
       "0      sudh@gmail.cpm\n",
       "1  Div1000@gmail.com \n",
       "2  john.doe@gmail.com"
      ]
     },
     "execution_count": 29,
     "metadata": {},
     "output_type": "execute_result"
    }
   ],
   "source": [
    "df"
   ]
  },
  {
   "cell_type": "code",
   "execution_count": 30,
   "id": "633adcdb-2bd6-455f-acd2-b8a0ba4c6349",
   "metadata": {},
   "outputs": [],
   "source": [
    "def test(df):\n",
    "    df['Username'] = df['Email'].apply(lambda x: x.split('@')[0])\n",
    "    return df"
   ]
  },
  {
   "cell_type": "code",
   "execution_count": 31,
   "id": "2480fa46-f922-46ca-abab-58a6b01fae18",
   "metadata": {},
   "outputs": [],
   "source": [
    "df1 = test(df)"
   ]
  },
  {
   "cell_type": "code",
   "execution_count": 32,
   "id": "96388aea-c60a-4bfd-bdf0-d2fb5db04ce5",
   "metadata": {},
   "outputs": [
    {
     "data": {
      "text/html": [
       "<div>\n",
       "<style scoped>\n",
       "    .dataframe tbody tr th:only-of-type {\n",
       "        vertical-align: middle;\n",
       "    }\n",
       "\n",
       "    .dataframe tbody tr th {\n",
       "        vertical-align: top;\n",
       "    }\n",
       "\n",
       "    .dataframe thead th {\n",
       "        text-align: right;\n",
       "    }\n",
       "</style>\n",
       "<table border=\"1\" class=\"dataframe\">\n",
       "  <thead>\n",
       "    <tr style=\"text-align: right;\">\n",
       "      <th></th>\n",
       "      <th>Email</th>\n",
       "      <th>Username</th>\n",
       "    </tr>\n",
       "  </thead>\n",
       "  <tbody>\n",
       "    <tr>\n",
       "      <th>0</th>\n",
       "      <td>sudh@gmail.cpm</td>\n",
       "      <td>sudh</td>\n",
       "    </tr>\n",
       "    <tr>\n",
       "      <th>1</th>\n",
       "      <td>Div1000@gmail.com</td>\n",
       "      <td>Div1000</td>\n",
       "    </tr>\n",
       "    <tr>\n",
       "      <th>2</th>\n",
       "      <td>john.doe@gmail.com</td>\n",
       "      <td>john.doe</td>\n",
       "    </tr>\n",
       "  </tbody>\n",
       "</table>\n",
       "</div>"
      ],
      "text/plain": [
       "                Email  Username\n",
       "0      sudh@gmail.cpm      sudh\n",
       "1  Div1000@gmail.com    Div1000\n",
       "2  john.doe@gmail.com  john.doe"
      ]
     },
     "execution_count": 32,
     "metadata": {},
     "output_type": "execute_result"
    }
   ],
   "source": [
    "df1"
   ]
  },
  {
   "cell_type": "code",
   "execution_count": null,
   "id": "3d285d29-41e0-4494-8c89-95d8526f9123",
   "metadata": {},
   "outputs": [],
   "source": []
  },
  {
   "cell_type": "markdown",
   "id": "d7faf2ef-6848-4ac8-be96-17e0eb067aaa",
   "metadata": {},
   "source": [
    "Q8. You have a Pandas DataFrame df with columns 'A', 'B', and 'C'. Write a Python function that selects\n",
    "all rows where the value in column 'A' is greater than 5 and the value in column 'B' is less than 10. The\n",
    "function should return a new DataFrame that contains only the selected rows."
   ]
  },
  {
   "cell_type": "markdown",
   "id": "a7b85dc6-84e2-449d-af13-ce78ecc25e14",
   "metadata": {},
   "source": [
    "For example, if df contains the following values:"
   ]
  },
  {
   "cell_type": "raw",
   "id": "3a9ea4cd-f7bc-45c2-85c7-1553c91c60bf",
   "metadata": {},
   "source": [
    "A B C\n",
    "0 3 5 1\n",
    "1 8 2 7\n",
    "2 6 9 4\n",
    "3 2 3 5\n",
    "4 9 1 2"
   ]
  },
  {
   "cell_type": "code",
   "execution_count": 38,
   "id": "f5e01b07-1edd-4ba4-aa4f-72558daad0f0",
   "metadata": {},
   "outputs": [],
   "source": [
    "d = {\n",
    "    'A': [3, 8, 6, 2, 9],\n",
    "    'B': [5, 2, 9, 3, 1],\n",
    "    'C': [1, 7, 4, 5, 2]\n",
    "}"
   ]
  },
  {
   "cell_type": "code",
   "execution_count": 39,
   "id": "83058681-6233-4e27-8d09-c8e6f206129b",
   "metadata": {},
   "outputs": [],
   "source": [
    "df = pd.DataFrame(d)\n",
    "df1 = df[(df['A'] > 5) & (df['B'] < 10)]"
   ]
  },
  {
   "cell_type": "code",
   "execution_count": 40,
   "id": "65d3e739-4a2d-48c5-8d9c-29da02d03715",
   "metadata": {},
   "outputs": [
    {
     "data": {
      "text/html": [
       "<div>\n",
       "<style scoped>\n",
       "    .dataframe tbody tr th:only-of-type {\n",
       "        vertical-align: middle;\n",
       "    }\n",
       "\n",
       "    .dataframe tbody tr th {\n",
       "        vertical-align: top;\n",
       "    }\n",
       "\n",
       "    .dataframe thead th {\n",
       "        text-align: right;\n",
       "    }\n",
       "</style>\n",
       "<table border=\"1\" class=\"dataframe\">\n",
       "  <thead>\n",
       "    <tr style=\"text-align: right;\">\n",
       "      <th></th>\n",
       "      <th>A</th>\n",
       "      <th>B</th>\n",
       "      <th>C</th>\n",
       "    </tr>\n",
       "  </thead>\n",
       "  <tbody>\n",
       "    <tr>\n",
       "      <th>1</th>\n",
       "      <td>8</td>\n",
       "      <td>2</td>\n",
       "      <td>7</td>\n",
       "    </tr>\n",
       "    <tr>\n",
       "      <th>2</th>\n",
       "      <td>6</td>\n",
       "      <td>9</td>\n",
       "      <td>4</td>\n",
       "    </tr>\n",
       "    <tr>\n",
       "      <th>4</th>\n",
       "      <td>9</td>\n",
       "      <td>1</td>\n",
       "      <td>2</td>\n",
       "    </tr>\n",
       "  </tbody>\n",
       "</table>\n",
       "</div>"
      ],
      "text/plain": [
       "   A  B  C\n",
       "1  8  2  7\n",
       "2  6  9  4\n",
       "4  9  1  2"
      ]
     },
     "execution_count": 40,
     "metadata": {},
     "output_type": "execute_result"
    }
   ],
   "source": [
    "df1"
   ]
  },
  {
   "cell_type": "code",
   "execution_count": null,
   "id": "5398248a-28c1-4c49-b6e5-5ac0b2954ed1",
   "metadata": {},
   "outputs": [],
   "source": []
  }
 ],
 "metadata": {
  "kernelspec": {
   "display_name": "Python 3 (ipykernel)",
   "language": "python",
   "name": "python3"
  },
  "language_info": {
   "codemirror_mode": {
    "name": "ipython",
    "version": 3
   },
   "file_extension": ".py",
   "mimetype": "text/x-python",
   "name": "python",
   "nbconvert_exporter": "python",
   "pygments_lexer": "ipython3",
   "version": "3.10.8"
  }
 },
 "nbformat": 4,
 "nbformat_minor": 5
}
